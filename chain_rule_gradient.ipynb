{
  "cells": [
    {
      "cell_type": "markdown",
      "metadata": {
        "id": "view-in-github",
        "colab_type": "text"
      },
      "source": [
        "<a href=\"https://colab.research.google.com/github/kimjaehwankimjaehwan/DeepLearning/blob/main/chain_rule_gradient.ipynb\" target=\"_parent\"><img src=\"https://colab.research.google.com/assets/colab-badge.svg\" alt=\"Open In Colab\"/></a>"
      ]
    },
    {
      "cell_type": "markdown",
      "id": "quNa_E0OxG8j",
      "metadata": {
        "id": "quNa_E0OxG8j"
      },
      "source": [
        "# NumPy 소개 및 설치\n",
        "NumPy는 파이썬에서 빠르고 효율적인 배열 처리 및 수학적 계산을 위한 라이브러리입니다."
      ]
    },
    {
      "cell_type": "code",
      "execution_count": null,
      "id": "oVXoi8tYxG8l",
      "metadata": {
        "colab": {
          "base_uri": "https://localhost:8080/"
        },
        "id": "oVXoi8tYxG8l",
        "outputId": "75aa2e0f-ac9e-4aa2-9e21-986ecc5d6140"
      },
      "outputs": [
        {
          "name": "stdout",
          "output_type": "stream",
          "text": [
            "Requirement already satisfied: numpy in /usr/local/lib/python3.10/dist-packages (1.26.4)\n"
          ]
        }
      ],
      "source": [
        "# NumPy 설치\n",
        "!pip install numpy"
      ]
    },
    {
      "cell_type": "code",
      "execution_count": null,
      "id": "V5wxq8b8xG8l",
      "metadata": {
        "colab": {
          "base_uri": "https://localhost:8080/"
        },
        "id": "V5wxq8b8xG8l",
        "outputId": "01cb6da4-e1d8-486a-acce-5dbbbff948e0"
      },
      "outputs": [
        {
          "name": "stdout",
          "output_type": "stream",
          "text": [
            "1.26.4\n"
          ]
        }
      ],
      "source": [
        "# NumPy 버전 확인\n",
        "import numpy as np\n",
        "print(np.__version__)"
      ]
    },
    {
      "cell_type": "markdown",
      "id": "Ms-Gj18JxG8l",
      "metadata": {
        "id": "Ms-Gj18JxG8l"
      },
      "source": [
        "## NumPy 배열 생성 및 사용 예시"
      ]
    },
    {
      "cell_type": "code",
      "execution_count": null,
      "id": "y2tGcZIvxG8m",
      "metadata": {
        "colab": {
          "base_uri": "https://localhost:8080/"
        },
        "id": "y2tGcZIvxG8m",
        "outputId": "bf2d0b69-1fcd-4a1f-f553-961ce93f81d9"
      },
      "outputs": [
        {
          "name": "stdout",
          "output_type": "stream",
          "text": [
            "[10 20 30 40 50]\n"
          ]
        }
      ],
      "source": [
        "# 1차원 배열 생성\n",
        "my_list = [10, 20, 30, 40, 50]\n",
        "np_list = np.array(my_list)\n",
        "print(np_list)"
      ]
    },
    {
      "cell_type": "code",
      "execution_count": null,
      "id": "knlu42QYxG8m",
      "metadata": {
        "colab": {
          "base_uri": "https://localhost:8080/"
        },
        "id": "knlu42QYxG8m",
        "outputId": "c68fb880-174f-4535-98c8-fddde1fcf472"
      },
      "outputs": [
        {
          "name": "stdout",
          "output_type": "stream",
          "text": [
            "[[10 20]\n",
            " [30 50]]\n"
          ]
        }
      ],
      "source": [
        "# 2차원 배열 생성\n",
        "my_list_2d = [[10, 20], [30, 50]]\n",
        "np_list_2d = np.array(my_list_2d)\n",
        "print(np_list_2d)"
      ]
    },
    {
      "cell_type": "code",
      "execution_count": null,
      "id": "XR9DoWi9xG8m",
      "metadata": {
        "colab": {
          "base_uri": "https://localhost:8080/"
        },
        "id": "XR9DoWi9xG8m",
        "outputId": "6ff694d6-1d80-46fb-ae94-b1783f306f32"
      },
      "outputs": [
        {
          "name": "stdout",
          "output_type": "stream",
          "text": [
            "50\n"
          ]
        }
      ],
      "source": [
        "# 2차원 배열에서 특정 요소에 접근\n",
        "print(np_list_2d[1][1])  # 출력: 50"
      ]
    },
    {
      "cell_type": "markdown",
      "id": "6Plc_6L9xG8m",
      "metadata": {
        "id": "6Plc_6L9xG8m"
      },
      "source": [
        "## NumPy를 사용한 기본 연산"
      ]
    },
    {
      "cell_type": "code",
      "execution_count": null,
      "id": "4uk0B1LwxG8m",
      "metadata": {
        "colab": {
          "base_uri": "https://localhost:8080/"
        },
        "id": "4uk0B1LwxG8m",
        "outputId": "f0799d42-ea5f-4813-e900-e4cac83b841d"
      },
      "outputs": [
        {
          "name": "stdout",
          "output_type": "stream",
          "text": [
            "[5 7 9]\n"
          ]
        }
      ],
      "source": [
        "# 배열 간 덧셈\n",
        "arr1 = np.array([1, 2, 3])\n",
        "arr2 = np.array([4, 5, 6])\n",
        "print(arr1 + arr2)"
      ]
    },
    {
      "cell_type": "code",
      "execution_count": null,
      "id": "XsNkJq0ZxG8n",
      "metadata": {
        "colab": {
          "base_uri": "https://localhost:8080/"
        },
        "id": "XsNkJq0ZxG8n",
        "outputId": "fb66d0de-bf5e-44f8-9ff1-724e3dcf843e"
      },
      "outputs": [
        {
          "name": "stdout",
          "output_type": "stream",
          "text": [
            "[ 4 10 18]\n"
          ]
        }
      ],
      "source": [
        "# 배열 간 곱셈\n",
        "print(arr1 * arr2)"
      ]
    },
    {
      "cell_type": "markdown",
      "id": "WM5AnLEcxG8n",
      "metadata": {
        "id": "WM5AnLEcxG8n"
      },
      "source": [
        "## NumPy에서 자주 사용되는 함수 예시"
      ]
    },
    {
      "cell_type": "code",
      "execution_count": null,
      "id": "f5aqKJxCxG8n",
      "metadata": {
        "colab": {
          "base_uri": "https://localhost:8080/"
        },
        "id": "f5aqKJxCxG8n",
        "outputId": "934086d1-6522-4636-a492-60ef159c7e5e"
      },
      "outputs": [
        {
          "name": "stdout",
          "output_type": "stream",
          "text": [
            "(2, 2)\n"
          ]
        }
      ],
      "source": [
        "# 배열의 크기 확인\n",
        "print(np_list_2d.shape)"
      ]
    },
    {
      "cell_type": "code",
      "execution_count": null,
      "id": "ZAI6a1jexG8n",
      "metadata": {
        "colab": {
          "base_uri": "https://localhost:8080/"
        },
        "id": "ZAI6a1jexG8n",
        "outputId": "a0ac901d-320f-4c0e-b185-9d0575ecb8de"
      },
      "outputs": [
        {
          "name": "stdout",
          "output_type": "stream",
          "text": [
            "110\n"
          ]
        }
      ],
      "source": [
        "# 배열 요소의 합 계산\n",
        "print(np.sum(np_list_2d))"
      ]
    },
    {
      "cell_type": "markdown",
      "id": "4RLpmhLpxG8o",
      "metadata": {
        "id": "4RLpmhLpxG8o"
      },
      "source": [
        "## NumPy로 배열 만들기\n",
        "NumPy를 임포트한 후에 NumPy를 이용하여 배열을 만들어 봅니다."
      ]
    },
    {
      "cell_type": "code",
      "execution_count": null,
      "id": "Qw8PFp2wxG8o",
      "metadata": {
        "colab": {
          "base_uri": "https://localhost:8080/"
        },
        "id": "Qw8PFp2wxG8o",
        "outputId": "9ff0eb6b-0eed-4909-9569-d4088e3756a6"
      },
      "outputs": [
        {
          "name": "stdout",
          "output_type": "stream",
          "text": [
            "[[10 20]\n",
            " [30 40]\n",
            " [50 60]]\n"
          ]
        }
      ],
      "source": [
        "# 2차원 배열 생성 예시\n",
        "my_arr = np.array([[10, 20], [30, 40], [50, 60]])\n",
        "print(my_arr)"
      ]
    },
    {
      "cell_type": "markdown",
      "id": "K55YXJ6XxG8o",
      "metadata": {
        "id": "K55YXJ6XxG8o"
      },
      "source": [
        "### 배열의 데이터 타입 확인하기\n",
        "배열이 어떻게 구성되어 있는지 확인하기 위해 `type()` 함수를 사용할 수 있습니다."
      ]
    },
    {
      "cell_type": "code",
      "execution_count": null,
      "id": "Hej8Fo0kxG8o",
      "metadata": {
        "colab": {
          "base_uri": "https://localhost:8080/"
        },
        "id": "Hej8Fo0kxG8o",
        "outputId": "8b04acd9-967f-4f9f-8bfa-04b27e5718f6"
      },
      "outputs": [
        {
          "name": "stdout",
          "output_type": "stream",
          "text": [
            "<class 'numpy.ndarray'>\n"
          ]
        }
      ],
      "source": [
        "# 배열의 데이터 타입 확인\n",
        "print(type(my_arr))"
      ]
    },
    {
      "cell_type": "markdown",
      "id": "s14RK2EqxG8o",
      "metadata": {
        "id": "s14RK2EqxG8o"
      },
      "source": [
        "### 배열의 요소에 접근하기\n",
        "배열의 특정 요소에 접근하려면 인덱스를 사용합니다."
      ]
    },
    {
      "cell_type": "code",
      "execution_count": null,
      "id": "_VzQeJpIxG8p",
      "metadata": {
        "colab": {
          "base_uri": "https://localhost:8080/"
        },
        "id": "_VzQeJpIxG8p",
        "outputId": "ebf110df-b8b4-4f5a-d21b-dfeb160fb34f"
      },
      "outputs": [
        {
          "name": "stdout",
          "output_type": "stream",
          "text": [
            "20\n"
          ]
        }
      ],
      "source": [
        "# 배열에서 요소 선택\n",
        "print(my_arr[0][1])  # 출력: 20"
      ]
    },
    {
      "cell_type": "markdown",
      "id": "JYhBLkEuxG8p",
      "metadata": {
        "id": "JYhBLkEuxG8p"
      },
      "source": [
        "### NumPy 함수 사용 예시\n",
        "NumPy에서 제공하는 다양한 함수를 활용하여 배열의 요소를 처리할 수 있습니다."
      ]
    },
    {
      "cell_type": "code",
      "execution_count": null,
      "id": "Kzri0e8CxG8p",
      "metadata": {
        "colab": {
          "base_uri": "https://localhost:8080/"
        },
        "id": "Kzri0e8CxG8p",
        "outputId": "b590133b-38e4-4714-fb19-3607a73d144f"
      },
      "outputs": [
        {
          "name": "stdout",
          "output_type": "stream",
          "text": [
            "210\n"
          ]
        }
      ],
      "source": [
        "# 배열의 모든 요소의 합 계산\n",
        "print(np.sum(my_arr))  # 출력: 210"
      ]
    },
    {
      "cell_type": "markdown",
      "id": "sggnQ3mnxG8p",
      "metadata": {
        "id": "sggnQ3mnxG8p"
      },
      "source": [
        "## Matplotlib으로 그래프 그리기\n",
        "Matplotlib을 사용하여 데이터의 시각화를 해보겠습니다."
      ]
    },
    {
      "cell_type": "code",
      "execution_count": null,
      "id": "_0WcbQrlxG8p",
      "metadata": {
        "colab": {
          "base_uri": "https://localhost:8080/",
          "height": 472
        },
        "id": "_0WcbQrlxG8p",
        "outputId": "5145c265-7dce-409a-cf3a-72cf2eb269cc"
      },
      "outputs": [
        {
          "data": {
            "image/png": "[encoded data removed]",
            "text/plain": [
              "<Figure size 640x480 with 1 Axes>"
            ]
          },
          "metadata": {},
          "output_type": "display_data"
        }
      ],
      "source": [
        "# Matplotlib 라이브러리 임포트\n",
        "import matplotlib.pyplot as plt\n",
        "\n",
        "# 간단한 선 그래프 그리기\n",
        "x = [1, 2, 3, 4, 5]\n",
        "y = [1, 4, 9, 16, 25]\n",
        "plt.plot(x, y)\n",
        "plt.title('Simple Line Graph')\n",
        "plt.xlabel('X-axis')\n",
        "plt.ylabel('Y-axis')\n",
        "plt.show()"
      ]
    },
    {
      "cell_type": "markdown",
      "id": "ayboV75UxG8p",
      "metadata": {
        "id": "ayboV75UxG8p"
      },
      "source": [
        "## Matplotlib을 이용한 다양한 그래프 그리기\n",
        "Matplotlib을 사용하여 선 그래프와 산점도 등 다양한 그래프를 그려보겠습니다."
      ]
    },
    {
      "cell_type": "markdown",
      "id": "s0CVunlRxG8p",
      "metadata": {
        "id": "s0CVunlRxG8p"
      },
      "source": [
        "### 1. 선 그래프 그리기\n",
        "선 그래프를 그리려면 x축의 값과 y축의 값을 matplotlib의 `plot()` 함수에 전달하면 됩니다."
      ]
    },
    {
      "cell_type": "code",
      "execution_count": null,
      "id": "TMhJS98LxG8q",
      "metadata": {
        "colab": {
          "base_uri": "https://localhost:8080/",
          "height": 472
        },
        "id": "TMhJS98LxG8q",
        "outputId": "d9dadc45-08c6-4c59-b480-29653673f87d"
      },
      "outputs": [
        {
          "data": {
            "image/png": "[encoded data removed]",
            "text/plain": [
              "<Figure size 640x480 with 1 Axes>"
            ]
          },
          "metadata": {},
          "output_type": "display_data"
        }
      ],
      "source": [
        "# 간단한 선 그래프 그리기\n",
        "x = [1, 2, 3, 4, 5]\n",
        "y = [1, 4, 9, 16, 25]\n",
        "plt.plot(x, y)\n",
        "plt.title('Simple Line Graph')\n",
        "plt.xlabel('X-axis')\n",
        "plt.ylabel('Y-axis')\n",
        "plt.show()"
      ]
    },
    {
      "cell_type": "markdown",
      "id": "Kdr4HdsqxG8q",
      "metadata": {
        "id": "Kdr4HdsqxG8q"
      },
      "source": [
        "### 2. 산점도 그리기\n",
        "산점도는 데이터의 분포를 시각화할 때 주로 사용됩니다. Matplotlib의 `scatter()` 함수를 사용하면 됩니다."
      ]
    },
    {
      "cell_type": "code",
      "execution_count": null,
      "id": "O_oyI0WVxG8q",
      "metadata": {
        "colab": {
          "base_uri": "https://localhost:8080/",
          "height": 472
        },
        "id": "O_oyI0WVxG8q",
        "outputId": "4797eea5-ec86-4662-8af2-5a1c9bc6b126"
      },
      "outputs": [
        {
          "data": {
            "image/png": "[encoded data removed]",
            "text/plain": [
              "<Figure size 640x480 with 1 Axes>"
            ]
          },
          "metadata": {},
          "output_type": "display_data"
        }
      ],
      "source": [
        "# 간단한 산점도 그리기\n",
        "x = [1, 2, 3, 4, 5]\n",
        "y = [1, 4, 9, 16, 25]\n",
        "plt.scatter(x, y)\n",
        "plt.title('Simple Scatter Plot')\n",
        "plt.xlabel('X-axis')\n",
        "plt.ylabel('Y-axis')\n",
        "plt.show()"
      ]
    },
    {
      "cell_type": "markdown",
      "id": "iOD_BROnxG8q",
      "metadata": {
        "id": "iOD_BROnxG8q"
      },
      "source": [
        "### 3. 난수로 산점도 그리기\n",
        "NumPy를 사용하여 무작위로 생성된 데이터를 이용해 산점도를 그릴 수 있습니다."
      ]
    },
    {
      "cell_type": "code",
      "execution_count": null,
      "id": "GW8qAjN4xG8q",
      "metadata": {
        "colab": {
          "base_uri": "https://localhost:8080/",
          "height": 472
        },
        "id": "GW8qAjN4xG8q",
        "outputId": "426e18a3-cdb5-4af1-88ef-a7d70328dd56"
      },
      "outputs": [
        {
          "data": {
            "image/png": "[encoded data removed]",
            "text/plain": [
              "<Figure size 640x480 with 1 Axes>"
            ]
          },
          "metadata": {},
          "output_type": "display_data"
        }
      ],
      "source": [
        "# NumPy를 사용하여 난수를 생성하고 산점도 그리기\n",
        "x = np.random.randn(1000)  # 표준 정규 분포를 따르는 난수 1,000개 생성\n",
        "y = np.random.randn(1000)  # 표준 정규 분포를 따르는 난수 1,000개 생성\n",
        "plt.scatter(x, y)\n",
        "plt.title('Scatter Plot with Random Data')\n",
        "plt.xlabel('X-axis')\n",
        "plt.ylabel('Y-axis')\n",
        "plt.show()"
      ]
    },
    {
      "cell_type": "markdown",
      "id": "hkeBaWvzxG8q",
      "metadata": {
        "id": "hkeBaWvzxG8q"
      },
      "source": [
        "# 선형 회귀 분석 이해하기\n",
        "선형 회귀 분석은 두 변수 간의 관계를 직선으로 나타내는 가장 간단한 회귀 분석 방법입니다.\n",
        "회귀 직선은 일반적으로 `y = ax + b`의 형태로 표현되며, 여기서 `a`는 기울기(slope), `b`는 절편(intercept)입니다."
      ]
    },
    {
      "cell_type": "markdown",
      "id": "MOHCkmN8xG8q",
      "metadata": {
        "id": "MOHCkmN8xG8q"
      },
      "source": [
        "## 1차 함수의 예시\n",
        "아래 코드를 통해 간단한 1차 함수의 선형 회귀 그래프를 그려보겠습니다."
      ]
    },
    {
      "cell_type": "code",
      "execution_count": null,
      "id": "4IwcjTwIxG8r",
      "metadata": {
        "colab": {
          "base_uri": "https://localhost:8080/",
          "height": 472
        },
        "id": "4IwcjTwIxG8r",
        "outputId": "7f2b9805-f6a6-492a-ebf0-181eb2d47d12"
      },
      "outputs": [
        {
          "data": {
            "image/png": "[encoded data removed]",
            "text/plain": [
              "<Figure size 640x480 with 1 Axes>"
            ]
          },
          "metadata": {},
          "output_type": "display_data"
        }
      ],
      "source": [
        "# 선형 회귀를 위한 데이터 생성\n",
        "import numpy as np\n",
        "import matplotlib.pyplot as plt\n",
        "\n",
        "# 데이터 생성\n",
        "x = np.array([1, 2, 3, 4, 5])\n",
        "y = np.array([2, 3, 5, 7, 11])  # 간단한 1차 함수 형태로 데이터 설정\n",
        "\n",
        "# 산점도 그리기\n",
        "plt.scatter(x, y, color='blue')\n",
        "plt.title('Scatter Plot of Data')\n",
        "plt.xlabel('X-axis')\n",
        "plt.ylabel('Y-axis')\n",
        "plt.show()"
      ]
    },
    {
      "cell_type": "markdown",
      "id": "UMdr7xwxxG8r",
      "metadata": {
        "id": "UMdr7xwxxG8r"
      },
      "source": [
        "## 선형 회귀 모델 만들기\n",
        "이제 이 데이터에 대한 선형 회귀 모델을 만들고, 회귀선을 그려보겠습니다."
      ]
    },
    {
      "cell_type": "code",
      "execution_count": null,
      "id": "DWKE52ODxG8r",
      "metadata": {
        "colab": {
          "base_uri": "https://localhost:8080/",
          "height": 472
        },
        "id": "DWKE52ODxG8r",
        "outputId": "380e78e3-42d6-4836-c5e4-a3a0be523a78"
      },
      "outputs": [
        {
          "data": {
            "image/png": "[encoded data removed]",
            "text/plain": [
              "<Figure size 640x480 with 1 Axes>"
            ]
          },
          "metadata": {},
          "output_type": "display_data"
        }
      ],
      "source": [
        "# 선형 회귀 모델 생성\n",
        "from sklearn.linear_model import LinearRegression\n",
        "\n",
        "# 데이터 차원 변경\n",
        "x = x.reshape(-1, 1)\n",
        "\n",
        "# 모델 학습\n",
        "model = LinearRegression()\n",
        "model.fit(x, y)\n",
        "\n",
        "# 회귀선 그리기\n",
        "plt.scatter(x, y, color='blue')  # 원본 데이터 산점도\n",
        "plt.plot(x, model.predict(x), color='red')  # 회귀선 그리기\n",
        "plt.title('Linear Regression Line')\n",
        "plt.xlabel('X-axis')\n",
        "plt.ylabel('Y-axis')\n",
        "plt.show()"
      ]
    },
    {
      "cell_type": "markdown",
      "id": "D191A6EMxG8r",
      "metadata": {
        "id": "D191A6EMxG8r"
      },
      "source": [
        "위 그래프에서 파란 점들은 원본 데이터이고, 빨간 선은 해당 데이터를 기반으로 학습한 선형 회귀 모델입니다.\n",
        "이 모델은 `y = ax + b`의 형태로 X와 Y 간의 관계를 설명하는 가장 적합한 직선을 찾습니다."
      ]
    },
    {
      "cell_type": "markdown",
      "id": "gEGvWoLfxG8s",
      "metadata": {
        "id": "gEGvWoLfxG8s"
      },
      "source": [
        "# 당뇨병 환자 데이터를 이용한 선형 회귀 분석\n",
        "이번에는 당뇨병 환자의 데이터에 대한 선형 회귀 분석을 수행해 보겠습니다."
      ]
    },
    {
      "cell_type": "markdown",
      "id": "DA4oT0ZrxG8s",
      "metadata": {
        "id": "DA4oT0ZrxG8s"
      },
      "source": [
        "## 당뇨병 데이터 세트 로드하기\n",
        "scikit-learn의 내장 데이터 세트인 당뇨병 환자 데이터를 불러와 사용해 보겠습니다."
      ]
    },
    {
      "cell_type": "code",
      "execution_count": null,
      "id": "SLl_WOX8xG8s",
      "metadata": {
        "colab": {
          "base_uri": "https://localhost:8080/"
        },
        "id": "SLl_WOX8xG8s",
        "outputId": "f345a61d-e237-45ec-c637-4481864f88aa"
      },
      "outputs": [
        {
          "name": "stdout",
          "output_type": "stream",
          "text": [
            "dict_keys(['data', 'target', 'frame', 'DESCR', 'feature_names', 'data_filename', 'target_filename', 'data_module'])\n"
          ]
        }
      ],
      "source": [
        "# 필요한 라이브러리 임포트\n",
        "from sklearn.datasets import load_diabetes\n",
        "import pandas as pd\n",
        "\n",
        "# 당뇨병 데이터 로드\n",
        "diabetes = load_diabetes()\n",
        "\n",
        "# 데이터 확인\n",
        "print(diabetes.keys())  # 데이터 세트의 구성 요소 확인"
      ]
    },
    {
      "cell_type": "markdown",
      "id": "rKquEbx9xG8x",
      "metadata": {
        "id": "rKquEbx9xG8x"
      },
      "source": [
        "데이터 세트에는 'data', 'target', 'feature_names', 'DESCR' 등의 다양한 요소가 포함되어 있습니다.\n",
        "- 'data': 특성 데이터\n",
        "- 'target': 목표 값 (당뇨병 진행 정도)\n",
        "- 'feature_names': 특성의 이름"
      ]
    },
    {
      "cell_type": "code",
      "execution_count": null,
      "id": "pYOuMjwzxG8x",
      "metadata": {
        "colab": {
          "base_uri": "https://localhost:8080/",
          "height": 206
        },
        "id": "pYOuMjwzxG8x",
        "outputId": "742f4ae1-9c5a-4208-897b-f9c29de4a562"
      },
      "outputs": [
        {
          "data": {
            "application/vnd.google.colaboratory.intrinsic+json": {
              "summary": "{\n  \"name\": \"df\",\n  \"rows\": 442,\n  \"fields\": [\n    {\n      \"column\": \"age\",\n      \"properties\": {\n        \"dtype\": \"number\",\n        \"std\": 0.047619047619047644,\n        \"min\": -0.1072256316073538,\n        \"max\": 0.11072667545381144,\n        \"num_unique_values\": 58,\n        \"samples\": [\n          0.038075906433423026,\n          -0.09269547780327612,\n          0.01991321417832592\n        ],\n        \"semantic_type\": \"\",\n        \"description\": \"\"\n      }\n    },\n    {\n      \"column\": \"sex\",\n      \"properties\": {\n        \"dtype\": \"number\",\n        \"std\": 0.047619047619047665,\n        \"min\": -0.044641636506989144,\n        \"max\": 0.05068011873981862,\n        \"num_unique_values\": 2,\n        \"samples\": [\n          -0.044641636506989144,\n          0.05068011873981862\n        ],\n        \"semantic_type\": \"\",\n        \"description\": \"\"\n      }\n    },\n    {\n      \"column\": \"bmi\",\n      \"properties\": {\n        \"dtype\": \"number\",\n        \"std\": 0.047619047619047616,\n        \"min\": -0.09027529589850945,\n        \"max\": 0.17055522598064407,\n        \"num_unique_values\": 163,\n        \"samples\": [\n          0.008883414898524095,\n          -0.05470749746044306\n        ],\n        \"semantic_type\": \"\",\n        \"description\": \"\"\n      }\n    },\n    {\n      \"column\": \"bp\",\n      \"properties\": {\n        \"dtype\": \"number\",\n        \"std\": 0.047619047619047596,\n        \"min\": -0.11239880254408448,\n        \"max\": 0.13204361674121307,\n        \"num_unique_values\": 100,\n        \"samples\": [\n          0.03333707926361473,\n          0.02531523648988596\n        ],\n        \"semantic_type\": \"\",\n        \"description\": \"\"\n      }\n    },\n    {\n      \"column\": \"s1\",\n      \"properties\": {\n        \"dtype\": \"number\",\n        \"std\": 0.04761904761904759,\n        \"min\": -0.12678066991651324,\n        \"max\": 0.15391371315651542,\n        \"num_unique_values\": 141,\n        \"samples\": [\n          0.041085578784023497,\n          0.08374011738825825\n        ],\n        \"semantic_type\": \"\",\n        \"description\": \"\"\n      }\n    },\n    {\n      \"column\": \"s2\",\n      \"properties\": {\n        \"dtype\": \"number\",\n        \"std\": 0.047619047619047644,\n        \"min\": -0.11561306597939897,\n        \"max\": 0.19878798965729408,\n        \"num_unique_values\": 302,\n        \"samples\": [\n          0.07415490186505921,\n          0.07008397186179521\n        ],\n        \"semantic_type\": \"\",\n        \"description\": \"\"\n      }\n    },\n    {\n      \"column\": \"s3\",\n      \"properties\": {\n        \"dtype\": \"number\",\n        \"std\": 0.047619047619047596,\n        \"min\": -0.10230705051741597,\n        \"max\": 0.18117906039727852,\n        \"num_unique_values\": 63,\n        \"samples\": [\n          0.09281975309919192,\n          0.15908923357275687\n        ],\n        \"semantic_type\": \"\",\n        \"description\": \"\"\n      }\n    },\n    {\n      \"column\": \"s4\",\n      \"properties\": {\n        \"dtype\": \"number\",\n        \"std\": 0.047619047619047616,\n        \"min\": -0.0763945037500033,\n        \"max\": 0.18523444326019867,\n        \"num_unique_values\": 66,\n        \"samples\": [\n          0.08670845052151895,\n          -0.024732934523729287\n        ],\n        \"semantic_type\": \"\",\n        \"description\": \"\"\n      }\n    },\n    {\n      \"column\": \"s5\",\n      \"properties\": {\n        \"dtype\": \"number\",\n        \"std\": 0.047619047619047616,\n        \"min\": -0.12609712083330468,\n        \"max\": 0.13359728192191356,\n        \"num_unique_values\": 184,\n        \"samples\": [\n          -0.07213275338232743,\n          -0.021395309255276825\n        ],\n        \"semantic_type\": \"\",\n        \"description\": \"\"\n      }\n    },\n    {\n      \"column\": \"s6\",\n      \"properties\": {\n        \"dtype\": \"number\",\n        \"std\": 0.047619047619047644,\n        \"min\": -0.13776722569000302,\n        \"max\": 0.13561183068907107,\n        \"num_unique_values\": 56,\n        \"samples\": [\n          -0.01764612515980379,\n          -0.09634615654165846\n        ],\n        \"semantic_type\": \"\",\n        \"description\": \"\"\n      }\n    },\n    {\n      \"column\": \"target\",\n      \"properties\": {\n        \"dtype\": \"number\",\n        \"std\": 77.09300453299109,\n        \"min\": 25.0,\n        \"max\": 346.0,\n        \"num_unique_values\": 214,\n        \"samples\": [\n          310.0,\n          140.0\n        ],\n        \"semantic_type\": \"\",\n        \"description\": \"\"\n      }\n    }\n  ]\n}",
              "type": "dataframe",
              "variable_name": "df"
            },
            "text/html": [
              "\n",
              "  <div id=\"df-8432e364-df5f-40ca-90ee-a6551423c003\" class=\"colab-df-container\">\n",
              "    <div>\n",
              "<style scoped>\n",
              "    .dataframe tbody tr th:only-of-type {\n",
              "        vertical-align: middle;\n",
              "    }\n",
              "\n",
              "    .dataframe tbody tr th {\n",
              "        vertical-align: top;\n",
              "    }\n",
              "\n",
              "    .dataframe thead th {\n",
              "        text-align: right;\n",
              "    }\n",
              "</style>\n",
              "<table border=\"1\" class=\"dataframe\">\n",
              "  <thead>\n",
              "    <tr style=\"text-align: right;\">\n",
              "      <th></th>\n",
              "      <th>age</th>\n",
              "      <th>sex</th>\n",
              "      <th>bmi</th>\n",
              "      <th>bp</th>\n",
              "      <th>s1</th>\n",
              "      <th>s2</th>\n",
              "      <th>s3</th>\n",
              "      <th>s4</th>\n",
              "      <th>s5</th>\n",
              "      <th>s6</th>\n",
              "      <th>target</th>\n",
              "    </tr>\n",
              "  </thead>\n",
              "  <tbody>\n",
              "    <tr>\n",
              "      <th>0</th>\n",
              "      <td>0.038076</td>\n",
              "      <td>0.050680</td>\n",
              "      <td>0.061696</td>\n",
              "      <td>0.021872</td>\n",
              "      <td>-0.044223</td>\n",
              "      <td>-0.034821</td>\n",
              "      <td>-0.043401</td>\n",
              "      <td>-0.002592</td>\n",
              "      <td>0.019907</td>\n",
              "      <td>-0.017646</td>\n",
              "      <td>151.0</td>\n",
              "    </tr>\n",
              "    <tr>\n",
              "      <th>1</th>\n",
              "      <td>-0.001882</td>\n",
              "      <td>-0.044642</td>\n",
              "      <td>-0.051474</td>\n",
              "      <td>-0.026328</td>\n",
              "      <td>-0.008449</td>\n",
              "      <td>-0.019163</td>\n",
              "      <td>0.074412</td>\n",
              "      <td>-0.039493</td>\n",
              "      <td>-0.068332</td>\n",
              "      <td>-0.092204</td>\n",
              "      <td>75.0</td>\n",
              "    </tr>\n",
              "    <tr>\n",
              "      <th>2</th>\n",
              "      <td>0.085299</td>\n",
              "      <td>0.050680</td>\n",
              "      <td>0.044451</td>\n",
              "      <td>-0.005670</td>\n",
              "      <td>-0.045599</td>\n",
              "      <td>-0.034194</td>\n",
              "      <td>-0.032356</td>\n",
              "      <td>-0.002592</td>\n",
              "      <td>0.002861</td>\n",
              "      <td>-0.025930</td>\n",
              "      <td>141.0</td>\n",
              "    </tr>\n",
              "    <tr>\n",
              "      <th>3</th>\n",
              "      <td>-0.089063</td>\n",
              "      <td>-0.044642</td>\n",
              "      <td>-0.011595</td>\n",
              "      <td>-0.036656</td>\n",
              "      <td>0.012191</td>\n",
              "      <td>0.024991</td>\n",
              "      <td>-0.036038</td>\n",
              "      <td>0.034309</td>\n",
              "      <td>0.022688</td>\n",
              "      <td>-0.009362</td>\n",
              "      <td>206.0</td>\n",
              "    </tr>\n",
              "    <tr>\n",
              "      <th>4</th>\n",
              "      <td>0.005383</td>\n",
              "      <td>-0.044642</td>\n",
              "      <td>-0.036385</td>\n",
              "      <td>0.021872</td>\n",
              "      <td>0.003935</td>\n",
              "      <td>0.015596</td>\n",
              "      <td>0.008142</td>\n",
              "      <td>-0.002592</td>\n",
              "      <td>-0.031988</td>\n",
              "      <td>-0.046641</td>\n",
              "      <td>135.0</td>\n",
              "    </tr>\n",
              "  </tbody>\n",
              "</table>\n",
              "</div>\n",
              "    <div class=\"colab-df-buttons\">\n",
              "\n",
              "  <div class=\"colab-df-container\">\n",
              "    <button class=\"colab-df-convert\" onclick=\"convertToInteractive('df-8432e364-df5f-40ca-90ee-a6551423c003')\"\n",
              "            title=\"Convert this dataframe to an interactive table.\"\n",
              "            style=\"display:none;\">\n",
              "\n",
              "  <svg xmlns=\"http://www.w3.org/2000/svg\" height=\"24px\" viewBox=\"0 -960 960 960\">\n",
              "    <path d=\"M120-120v-720h720v720H120Zm60-500h600v-160H180v160Zm220 220h160v-160H400v160Zm0 220h160v-160H400v160ZM180-400h160v-160H180v160Zm440 0h160v-160H620v160ZM180-180h160v-160H180v160Zm440 0h160v-160H620v160Z\"/>\n",
              "  </svg>\n",
              "    </button>\n",
              "\n",
              "  <style>\n",
              "    .colab-df-container {\n",
              "      display:flex;\n",
              "      gap: 12px;\n",
              "    }\n",
              "\n",
              "    .colab-df-convert {\n",
              "      background-color: #E8F0FE;\n",
              "      border: none;\n",
              "      border-radius: 50%;\n",
              "      cursor: pointer;\n",
              "      display: none;\n",
              "      fill: #1967D2;\n",
              "      height: 32px;\n",
              "      padding: 0 0 0 0;\n",
              "      width: 32px;\n",
              "    }\n",
              "\n",
              "    .colab-df-convert:hover {\n",
              "      background-color: #E2EBFA;\n",
              "      box-shadow: 0px 1px 2px rgba(60, 64, 67, 0.3), 0px 1px 3px 1px rgba(60, 64, 67, 0.15);\n",
              "      fill: #174EA6;\n",
              "    }\n",
              "\n",
              "    .colab-df-buttons div {\n",
              "      margin-bottom: 4px;\n",
              "    }\n",
              "\n",
              "    [theme=dark] .colab-df-convert {\n",
              "      background-color: #3B4455;\n",
              "      fill: #D2E3FC;\n",
              "    }\n",
              "\n",
              "    [theme=dark] .colab-df-convert:hover {\n",
              "      background-color: #434B5C;\n",
              "      box-shadow: 0px 1px 3px 1px rgba(0, 0, 0, 0.15);\n",
              "      filter: drop-shadow(0px 1px 2px rgba(0, 0, 0, 0.3));\n",
              "      fill: #FFFFFF;\n",
              "    }\n",
              "  </style>\n",
              "\n",
              "    <script>\n",
              "      const buttonEl =\n",
              "        document.querySelector('#df-8432e364-df5f-40ca-90ee-a6551423c003 button.colab-df-convert');\n",
              "      buttonEl.style.display =\n",
              "        google.colab.kernel.accessAllowed ? 'block' : 'none';\n",
              "\n",
              "      async function convertToInteractive(key) {\n",
              "        const element = document.querySelector('#df-8432e364-df5f-40ca-90ee-a6551423c003');\n",
              "        const dataTable =\n",
              "          await google.colab.kernel.invokeFunction('convertToInteractive',\n",
              "                                                    [key], {});\n",
              "        if (!dataTable) return;\n",
              "\n",
              "        const docLinkHtml = 'Like what you see? Visit the ' +\n",
              "          '<a target=\"_blank\" href=https://colab.research.google.com/notebooks/data_table.ipynb>data table notebook</a>'\n",
              "          + ' to learn more about interactive tables.';\n",
              "        element.innerHTML = '';\n",
              "        dataTable['output_type'] = 'display_data';\n",
              "        await google.colab.output.renderOutput(dataTable, element);\n",
              "        const docLink = document.createElement('div');\n",
              "        docLink.innerHTML = docLinkHtml;\n",
              "        element.appendChild(docLink);\n",
              "      }\n",
              "    </script>\n",
              "  </div>\n",
              "\n",
              "\n",
              "<div id=\"df-f91bcf13-dcf3-411b-8790-3361947cb383\">\n",
              "  <button class=\"colab-df-quickchart\" onclick=\"quickchart('df-f91bcf13-dcf3-411b-8790-3361947cb383')\"\n",
              "            title=\"Suggest charts\"\n",
              "            style=\"display:none;\">\n",
              "\n",
              "<svg xmlns=\"http://www.w3.org/2000/svg\" height=\"24px\"viewBox=\"0 0 24 24\"\n",
              "     width=\"24px\">\n",
              "    <g>\n",
              "        <path d=\"M19 3H5c-1.1 0-2 .9-2 2v14c0 1.1.9 2 2 2h14c1.1 0 2-.9 2-2V5c0-1.1-.9-2-2-2zM9 17H7v-7h2v7zm4 0h-2V7h2v10zm4 0h-2v-4h2v4z\"/>\n",
              "    </g>\n",
              "</svg>\n",
              "  </button>\n",
              "\n",
              "<style>\n",
              "  .colab-df-quickchart {\n",
              "      --bg-color: #E8F0FE;\n",
              "      --fill-color: #1967D2;\n",
              "      --hover-bg-color: #E2EBFA;\n",
              "      --hover-fill-color: #174EA6;\n",
              "      --disabled-fill-color: #AAA;\n",
              "      --disabled-bg-color: #DDD;\n",
              "  }\n",
              "\n",
              "  [theme=dark] .colab-df-quickchart {\n",
              "      --bg-color: #3B4455;\n",
              "      --fill-color: #D2E3FC;\n",
              "      --hover-bg-color: #434B5C;\n",
              "      --hover-fill-color: #FFFFFF;\n",
              "      --disabled-bg-color: #3B4455;\n",
              "      --disabled-fill-color: #666;\n",
              "  }\n",
              "\n",
              "  .colab-df-quickchart {\n",
              "    background-color: var(--bg-color);\n",
              "    border: none;\n",
              "    border-radius: 50%;\n",
              "    cursor: pointer;\n",
              "    display: none;\n",
              "    fill: var(--fill-color);\n",
              "    height: 32px;\n",
              "    padding: 0;\n",
              "    width: 32px;\n",
              "  }\n",
              "\n",
              "  .colab-df-quickchart:hover {\n",
              "    background-color: var(--hover-bg-color);\n",
              "    box-shadow: 0 1px 2px rgba(60, 64, 67, 0.3), 0 1px 3px 1px rgba(60, 64, 67, 0.15);\n",
              "    fill: var(--button-hover-fill-color);\n",
              "  }\n",
              "\n",
              "  .colab-df-quickchart-complete:disabled,\n",
              "  .colab-df-quickchart-complete:disabled:hover {\n",
              "    background-color: var(--disabled-bg-color);\n",
              "    fill: var(--disabled-fill-color);\n",
              "    box-shadow: none;\n",
              "  }\n",
              "\n",
              "  .colab-df-spinner {\n",
              "    border: 2px solid var(--fill-color);\n",
              "    border-color: transparent;\n",
              "    border-bottom-color: var(--fill-color);\n",
              "    animation:\n",
              "      spin 1s steps(1) infinite;\n",
              "  }\n",
              "\n",
              "  @keyframes spin {\n",
              "    0% {\n",
              "      border-color: transparent;\n",
              "      border-bottom-color: var(--fill-color);\n",
              "      border-left-color: var(--fill-color);\n",
              "    }\n",
              "    20% {\n",
              "      border-color: transparent;\n",
              "      border-left-color: var(--fill-color);\n",
              "      border-top-color: var(--fill-color);\n",
              "    }\n",
              "    30% {\n",
              "      border-color: transparent;\n",
              "      border-left-color: var(--fill-color);\n",
              "      border-top-color: var(--fill-color);\n",
              "      border-right-color: var(--fill-color);\n",
              "    }\n",
              "    40% {\n",
              "      border-color: transparent;\n",
              "      border-right-color: var(--fill-color);\n",
              "      border-top-color: var(--fill-color);\n",
              "    }\n",
              "    60% {\n",
              "      border-color: transparent;\n",
              "      border-right-color: var(--fill-color);\n",
              "    }\n",
              "    80% {\n",
              "      border-color: transparent;\n",
              "      border-right-color: var(--fill-color);\n",
              "      border-bottom-color: var(--fill-color);\n",
              "    }\n",
              "    90% {\n",
              "      border-color: transparent;\n",
              "      border-bottom-color: var(--fill-color);\n",
              "    }\n",
              "  }\n",
              "</style>\n",
              "\n",
              "  <script>\n",
              "    async function quickchart(key) {\n",
              "      const quickchartButtonEl =\n",
              "        document.querySelector('#' + key + ' button');\n",
              "      quickchartButtonEl.disabled = true;  // To prevent multiple clicks.\n",
              "      quickchartButtonEl.classList.add('colab-df-spinner');\n",
              "      try {\n",
              "        const charts = await google.colab.kernel.invokeFunction(\n",
              "            'suggestCharts', [key], {});\n",
              "      } catch (error) {\n",
              "        console.error('Error during call to suggestCharts:', error);\n",
              "      }\n",
              "      quickchartButtonEl.classList.remove('colab-df-spinner');\n",
              "      quickchartButtonEl.classList.add('colab-df-quickchart-complete');\n",
              "    }\n",
              "    (() => {\n",
              "      let quickchartButtonEl =\n",
              "        document.querySelector('#df-f91bcf13-dcf3-411b-8790-3361947cb383 button');\n",
              "      quickchartButtonEl.style.display =\n",
              "        google.colab.kernel.accessAllowed ? 'block' : 'none';\n",
              "    })();\n",
              "  </script>\n",
              "</div>\n",
              "\n",
              "    </div>\n",
              "  </div>\n"
            ],
            "text/plain": [
              "        age       sex       bmi        bp        s1        s2        s3  \\\n",
              "0  0.038076  0.050680  0.061696  0.021872 -0.044223 -0.034821 -0.043401   \n",
              "1 -0.001882 -0.044642 -0.051474 -0.026328 -0.008449 -0.019163  0.074412   \n",
              "2  0.085299  0.050680  0.044451 -0.005670 -0.045599 -0.034194 -0.032356   \n",
              "3 -0.089063 -0.044642 -0.011595 -0.036656  0.012191  0.024991 -0.036038   \n",
              "4  0.005383 -0.044642 -0.036385  0.021872  0.003935  0.015596  0.008142   \n",
              "\n",
              "         s4        s5        s6  target  \n",
              "0 -0.002592  0.019907 -0.017646   151.0  \n",
              "1 -0.039493 -0.068332 -0.092204    75.0  \n",
              "2 -0.002592  0.002861 -0.025930   141.0  \n",
              "3  0.034309  0.022688 -0.009362   206.0  \n",
              "4 -0.002592 -0.031988 -0.046641   135.0  "
            ]
          },
          "execution_count": 21,
          "metadata": {},
          "output_type": "execute_result"
        }
      ],
      "source": [
        "# 데이터 프레임 생성 및 확인\n",
        "df = pd.DataFrame(diabetes.data, columns=diabetes.feature_names)\n",
        "df['target'] = diabetes.target\n",
        "df.head()"
      ]
    },
    {
      "cell_type": "markdown",
      "id": "DtRnBqegxG8y",
      "metadata": {
        "id": "DtRnBqegxG8y"
      },
      "source": [
        "## 선형 회귀 모델 학습하기\n",
        "이제 당뇨병 데이터 중 하나의 특성과 목표 값 간의 선형 관계를 학습해 보겠습니다."
      ]
    },
    {
      "cell_type": "code",
      "execution_count": null,
      "id": "o2TFvXxpxG8y",
      "metadata": {
        "colab": {
          "base_uri": "https://localhost:8080/",
          "height": 472
        },
        "id": "o2TFvXxpxG8y",
        "outputId": "c09c558a-bc10-4797-f6f0-7fd0d481380e"
      },
      "outputs": [
        {
          "data": {
            "image/png": "[encoded data removed]",
            "text/plain": [
              "<Figure size 640x480 with 1 Axes>"
            ]
          },
          "metadata": {},
          "output_type": "display_data"
        }
      ],
      "source": [
        "# 필요한 라이브러리 임포트\n",
        "from sklearn.linear_model import LinearRegression\n",
        "import matplotlib.pyplot as plt\n",
        "\n",
        "# 단일 특성 선택 (예: 'bmi')\n",
        "X = df[['bmi']].values  # 'bmi' 특성\n",
        "y = df['target'].values  # 목표 값\n",
        "\n",
        "# 선형 회귀 모델 생성 및 학습\n",
        "model = LinearRegression()\n",
        "model.fit(X, y)\n",
        "\n",
        "# 회귀선 그리기\n",
        "plt.scatter(X, y, color='blue', label='Data Points')\n",
        "plt.plot(X, model.predict(X), color='red', label='Regression Line')\n",
        "plt.title('Linear Regression on Diabetes Data (BMI vs Target)')\n",
        "plt.xlabel('BMI')\n",
        "plt.ylabel('Disease Progression')\n",
        "plt.legend()\n",
        "plt.show()"
      ]
    },
    {
      "cell_type": "markdown",
      "id": "yWwh-cm2xG8y",
      "metadata": {
        "id": "yWwh-cm2xG8y"
      },
      "source": [
        "위 그래프는 당뇨병 환자의 'BMI'와 질병 진행 정도 사이의 선형 회귀 관계를 나타냅니다.\n",
        "빨간색 선은 회귀 직선을 나타내며, 파란색 점들은 원본 데이터 포인트입니다."
      ]
    },
    {
      "cell_type": "markdown",
      "id": "xz65jhvixG8y",
      "metadata": {
        "id": "xz65jhvixG8y"
      },
      "source": [
        "# 당뇨병 데이터 세트의 상세 탐색 및 분석\n",
        "이번 단계에서는 당뇨병 데이터 세트의 구조와 내용에 대해 자세히 탐색해보겠습니다."
      ]
    },
    {
      "cell_type": "markdown",
      "id": "S-m6vea_xG8y",
      "metadata": {
        "id": "S-m6vea_xG8y"
      },
      "source": [
        "## 데이터 크기 확인하기\n",
        "데이터의 크기를 확인하여 전체 데이터의 구조를 파악해보겠습니다."
      ]
    },
    {
      "cell_type": "code",
      "execution_count": null,
      "id": "lgdPKn9qxG8y",
      "metadata": {
        "colab": {
          "base_uri": "https://localhost:8080/"
        },
        "id": "lgdPKn9qxG8y",
        "outputId": "8ff59ce2-75ab-48c7-b2d9-d43cfebba372"
      },
      "outputs": [
        {
          "name": "stdout",
          "output_type": "stream",
          "text": [
            "data shape: (442, 10)\n",
            "target shape: (442,)\n"
          ]
        }
      ],
      "source": [
        "# 데이터 크기 확인\n",
        "print('data shape:', diabetes.data.shape)\n",
        "print('target shape:', diabetes.target.shape)"
      ]
    },
    {
      "cell_type": "markdown",
      "id": "77T24R5PxG8y",
      "metadata": {
        "id": "77T24R5PxG8y"
      },
      "source": [
        "이 데이터 세트는 442개의 샘플(행)과 10개의 특성(열)을 가지고 있습니다. 각 샘플은 환자의 다양한 생물학적 측정치를 나타냅니다."
      ]
    },
    {
      "cell_type": "markdown",
      "id": "-dugiaNhxG8y",
      "metadata": {
        "id": "-dugiaNhxG8y"
      },
      "source": [
        "## 샘플 데이터 확인하기\n",
        "특정 샘플의 특성 값과 목표 값이 어떻게 구성되어 있는지 확인해보겠습니다."
      ]
    },
    {
      "cell_type": "code",
      "execution_count": null,
      "id": "bXls4RAkxG8y",
      "metadata": {
        "colab": {
          "base_uri": "https://localhost:8080/"
        },
        "id": "bXls4RAkxG8y",
        "outputId": "a579f913-5803-41b0-b976-41089c95a1af"
      },
      "outputs": [
        {
          "name": "stdout",
          "output_type": "stream",
          "text": [
            "First Sample Features: [ 0.03807591  0.05068012  0.06169621  0.02187239 -0.0442235  -0.03482076\n",
            " -0.04340085 -0.00259226  0.01990749 -0.01764613]\n",
            "First Sample Target: 151.0\n"
          ]
        }
      ],
      "source": [
        "# 첫 번째 샘플의 데이터 확인\n",
        "sample_index = 0\n",
        "print('First Sample Features:', diabetes.data[sample_index])\n",
        "print('First Sample Target:', diabetes.target[sample_index])"
      ]
    },
    {
      "cell_type": "markdown",
      "id": "nuF9wYkzxG8y",
      "metadata": {
        "id": "nuF9wYkzxG8y"
      },
      "source": [
        "위 결과는 첫 번째 환자의 다양한 생물학적 특성과 해당 환자의 당뇨병 진행 상태를 보여줍니다."
      ]
    },
    {
      "cell_type": "markdown",
      "id": "QTrNUL4gxG8y",
      "metadata": {
        "id": "QTrNUL4gxG8y"
      },
      "source": [
        "## 데이터 분포 시각화하기\n",
        "각 특성의 분포를 시각화하여 데이터가 어떻게 분포되어 있는지 확인하겠습니다."
      ]
    },
    {
      "cell_type": "code",
      "execution_count": null,
      "id": "VMJT0ADAxG8y",
      "metadata": {
        "colab": {
          "base_uri": "https://localhost:8080/",
          "height": 1000
        },
        "id": "VMJT0ADAxG8y",
        "outputId": "28d11125-da5f-453d-e748-a437070dd69a"
      },
      "outputs": [
        {
          "data": {
            "image/png": "[encoded data removed]",
            "text/plain": [
              "<Figure size 1600x1000 with 10 Axes>"
            ]
          },
          "metadata": {},
          "output_type": "display_data"
        }
      ],
      "source": [
        "# 각 특성의 분포 확인 (히스토그램)\n",
        "plt.figure(figsize=(16, 10))\n",
        "for i in range(diabetes.data.shape[1]):\n",
        "    plt.subplot(2, 5, i + 1)\n",
        "    plt.hist(diabetes.data[:, i], bins=20, color='blue', alpha=0.7)\n",
        "    plt.title(diabetes.feature_names[i])\n",
        "plt.tight_layout()\n",
        "plt.show()"
      ]
    },
    {
      "cell_type": "markdown",
      "id": "Rb7H_MWuxG8y",
      "metadata": {
        "id": "Rb7H_MWuxG8y"
      },
      "source": [
        "위 히스토그램은 각 특성(feature)의 데이터 분포를 보여줍니다. 이를 통해 각 특성의 데이터가 어떻게 분포되어 있는지 이해할 수 있습니다."
      ]
    },
    {
      "cell_type": "markdown",
      "id": "llj8AvKyxG8y",
      "metadata": {
        "id": "llj8AvKyxG8y"
      },
      "source": [
        "# 당뇨병 데이터로 선형 회귀 모델 학습 및 평가\n",
        "이제 당뇨병 데이터 세트를 사용하여 선형 회귀 모델을 학습시키고, 모델의 성능을 평가해 보겠습니다."
      ]
    },
    {
      "cell_type": "markdown",
      "id": "CiPKKGvnxG8z",
      "metadata": {
        "id": "CiPKKGvnxG8z"
      },
      "source": [
        "## 훈련 데이터와 테스트 데이터 분리하기\n",
        "전체 데이터 중 일부는 모델 훈련에 사용하고, 일부는 모델 평가에 사용하기 위해 데이터를 훈련 세트와 테스트 세트로 나누겠습니다."
      ]
    },
    {
      "cell_type": "code",
      "execution_count": null,
      "id": "nj1Cyti-xG8z",
      "metadata": {
        "colab": {
          "base_uri": "https://localhost:8080/"
        },
        "id": "nj1Cyti-xG8z",
        "outputId": "d2565e88-6e98-4268-b00c-1b3a85ec5dc6"
      },
      "outputs": [
        {
          "name": "stdout",
          "output_type": "stream",
          "text": [
            "Training data shape: (353, 10), Training target shape: (353,)\n",
            "Test data shape: (89, 10), Test target shape: (89,)\n"
          ]
        }
      ],
      "source": [
        "# 필요한 라이브러리 임포트\n",
        "from sklearn.model_selection import train_test_split\n",
        "\n",
        "# 입력 데이터와 타겟 데이터 준비\n",
        "X = diabetes.data  # 입력 데이터\n",
        "y = diabetes.target  # 타겟 데이터\n",
        "\n",
        "# 훈련 세트와 테스트 세트로 분리 (8:2 비율)\n",
        "X_train, X_test, y_train, y_test = train_test_split(X, y, test_size=0.2, random_state=42)\n",
        "print(f'Training data shape: {X_train.shape}, Training target shape: {y_train.shape}')\n",
        "print(f'Test data shape: {X_test.shape}, Test target shape: {y_test.shape}')"
      ]
    },
    {
      "cell_type": "markdown",
      "id": "Tg1WdRy2xG8z",
      "metadata": {
        "id": "Tg1WdRy2xG8z"
      },
      "source": [
        "## 선형 회귀 모델 학습하기\n",
        "훈련 데이터를 사용하여 선형 회귀 모델을 학습시켜 보겠습니다."
      ]
    },
    {
      "cell_type": "code",
      "execution_count": null,
      "id": "5qAmtk68xG8z",
      "metadata": {
        "colab": {
          "base_uri": "https://localhost:8080/"
        },
        "id": "5qAmtk68xG8z",
        "outputId": "87dd3c03-abfb-4655-c079-553762e4cab4"
      },
      "outputs": [
        {
          "name": "stdout",
          "output_type": "stream",
          "text": [
            "Model Coefficients: [  37.90402135 -241.96436231  542.42875852  347.70384391 -931.48884588\n",
            "  518.06227698  163.41998299  275.31790158  736.1988589    48.67065743]\n",
            "Model Intercept: 151.34560453985995\n"
          ]
        }
      ],
      "source": [
        "# 선형 회귀 모델 생성 및 학습\n",
        "model = LinearRegression()\n",
        "model.fit(X_train, y_train)\n",
        "\n",
        "# 모델의 기울기와 절편 출력\n",
        "print('Model Coefficients:', model.coef_)\n",
        "print('Model Intercept:', model.intercept_)"
      ]
    },
    {
      "cell_type": "markdown",
      "id": "a0Ly73zmxG8z",
      "metadata": {
        "id": "a0Ly73zmxG8z"
      },
      "source": [
        "## 모델 평가하기\n",
        "테스트 데이터를 사용하여 모델의 예측 성능을 평가해 보겠습니다."
      ]
    },
    {
      "cell_type": "code",
      "execution_count": null,
      "id": "IgaNd5xzxG8z",
      "metadata": {
        "colab": {
          "base_uri": "https://localhost:8080/"
        },
        "id": "IgaNd5xzxG8z",
        "outputId": "e5f1fe56-b086-4140-8002-a8f6485450af"
      },
      "outputs": [
        {
          "name": "stdout",
          "output_type": "stream",
          "text": [
            "Mean Squared Error: 2900.193628493482\n",
            "R^2 Score: 0.4526027629719195\n"
          ]
        }
      ],
      "source": [
        "# 모델 예측 및 평가\n",
        "from sklearn.metrics import mean_squared_error, r2_score\n",
        "\n",
        "# 예측 수행\n",
        "y_pred = model.predict(X_test)\n",
        "\n",
        "# 평가 지표 계산\n",
        "mse = mean_squared_error(y_test, y_pred)\n",
        "r2 = r2_score(y_test, y_pred)\n",
        "\n",
        "print(f'Mean Squared Error: {mse}')\n",
        "print(f'R^2 Score: {r2}')"
      ]
    },
    {
      "cell_type": "markdown",
      "id": "nIzc1_rWxG8z",
      "metadata": {
        "id": "nIzc1_rWxG8z"
      },
      "source": [
        "평균 제곱 오차(Mean Squared Error)는 모델의 예측값과 실제 값의 차이를 제곱하여 평균한 값입니다.\n",
        "R^2 스코어는 모델이 데이터를 얼마나 잘 설명하는지를 나타내는 지표로, 1에 가까울수록 좋은 성능을 나타냅니다."
      ]
    },
    {
      "cell_type": "markdown",
      "id": "2i7GKlZJxG8z",
      "metadata": {
        "id": "2i7GKlZJxG8z"
      },
      "source": [
        "# 경사 하강법을 이용한 선형 회귀 모델 최적화\n",
        "이제 경사 하강법을 통해 선형 회귀 모델의 가중치(기울기와 절편)를 최적화하는 방법을 살펴보겠습니다."
      ]
    },
    {
      "cell_type": "markdown",
      "id": "P8cB_UAtxG8z",
      "metadata": {
        "id": "P8cB_UAtxG8z"
      },
      "source": [
        "## 경사 하강법이란?\n",
        "경사 하강법은 비용 함수(cost function)를 최소화하기 위해 반복적으로 가중치를 업데이트하는 최적화 알고리즘입니다.\n",
        "기본 아이디어는 비용 함수의 기울기를 따라 조금씩 내려가면서 최솟값을 찾는 것입니다."
      ]
    },
    {
      "cell_type": "code",
      "execution_count": null,
      "id": "t3XFsneZxG8z",
      "metadata": {
        "colab": {
          "base_uri": "https://localhost:8080/",
          "height": 472
        },
        "id": "t3XFsneZxG8z",
        "outputId": "55a5b551-6640-4b29-e2b0-6b12842365d0"
      },
      "outputs": [
        {
          "data": {
            "image/png": "[encoded data removed]",
            "text/plain": [
              "<Figure size 640x480 with 1 Axes>"
            ]
          },
          "metadata": {},
          "output_type": "display_data"
        }
      ],
      "source": [
        "# 간단한 선형 회귀 문제를 위한 데이터 생성\n",
        "import numpy as np\n",
        "import matplotlib.pyplot as plt\n",
        "\n",
        "# 데이터 생성 (y = 2x + 3 + noise)\n",
        "np.random.seed(42)  # 난수 고정\n",
        "X = 2 * np.random.rand(100, 1)\n",
        "y = 4 + 3 * X + np.random.randn(100, 1)  # 실제 방정식 y = 4 + 3X에 약간의 노이즈 추가\n",
        "\n",
        "# 데이터 시각화\n",
        "plt.scatter(X, y)\n",
        "plt.title('Generated Data for Linear Regression')\n",
        "plt.xlabel('X')\n",
        "plt.ylabel('y')\n",
        "plt.show()"
      ]
    },
    {
      "cell_type": "markdown",
      "id": "fZjwfw36xG8z",
      "metadata": {
        "id": "fZjwfw36xG8z"
      },
      "source": [
        "## 경사 하강법을 이용한 모델 학습\n",
        "학습률(learning rate)을 설정하고 경사 하강법을 반복적으로 수행하여 최적의 가중치를 찾아보겠습니다."
      ]
    },
    {
      "cell_type": "code",
      "execution_count": null,
      "id": "ePICc2Q8xG8z",
      "metadata": {
        "colab": {
          "base_uri": "https://localhost:8080/"
        },
        "id": "ePICc2Q8xG8z",
        "outputId": "1426ace6-cb9b-4cf2-d4ac-26dab53c46e5"
      },
      "outputs": [
        {
          "name": "stdout",
          "output_type": "stream",
          "text": [
            "Estimated coefficients: [[4.21509616]\n",
            " [2.77011339]]\n"
          ]
        }
      ],
      "source": [
        "# 경사 하강법을 통한 선형 회귀 구현\n",
        "learning_rate = 0.1  # 학습률\n",
        "n_iterations = 1000  # 반복 횟수\n",
        "m = 100  # 샘플 수\n",
        "\n",
        "# 초기화\n",
        "theta = np.random.randn(2, 1)  # 임의의 초기값 설정 (절편과 기울기)\n",
        "\n",
        "# 데이터에 1 추가 (절편 항 고려)\n",
        "X_b = np.c_[np.ones((m, 1)), X]  # 모든 샘플에 x0 = 1 추가\n",
        "\n",
        "for iteration in range(n_iterations):\n",
        "    gradients = 2/m * X_b.T.dot(X_b.dot(theta) - y)\n",
        "    theta = theta - learning_rate * gradients\n",
        "\n",
        "print('Estimated coefficients:', theta)"
      ]
    },
    {
      "cell_type": "markdown",
      "id": "E_RrWFtWxG8z",
      "metadata": {
        "id": "E_RrWFtWxG8z"
      },
      "source": [
        "위 결과는 경사 하강법을 통해 추정된 선형 회귀 방정식의 가중치(절편과 기울기)입니다."
      ]
    },
    {
      "cell_type": "code",
      "execution_count": null,
      "id": "LFHraNVIxG8z",
      "metadata": {
        "colab": {
          "base_uri": "https://localhost:8080/",
          "height": 472
        },
        "id": "LFHraNVIxG8z",
        "outputId": "b6aeb4e1-e475-47c4-8622-d27740de6b98"
      },
      "outputs": [
        {
          "data": {
            "image/png": "[encoded data removed]",
            "text/plain": [
              "<Figure size 640x480 with 1 Axes>"
            ]
          },
          "metadata": {},
          "output_type": "display_data"
        }
      ],
      "source": [
        "# 경사 하강법으로 추정된 회귀선 시각화\n",
        "plt.scatter(X, y)\n",
        "plt.plot(X, X_b.dot(theta), color='red', label='Regression Line')\n",
        "plt.title('Gradient Descent Fitted Line')\n",
        "plt.xlabel('X')\n",
        "plt.ylabel('y')\n",
        "plt.legend()\n",
        "plt.show()"
      ]
    },
    {
      "cell_type": "markdown",
      "id": "2I1MY9UnxG8z",
      "metadata": {
        "id": "2I1MY9UnxG8z"
      },
      "source": [
        "# 경사 하강법을 통한 w와 b의 조정 과정\n",
        "이번에는 경사 하강법을 통해 선형 회귀 모델의 가중치(w)와 절편(b)을 조정하는 과정을 상세히 살펴보겠습니다."
      ]
    },
    {
      "cell_type": "markdown",
      "id": "UiCYCbeUxG8z",
      "metadata": {
        "id": "UiCYCbeUxG8z"
      },
      "source": [
        "## 1. 초기화 단계\n",
        "처음에는 w와 b를 임의로 설정합니다. 이때 w와 b의 값은 학습이 진행됨에 따라 업데이트됩니다."
      ]
    },
    {
      "cell_type": "code",
      "execution_count": null,
      "id": "BbWfRpNxxG8z",
      "metadata": {
        "colab": {
          "base_uri": "https://localhost:8080/"
        },
        "id": "BbWfRpNxxG8z",
        "outputId": "e59f9471-05e6-4eb3-eb4e-f56f07e5e7f1"
      },
      "outputs": [
        {
          "name": "stdout",
          "output_type": "stream",
          "text": [
            "초기 w: 1.0\n",
            "초기 b: 1.0\n"
          ]
        }
      ],
      "source": [
        "# 초기화 단계\n",
        "w = 1.0  # 임의의 초기값\n",
        "b = 1.0  # 임의의 초기값\n",
        "print('초기 w:', w)\n",
        "print('초기 b:', b)"
      ]
    },
    {
      "cell_type": "markdown",
      "id": "tXhwmwfxxG80",
      "metadata": {
        "id": "tXhwmwfxxG80"
      },
      "source": [
        "## 2. 예측값 계산하기\n",
        "예측값(y_hat)은 현재의 w와 b를 사용하여 계산됩니다. 예측값이 실제 타깃 값과 얼마나 차이가 있는지 확인하는 것이 중요합니다."
      ]
    },
    {
      "cell_type": "code",
      "execution_count": null,
      "id": "fU9Ee2yCxG80",
      "metadata": {
        "colab": {
          "base_uri": "https://localhost:8080/"
        },
        "id": "fU9Ee2yCxG80",
        "outputId": "42e377f7-c8b3-4fc2-c407-474363b42352"
      },
      "outputs": [
        {
          "name": "stdout",
          "output_type": "stream",
          "text": [
            "첫 번째 샘플의 예측값 y_hat: [1.74908024]\n",
            "첫 번째 샘플의 실제 타깃값 y: [6.33428778]\n"
          ]
        }
      ],
      "source": [
        "# 첫 번째 샘플에 대한 예측값 계산\n",
        "y_hat = w * X[0] + b  # 첫 번째 샘플에 대한 예측값\n",
        "print('첫 번째 샘플의 예측값 y_hat:', y_hat)\n",
        "print('첫 번째 샘플의 실제 타깃값 y:', y[0])"
      ]
    },
    {
      "cell_type": "markdown",
      "id": "eid43rMxxG80",
      "metadata": {
        "id": "eid43rMxxG80"
      },
      "source": [
        "## 3. w 값 조정하기\n",
        "현재 w가 실제 타깃 값에 가까워지도록 w를 증가시켜서 오차를 줄이는 과정을 진행합니다."
      ]
    },
    {
      "cell_type": "code",
      "execution_count": null,
      "id": "Z_qv4dB9xG80",
      "metadata": {
        "colab": {
          "base_uri": "https://localhost:8080/"
        },
        "id": "Z_qv4dB9xG80",
        "outputId": "6d2fe93e-2a1e-4c9d-fc91-81d6054dadfa"
      },
      "outputs": [
        {
          "name": "stdout",
          "output_type": "stream",
          "text": [
            "w를 증가시켰을 때 새로운 예측값 y_hat_updated: [1.82398826]\n"
          ]
        }
      ],
      "source": [
        "# w 값을 약간 증가시켜서 새로운 예측값 계산\n",
        "w += 0.1  # w 증가\n",
        "y_hat_updated = w * X[0] + b  # 업데이트된 w로 예측값 계산\n",
        "print('w를 증가시켰을 때 새로운 예측값 y_hat_updated:', y_hat_updated)"
      ]
    },
    {
      "cell_type": "markdown",
      "id": "HYUM8qP9xG80",
      "metadata": {
        "id": "HYUM8qP9xG80"
      },
      "source": [
        "## 4. w에 따른 오차 확인\n",
        "w의 변화에 따른 예측값의 변화가 실제 타깃값에 가까워졌는지 확인합니다."
      ]
    },
    {
      "cell_type": "code",
      "execution_count": null,
      "id": "zOACLucRxG80",
      "metadata": {
        "colab": {
          "base_uri": "https://localhost:8080/"
        },
        "id": "zOACLucRxG80",
        "outputId": "eed9ab07-4f72-4f88-a603-3a2360fef971"
      },
      "outputs": [
        {
          "name": "stdout",
          "output_type": "stream",
          "text": [
            "w 변경 전의 오차: [4.58520754]\n",
            "w 변경 후의 오차: [4.51029952]\n"
          ]
        }
      ],
      "source": [
        "# 오차 계산\n",
        "error_before = abs(y[0] - y_hat)\n",
        "error_after = abs(y[0] - y_hat_updated)\n",
        "print('w 변경 전의 오차:', error_before)\n",
        "print('w 변경 후의 오차:', error_after)"
      ]
    },
    {
      "cell_type": "markdown",
      "id": "_UQp0m1YxG80",
      "metadata": {
        "id": "_UQp0m1YxG80"
      },
      "source": [
        "위 과정을 반복하여 w와 b를 계속 조정하면서 모델이 최적의 상태에 가까워지도록 경사 하강법을 수행합니다."
      ]
    },
    {
      "cell_type": "markdown",
      "id": "f9EhZJV1xG80",
      "metadata": {
        "id": "f9EhZJV1xG80"
      },
      "source": [
        "# 가중치(w)와 절편(b)의 업데이트 과정\n",
        "이번 단계에서는 경사 하강법에서 가중치와 절편이 어떻게 업데이트되는지에 대한 세부 과정을 살펴보겠습니다."
      ]
    },
    {
      "cell_type": "markdown",
      "id": "maJEK4x5xG80",
      "metadata": {
        "id": "maJEK4x5xG80"
      },
      "source": [
        "## 변화율을 이용한 가중치(w) 업데이트\n",
        "가중치(w)는 비용 함수를 최소화하기 위해 변화율(gradient)을 따라 이동합니다. 여기서 변화율은 현재 가중치에서 얼마만큼 조정해야 하는지를 나타내는 값입니다."
      ]
    },
    {
      "cell_type": "code",
      "execution_count": null,
      "id": "KroD_Zo7xG80",
      "metadata": {
        "colab": {
          "base_uri": "https://localhost:8080/"
        },
        "id": "KroD_Zo7xG80",
        "outputId": "60b7f900-3fc1-483b-d0f7-0375b909cbdd"
      },
      "outputs": [
        {
          "name": "stdout",
          "output_type": "stream",
          "text": [
            "초기 w: 1.0, 예측값 y_hat: 0.749080237694725, 실제값 y: [6.33428778], 오차: [5.58520754]\n",
            "업데이트된 w: [1.41837686]\n"
          ]
        }
      ],
      "source": [
        "# w의 초기값 설정\n",
        "w = 1.0  # 임의의 초기값\n",
        "learning_rate = 0.1  # 학습률 설정\n",
        "\n",
        "# 임의의 샘플 x와 y 값\n",
        "x_sample = X[0][0]\n",
        "y_sample = y[0]  # 첫 번째 샘플의 y 값\n",
        "\n",
        "# 현재의 예측값과 오차 계산\n",
        "y_hat = w * x_sample\n",
        "error = y_sample - y_hat\n",
        "print(f'초기 w: {w}, 예측값 y_hat: {y_hat}, 실제값 y: {y_sample}, 오차: {error}')\n",
        "\n",
        "# 변화율에 따른 w의 업데이트\n",
        "w_new = w + learning_rate * error * x_sample\n",
        "print(f'업데이트된 w: {w_new}')"
      ]
    },
    {
      "cell_type": "markdown",
      "id": "n4HLN8UFxG80",
      "metadata": {
        "id": "n4HLN8UFxG80"
      },
      "source": [
        "## 변화율을 이용한 절편(b) 업데이트\n",
        "절편(b)은 x의 값에 독립적으로 영향을 받기 때문에, 단순히 오차에 learning_rate를 곱하여 조정합니다."
      ]
    },
    {
      "cell_type": "code",
      "execution_count": null,
      "id": "Ccm-16_3xG80",
      "metadata": {
        "colab": {
          "base_uri": "https://localhost:8080/"
        },
        "id": "Ccm-16_3xG80",
        "outputId": "20b664e6-dc34-4183-860b-48e2cacfeece"
      },
      "outputs": [
        {
          "name": "stdout",
          "output_type": "stream",
          "text": [
            "업데이트된 b: [1.55852075]\n"
          ]
        }
      ],
      "source": [
        "# b의 초기값 설정\n",
        "b = 1.0  # 임의의 초기값\n",
        "\n",
        "# 변화율에 따른 b의 업데이트\n",
        "b_new = b + learning_rate * error\n",
        "print(f'업데이트된 b: {b_new}')"
      ]
    },
    {
      "cell_type": "markdown",
      "id": "LB-ZfHgexG80",
      "metadata": {
        "id": "LB-ZfHgexG80"
      },
      "source": [
        "## 반복적인 w와 b의 업데이트 과정\n",
        "이제 경사 하강법을 반복적으로 수행하여 w와 b를 지속적으로 업데이트하면서 최적의 값을 찾아가는 과정을 살펴보겠습니다."
      ]
    },
    {
      "cell_type": "code",
      "execution_count": null,
      "id": "RTWUg4FzxG80",
      "metadata": {
        "colab": {
          "base_uri": "https://localhost:8080/"
        },
        "id": "RTWUg4FzxG80",
        "outputId": "3558108a-8574-477a-fc4c-4fd323c23554"
      },
      "outputs": [
        {
          "name": "stdout",
          "output_type": "stream",
          "text": [
            "Iteration 1: w = [1.34346884], b = [1.45852075], 예측값 y_hat = 1.749080237694725, 오차 = [4.58520754]\n",
            "Iteration 2: w = [1.63331802], b = [1.84546086], 예측값 y_hat = [2.46488671], 오차 = [3.86940107]\n",
            "Iteration 3: w = [1.87791824], b = [2.17199493], 예측값 y_hat = [3.06894711], 오차 = [3.26534067]\n",
            "Iteration 4: w = [2.0843334], b = [2.44755307], 예측값 y_hat = [3.57870637], 오차 = [2.75558141]\n",
            "Iteration 5: w = [2.25852465], b = [2.68009324], 예측값 y_hat = [4.00888603], 오차 = [2.32540176]\n",
            "Iteration 6: w = [2.40552253], b = [2.87633108], 예측값 y_hat = [4.37190942], 오차 = [1.96237836]\n",
            "Iteration 7: w = [2.52957227], b = [3.04193381], 예측값 y_hat = [4.67826047], 오차 = [1.65602731]\n",
            "Iteration 8: w = [2.63425633], b = [3.18168395], 예측값 y_hat = [4.93678641], 오차 = [1.39750138]\n",
            "Iteration 9: w = [2.72259795], b = [3.2996174], 예측값 y_hat = [5.15495331], 오차 = [1.17933447]\n",
            "Iteration 10: w = [2.79714836], b = [3.39914], 예측값 y_hat = [5.33906171], 오차 = [0.99522607]\n"
          ]
        }
      ],
      "source": [
        "# 경사 하강법을 반복적으로 적용하여 w와 b 업데이트\n",
        "iterations = 10  # 반복 횟수 설정\n",
        "for i in range(iterations):\n",
        "    y_hat = w * x_sample + b  # 예측값 계산\n",
        "    error = y_sample - y_hat  # 오차 계산\n",
        "    w += learning_rate * error * x_sample  # w 업데이트\n",
        "    b += learning_rate * error  # b 업데이트\n",
        "    print(f'Iteration {i+1}: w = {w}, b = {b}, 예측값 y_hat = {y_hat}, 오차 = {error}')"
      ]
    },
    {
      "cell_type": "markdown",
      "id": "PQNqG78UxG81",
      "metadata": {
        "id": "PQNqG78UxG81"
      },
      "source": [
        "# 오차 역전파를 활용한 가중치와 절편의 효율적인 업데이트\n",
        "이번 단계에서는 오차 역전파를 통해 가중치(w)와 절편(b)을 더욱 효율적으로 업데이트하는 방법을 살펴보겠습니다."
      ]
    },
    {
      "cell_type": "markdown",
      "id": "IUN1tno4xG81",
      "metadata": {
        "id": "IUN1tno4xG81"
      },
      "source": [
        "## 오차 역전파란?\n",
        "오차 역전파는 신경망에서 출력 값과 실제 값의 차이를 역방향으로 전파하여 가중치와 절편을 조정하는 알고리즘입니다.\n",
        "이는 경사 하강법의 핵심 원리를 적용하여 각 층의 가중치와 절편을 조금씩 조정하여 오차를 최소화하는 데 사용됩니다."
      ]
    },
    {
      "cell_type": "code",
      "execution_count": null,
      "id": "HC7XhWXTxG81",
      "metadata": {
        "colab": {
          "base_uri": "https://localhost:8080/"
        },
        "id": "HC7XhWXTxG81",
        "outputId": "a40edde2-207e-4a84-f37a-2a3355aa40d7"
      },
      "outputs": [
        {
          "name": "stdout",
          "output_type": "stream",
          "text": [
            "초기 w: 1.0, 초기 b: 1.0, 예측값 y_hat: 1.749080237694725, 실제값 y: [6.33428778], 오차: [4.58520754]\n"
          ]
        }
      ],
      "source": [
        "# 초기값 설정\n",
        "w = 1.0  # 초기 가중치\n",
        "b = 1.0  # 초기 절편\n",
        "learning_rate = 0.1  # 학습률 설정\n",
        "\n",
        "# 첫 번째 샘플 x와 y 값\n",
        "x_sample = X[0][0]\n",
        "y_sample = y[0]\n",
        "\n",
        "# 예측값과 오차 계산\n",
        "y_hat = w * x_sample + b\n",
        "error = y_sample - y_hat\n",
        "print(f'초기 w: {w}, 초기 b: {b}, 예측값 y_hat: {y_hat}, 실제값 y: {y_sample}, 오차: {error}')"
      ]
    },
    {
      "cell_type": "markdown",
      "id": "oscRR4IZxG81",
      "metadata": {
        "id": "oscRR4IZxG81"
      },
      "source": [
        "## 가중치(w) 업데이트\n",
        "가중치 업데이트는 변화율을 이용해 기존 가중치를 조정하는 것입니다. 오차 역전파를 통해 가중치에 대한 변화율을 계산하고, 이를 학습률과 곱해 새로운 가중치를 얻습니다."
      ]
    },
    {
      "cell_type": "code",
      "execution_count": null,
      "id": "1sfGXJPtxG81",
      "metadata": {
        "colab": {
          "base_uri": "https://localhost:8080/"
        },
        "id": "1sfGXJPtxG81",
        "outputId": "65a1de17-3904-408e-c7b8-a7f810c7c127"
      },
      "outputs": [
        {
          "name": "stdout",
          "output_type": "stream",
          "text": [
            "업데이트된 w: [1.34346884]\n"
          ]
        }
      ],
      "source": [
        "# 가중치 w의 변화율 적용\n",
        "w_new = w + learning_rate * error * x_sample\n",
        "print(f'업데이트된 w: {w_new}')"
      ]
    },
    {
      "cell_type": "markdown",
      "id": "dnbn7tuJxG81",
      "metadata": {
        "id": "dnbn7tuJxG81"
      },
      "source": [
        "## 절편(b) 업데이트\n",
        "절편 또한 오차를 줄이는 방향으로 조정되며, 이는 학습률과 오차의 곱을 통해 결정됩니다."
      ]
    },
    {
      "cell_type": "code",
      "execution_count": null,
      "id": "7pI0xUspxG81",
      "metadata": {
        "colab": {
          "base_uri": "https://localhost:8080/"
        },
        "id": "7pI0xUspxG81",
        "outputId": "82e1ae2a-4eca-44b3-c375-58152d5d4b1b"
      },
      "outputs": [
        {
          "name": "stdout",
          "output_type": "stream",
          "text": [
            "업데이트된 b: [1.45852075]\n"
          ]
        }
      ],
      "source": [
        "# 절편 b의 변화율 적용\n",
        "b_new = b + learning_rate * error\n",
        "print(f'업데이트된 b: {b_new}')"
      ]
    },
    {
      "cell_type": "markdown",
      "id": "kSzZGk0-xG81",
      "metadata": {
        "id": "kSzZGk0-xG81"
      },
      "source": [
        "## 오차 역전파를 통한 반복적인 업데이트\n",
        "이제 오차 역전파를 반복적으로 적용하여 가중치와 절편을 계속 조정해 나가는 과정을 수행해 보겠습니다."
      ]
    },
    {
      "cell_type": "code",
      "execution_count": null,
      "id": "GIk4ID8lxG81",
      "metadata": {
        "colab": {
          "base_uri": "https://localhost:8080/"
        },
        "id": "GIk4ID8lxG81",
        "outputId": "04104327-3b4c-4000-f073-e0318e00fc3e"
      },
      "outputs": [
        {
          "name": "stdout",
          "output_type": "stream",
          "text": [
            "Iteration 1: w = [1.34346884], b = [1.45852075], 예측값 y_hat = 1.749080237694725, 오차 = [4.58520754]\n",
            "Iteration 2: w = [1.63331802], b = [1.84546086], 예측값 y_hat = [2.46488671], 오차 = [3.86940107]\n",
            "Iteration 3: w = [1.87791824], b = [2.17199493], 예측값 y_hat = [3.06894711], 오차 = [3.26534067]\n",
            "Iteration 4: w = [2.0843334], b = [2.44755307], 예측값 y_hat = [3.57870637], 오차 = [2.75558141]\n",
            "Iteration 5: w = [2.25852465], b = [2.68009324], 예측값 y_hat = [4.00888603], 오차 = [2.32540176]\n",
            "Iteration 6: w = [2.40552253], b = [2.87633108], 예측값 y_hat = [4.37190942], 오차 = [1.96237836]\n",
            "Iteration 7: w = [2.52957227], b = [3.04193381], 예측값 y_hat = [4.67826047], 오차 = [1.65602731]\n",
            "Iteration 8: w = [2.63425633], b = [3.18168395], 예측값 y_hat = [4.93678641], 오차 = [1.39750138]\n",
            "Iteration 9: w = [2.72259795], b = [3.2996174], 예측값 y_hat = [5.15495331], 오차 = [1.17933447]\n",
            "Iteration 10: w = [2.79714836], b = [3.39914], 예측값 y_hat = [5.33906171], 오차 = [0.99522607]\n"
          ]
        }
      ],
      "source": [
        "# 반복적인 경사 하강법 적용\n",
        "iterations = 10  # 반복 횟수 설정\n",
        "for i in range(iterations):\n",
        "    y_hat = w * x_sample + b  # 예측값 계산\n",
        "    error = y_sample - y_hat  # 오차 계산\n",
        "    w += learning_rate * error * x_sample  # 가중치 w 업데이트\n",
        "    b += learning_rate * error  # 절편 b 업데이트\n",
        "    print(f'Iteration {i+1}: w = {w}, b = {b}, 예측값 y_hat = {y_hat}, 오차 = {error}')"
      ]
    },
    {
      "cell_type": "markdown",
      "id": "5BRXiyeVxG81",
      "metadata": {
        "id": "5BRXiyeVxG81"
      },
      "source": [
        "# 전체 데이터에 대한 경사 하강법 적용 및 시각화\n",
        "이제 전체 데이터 세트를 사용하여 경사 하강법을 반복적으로 적용하여 최적의 가중치(w)와 절편(b)을 찾아보겠습니다."
      ]
    },
    {
      "cell_type": "markdown",
      "id": "kfxycSzyxG81",
      "metadata": {
        "id": "kfxycSzyxG81"
      },
      "source": [
        "## 경사 하강법 반복 적용\n",
        "전체 데이터를 활용하여 경사 하강법을 100번 반복하면서 w와 b를 지속적으로 업데이트해 나가는 과정을 수행합니다."
      ]
    },
    {
      "cell_type": "code",
      "execution_count": null,
      "id": "8XGXq5FHxG81",
      "metadata": {
        "colab": {
          "base_uri": "https://localhost:8080/"
        },
        "id": "8XGXq5FHxG81",
        "outputId": "fe24a145-9e96-43ee-ff40-7dc9e10e9785"
      },
      "outputs": [
        {
          "name": "stdout",
          "output_type": "stream",
          "text": [
            "최종 업데이트된 w: [2.81703891], b: [4.24069104]\n"
          ]
        }
      ],
      "source": [
        "# 초기값 설정\n",
        "w = 1.0  # 초기 가중치\n",
        "b = 1.0  # 초기 절편\n",
        "learning_rate = 0.01  # 학습률 설정\n",
        "iterations = 100  # 반복 횟수\n",
        "\n",
        "# 전체 데이터에 대해 경사 하강법 적용\n",
        "for i in range(iterations):\n",
        "    for x_i, y_i in zip(X.flatten(), y):\n",
        "        y_hat = w * x_i + b  # 예측값 계산\n",
        "        error = y_i - y_hat  # 오차 계산\n",
        "        w += learning_rate * error * x_i  # 가중치 업데이트\n",
        "        b += learning_rate * error  # 절편 업데이트\n",
        "\n",
        "print(f'최종 업데이트된 w: {w}, b: {b}')"
      ]
    },
    {
      "cell_type": "markdown",
      "id": "XrW-6dlPxG81",
      "metadata": {
        "id": "XrW-6dlPxG81"
      },
      "source": [
        "## 결과 시각화\n",
        "최종적으로 업데이트된 w와 b를 사용하여 전체 데이터에 대한 회귀선을 그려서 시각화해 보겠습니다."
      ]
    },
    {
      "cell_type": "code",
      "execution_count": null,
      "id": "sE8fS0PJxG82",
      "metadata": {
        "colab": {
          "base_uri": "https://localhost:8080/",
          "height": 472
        },
        "id": "sE8fS0PJxG82",
        "outputId": "f4877c86-b69f-4376-db06-b14873b365be"
      },
      "outputs": [
        {
          "data": {
            "image/png": "[encoded data removed]",
            "text/plain": [
              "<Figure size 640x480 with 1 Axes>"
            ]
          },
          "metadata": {},
          "output_type": "display_data"
        }
      ],
      "source": [
        "# 전체 데이터와 회귀선 시각화\n",
        "plt.scatter(X, y, color='blue', label='Data Points')  # 원본 데이터\n",
        "plt.plot(X, w * X + b, color='red', label='Fitted Line')  # 경사 하강법으로 찾은 회귀선\n",
        "plt.title('Linear Regression with Gradient Descent')\n",
        "plt.xlabel('X')\n",
        "plt.ylabel('y')\n",
        "plt.legend()\n",
        "plt.show()"
      ]
    },
    {
      "cell_type": "markdown",
      "id": "jybIEYTjxG82",
      "metadata": {
        "id": "jybIEYTjxG82"
      },
      "source": [
        "# 최종 모델을 사용하여 새로운 데이터 포인트 예측 및 시각화\n",
        "이제 경사 하강법을 통해 학습된 최종 모델을 사용하여 새로운 데이터 포인트에 대한 예측을 수행하고, 그 결과를 산점도에 시각화해 보겠습니다."
      ]
    },
    {
      "cell_type": "markdown",
      "id": "x6adJTOxxG82",
      "metadata": {
        "id": "x6adJTOxxG82"
      },
      "source": [
        "## 새로운 데이터 포인트 예측하기\n",
        "모델이 학습된 이후, 새로운 입력 데이터 x_new에 대한 예측값을 계산해보겠습니다."
      ]
    },
    {
      "cell_type": "code",
      "execution_count": null,
      "id": "y3ejdZvPxG82",
      "metadata": {
        "colab": {
          "base_uri": "https://localhost:8080/"
        },
        "id": "y3ejdZvPxG82",
        "outputId": "772b6639-6006-4a17-b7cd-5b372c1ec75f"
      },
      "outputs": [
        {
          "name": "stdout",
          "output_type": "stream",
          "text": [
            "새로운 데이터 포인트 x_new: 0.18에 대한 예측값 y_pred: [4.74775805]\n"
          ]
        }
      ],
      "source": [
        "# 새로운 데이터 포인트\n",
        "x_new = 0.18  # 임의의 새로운 데이터 포인트\n",
        "y_pred = w * x_new + b  # 학습된 w와 b를 사용하여 예측값 계산\n",
        "print(f'새로운 데이터 포인트 x_new: {x_new}에 대한 예측값 y_pred: {y_pred}')"
      ]
    },
    {
      "cell_type": "markdown",
      "id": "q7wsZ5vWxG82",
      "metadata": {
        "id": "q7wsZ5vWxG82"
      },
      "source": [
        "## 예측 결과 시각화하기\n",
        "새로운 데이터 포인트에 대한 예측값을 기존의 데이터 산점도와 함께 시각화해보겠습니다."
      ]
    },
    {
      "cell_type": "code",
      "execution_count": null,
      "id": "hazAFrmCxG82",
      "metadata": {
        "colab": {
          "base_uri": "https://localhost:8080/",
          "height": 472
        },
        "id": "hazAFrmCxG82",
        "outputId": "7687a7c2-39ea-4915-ef79-01a8e0bfa215"
      },
      "outputs": [
        {
          "data": {
            "image/png": "[encoded data removed]",
            "text/plain": [
              "<Figure size 640x480 with 1 Axes>"
            ]
          },
          "metadata": {},
          "output_type": "display_data"
        }
      ],
      "source": [
        "# 기존 데이터와 새로운 예측값을 시각화\n",
        "plt.scatter(X, y, color='blue', label='Training Data')  # 기존 데이터 산점도\n",
        "plt.plot(X, w * X + b, color='red', label='Fitted Line')  # 학습된 회귀선\n",
        "plt.scatter(x_new, y_pred, color='green', marker='x', s=100, label='New Prediction')  # 새로운 데이터 포인트 예측값\n",
        "plt.title('Linear Regression Prediction Visualization')\n",
        "plt.xlabel('X')\n",
        "plt.ylabel('y')\n",
        "plt.legend()\n",
        "plt.show()"
      ]
    },
    {
      "cell_type": "markdown",
      "id": "Lg23xssXxG82",
      "metadata": {
        "id": "Lg23xssXxG82"
      },
      "source": [
        "# 손실 함수와 경사 하강법의 관계\n",
        "이번 단계에서는 선형 회귀 모델에서 사용되는 손실 함수인 Squared Error와 경사 하강법의 관계를 살펴보겠습니다."
      ]
    },
    {
      "cell_type": "markdown",
      "id": "XHctopLvxG82",
      "metadata": {
        "id": "XHctopLvxG82"
      },
      "source": [
        "## 손실 함수 (Squared Error)란?\n",
        "손실 함수는 예측값과 실제 값 사이의 차이를 측정하는 지표로 사용됩니다. 가장 일반적으로 사용되는 손실 함수는 다음과 같습니다.\n",
        "$[ SE = (y - \\hat{y})^2 ]$\n",
        "여기서 $( y $)는 실제 값이고, $( \\hat{y} $)는 예측값입니다."
      ]
    },
    {
      "cell_type": "markdown",
      "id": "rD1_czMRxG82",
      "metadata": {
        "id": "rD1_czMRxG82"
      },
      "source": [
        "## 가중치(w)에 대한 손실 함수의 미분\n",
        "경사 하강법을 사용하기 위해서는 손실 함수를 가중치에 대해 미분하여 변화율을 계산해야 합니다. 이를 통해 가중치가 어느 방향으로, 얼마나 조정되어야 하는지 알 수 있습니다.\n",
        "손실 함수 $( SE $)를 $( w $)에 대해 미분하면 다음과 같습니다.\n",
        "$[ \\frac{\\partial SE}{\\partial w} = -2(y - \\hat{y})x ]$\n",
        "이 미분 결과는 경사 하강법을 통해 가중치 $( w $)를 업데이트할 때 사용됩니다."
      ]
    },
    {
      "cell_type": "code",
      "execution_count": null,
      "id": "PAwRe1I9xG82",
      "metadata": {
        "colab": {
          "base_uri": "https://localhost:8080/"
        },
        "id": "PAwRe1I9xG82",
        "outputId": "7d1f7806-3348-429c-d0ae-1e973e0dcc53"
      },
      "outputs": [
        {
          "name": "stdout",
          "output_type": "stream",
          "text": [
            "업데이트된 w: [1.04183769]\n"
          ]
        }
      ],
      "source": [
        "# 손실 함수와 경사 하강법을 적용한 가중치 업데이트 과정\n",
        "w = 1.0  # 초기 가중치\n",
        "learning_rate = 0.01  # 학습률 설정\n",
        "\n",
        "# 첫 번째 샘플의 x와 y 값\n",
        "x_sample = X[0][0]\n",
        "y_sample = y[0]\n",
        "\n",
        "# 예측값 계산\n",
        "y_hat = w * x_sample  # 예측값\n",
        "error = y_sample - y_hat  # 실제 값과 예측값의 차이 (오차)\n",
        "\n",
        "# 손실 함수의 미분 결과를 이용한 가중치 업데이트\n",
        "w_new = w + learning_rate * error * x_sample\n",
        "print(f'업데이트된 w: {w_new}')"
      ]
    },
    {
      "cell_type": "markdown",
      "id": "ty8VjBn4xG82",
      "metadata": {
        "id": "ty8VjBn4xG82"
      },
      "source": [
        "위 과정은 경사 하강법을 이용해 가중치(w)를 손실 함수를 최소화하는 방향으로 업데이트하는 방법을 보여줍니다."
      ]
    },
    {
      "cell_type": "markdown",
      "id": "ZrsosrpmxG83",
      "metadata": {
        "id": "ZrsosrpmxG83"
      },
      "source": [
        "## 절편(b)에 대한 손실 함수의 미분\n",
        "절편(b) 역시 마찬가지로 손실 함수에 대해 미분되어 경사 하강법에 적용됩니다. 손실 함수 $( SE $)를 $( b $)에 대해 미분하면 다음과 같습니다.\n",
        "$[ \\frac{\\partial SE}{\\partial b} = -2(y - \\hat{y}) ]$\n",
        "이를 통해 절편도 경사 하강법에 따라 업데이트됩니다."
      ]
    },
    {
      "cell_type": "code",
      "execution_count": null,
      "id": "ZKG0rRCbxG83",
      "metadata": {
        "colab": {
          "base_uri": "https://localhost:8080/"
        },
        "id": "ZKG0rRCbxG83",
        "outputId": "0d6bee6d-4e78-4fa7-a892-0a96200718b4"
      },
      "outputs": [
        {
          "name": "stdout",
          "output_type": "stream",
          "text": [
            "업데이트된 b: [1.05585208]\n"
          ]
        }
      ],
      "source": [
        "# 절편 b의 업데이트 과정\n",
        "b = 1.0  # 초기 절편\n",
        "\n",
        "# 손실 함수의 미분 결과를 이용한 절편 업데이트\n",
        "b_new = b + learning_rate * error\n",
        "print(f'업데이트된 b: {b_new}')"
      ]
    },
    {
      "cell_type": "markdown",
      "id": "cRIlbmFexG83",
      "metadata": {
        "id": "cRIlbmFexG83"
      },
      "source": [
        "# 선형 회귀를 위한 Neuron 클래스 구현\n",
        "이제 앞서 배운 경사 하강법과 손실 함수를 활용하여 선형 회귀를 수행하는 Neuron 클래스를 만들어 보겠습니다."
      ]
    },
    {
      "cell_type": "markdown",
      "id": "UAeH4BsOxG83",
      "metadata": {
        "id": "UAeH4BsOxG83"
      },
      "source": [
        "## 1. 클래스 초기화 메서드 (`__init__`)\n",
        "클래스를 초기화할 때 필요한 가중치(w), 절편(b), 학습률(learning rate)을 설정해보겠습니다."
      ]
    },
    {
      "cell_type": "code",
      "execution_count": null,
      "id": "kDJDbgOTxG83",
      "metadata": {
        "id": "kDJDbgOTxG83"
      },
      "outputs": [],
      "source": [
        "# Neuron 클래스 정의\n",
        "class Neuron:\n",
        "    def __init__(self, learning_rate=0.01):\n",
        "        # 가중치와 절편 초기화\n",
        "        self.w = 1.0  # 가중치 초기값\n",
        "        self.b = 1.0  # 절편 초기값\n",
        "        self.learning_rate = learning_rate  # 학습률\n",
        "        print(f'Neuron 초기화: w={self.w}, b={self.b}, 학습률={self.learning_rate}')"
      ]
    },
    {
      "cell_type": "markdown",
      "id": "i7ZfjENQxG83",
      "metadata": {
        "id": "i7ZfjENQxG83"
      },
      "source": [
        "## 2. 예측 메서드 (`predict`)\n",
        "입력값 x에 대해 현재 가중치(w)와 절편(b)을 사용하여 예측값(y_hat)을 계산하는 메서드를 작성해보겠습니다."
      ]
    },
    {
      "cell_type": "code",
      "execution_count": null,
      "id": "QbcZDfmMxG83",
      "metadata": {
        "id": "QbcZDfmMxG83"
      },
      "outputs": [],
      "source": [
        "    def predict(self, x):\n",
        "        # 선형 회귀 예측값 계산\n",
        "        return self.w * x + self.b"
      ]
    },
    {
      "cell_type": "markdown",
      "id": "jMtiCRyOxG83",
      "metadata": {
        "id": "jMtiCRyOxG83"
      },
      "source": [
        "## 3. 경사 하강법 적용 메서드 (`update_weights`)\n",
        "손실 함수의 미분 결과를 이용하여 가중치(w)와 절편(b)을 업데이트하는 메서드를 작성해보겠습니다."
      ]
    },
    {
      "cell_type": "code",
      "execution_count": null,
      "id": "Z3uTnemcxG83",
      "metadata": {
        "id": "Z3uTnemcxG83"
      },
      "outputs": [],
      "source": [
        "    def update_weights(self, x, y):\n",
        "        # 현재 예측값 계산\n",
        "        y_hat = self.predict(x)\n",
        "        # 오차 계산\n",
        "        error = y - y_hat\n",
        "        # 경사 하강법을 이용한 가중치와 절편 업데이트\n",
        "        self.w += self.learning_rate * error * x\n",
        "        self.b += self.learning_rate * error\n",
        "        print(f'업데이트된 w: {self.w}, b: {self.b}')"
      ]
    },
    {
      "cell_type": "markdown",
      "id": "r63b8O3MxG84",
      "metadata": {
        "id": "r63b8O3MxG84"
      },
      "source": [
        "## Neuron 클래스 테스트\n",
        "이제 작성한 Neuron 클래스를 사용하여 경사 하강법을 통한 가중치와 절편 업데이트 과정을 확인해보겠습니다."
      ]
    },
    {
      "cell_type": "code",
      "execution_count": null,
      "id": "F10lGiM2xG84",
      "metadata": {
        "colab": {
          "base_uri": "https://localhost:8080/"
        },
        "id": "F10lGiM2xG84",
        "outputId": "f0b8da72-200d-421a-e54f-b6109f371c4a"
      },
      "outputs": [
        {
          "name": "stdout",
          "output_type": "stream",
          "text": [
            "초기 예측값: 0.09\n",
            "업데이트된 w: 1.01795, b: 2.8775\n",
            "업데이트 후 예측값: 3.060731\n"
          ]
        }
      ],
      "source": [
        "class Neuron:\n",
        "    def __init__(self, learning_rate=0.01):\n",
        "        self.w = 0.5  # 가중치 초기값\n",
        "        self.b = 0  # 절편 초기값\n",
        "        self.learning_rate = learning_rate\n",
        "\n",
        "    def predict(self, x):\n",
        "        # 선형 회귀 예측값 계산\n",
        "        return self.w * x + self.b\n",
        "\n",
        "    def update_weights(self, x, y):\n",
        "        # 현재 예측값 계산\n",
        "        y_hat = self.predict(x)\n",
        "        # 오차 계산\n",
        "        error = y - y_hat\n",
        "        # 경사 하강법을 이용한 가중치와 절편 업데이트\n",
        "        self.w += self.learning_rate * error * x\n",
        "        self.b += self.learning_rate * error\n",
        "        print(f'업데이트된 w: {self.w}, b: {self.b}')\n",
        "\n",
        "\n",
        "# Neuron 클래스 인스턴스 생성 및 테스트\n",
        "neuron = Neuron(learning_rate=0.01)\n",
        "x_sample = 0.18  # 임의의 입력 데이터\n",
        "y_sample = 287.84  # 임의의 실제 출력 값\n",
        "\n",
        "# 초기 예측값 확인\n",
        "print('초기 예측값:', neuron.predict(x_sample))\n",
        "\n",
        "# 경사 하강법 적용을 통한 가중치와 절편 업데이트\n",
        "neuron.update_weights(x_sample, y_sample)\n",
        "\n",
        "# 업데이트 후 예측값 확인\n",
        "print('업데이트 후 예측값:', neuron.predict(x_sample))"
      ]
    },
    {
      "cell_type": "markdown",
      "id": "oG8fc2Z1xG84",
      "metadata": {
        "id": "oG8fc2Z1xG84"
      },
      "source": [
        "# Neuron 클래스의 순전파와 역전파 메서드 구현\n",
        "이제 Neuron 클래스에 순전파(forward pass)와 역전파(backpropagation) 과정을 추가해 보겠습니다."
      ]
    },
    {
      "cell_type": "markdown",
      "id": "EWA8fS6cxG84",
      "metadata": {
        "id": "EWA8fS6cxG84"
      },
      "source": [
        "## 1. 순전파 (forpass) 메서드 구현\n",
        "순전파는 입력값을 받아 예측값을 계산하는 과정입니다. 이 과정에서는 기존의 가중치(w)와 절편(b)를 사용하여 예측값을 반환합니다."
      ]
    },
    {
      "cell_type": "code",
      "execution_count": null,
      "id": "FoVKC2AXxG84",
      "metadata": {
        "id": "FoVKC2AXxG84"
      },
      "outputs": [],
      "source": [
        "# Neuron 클래스에 순전파 메서드 추가\n",
        "class Neuron:\n",
        "    def __init__(self, learning_rate=0.01):\n",
        "        self.w = 1.0\n",
        "        self.b = 1.0\n",
        "        self.learning_rate = learning_rate\n",
        "        print(f'Neuron 초기화: w={self.w}, b={self.b}, 학습률={self.learning_rate}')\n",
        "\n",
        "    def predict(self, x):\n",
        "        return self.w * x + self.b\n",
        "\n",
        "    def forpass(self, x):\n",
        "        # 순전파: 입력값을 받아 예측값 반환\n",
        "        y_hat = self.w * x + self.b\n",
        "        return y_hat"
      ]
    },
    {
      "cell_type": "markdown",
      "id": "PqOH2bS3xG84",
      "metadata": {
        "id": "PqOH2bS3xG84"
      },
      "source": [
        "## 2. 역전파 (backprop) 메서드 구현\n",
        "역전파는 손실 함수에 대한 가중치와 절편의 변화율(gradient)을 계산하는 과정입니다."
      ]
    },
    {
      "cell_type": "code",
      "execution_count": null,
      "id": "ZZNHe7F9xG84",
      "metadata": {
        "id": "ZZNHe7F9xG84"
      },
      "outputs": [],
      "source": [
        "    def backprop(self, x, err):\n",
        "        # 역전파: 가중치와 절편의 변화율 계산\n",
        "        w_grad = x * err  # 가중치에 대한 그레디언트\n",
        "        b_grad = 1 * err  # 절편에 대한 그레디언트\n",
        "        return w_grad, b_grad"
      ]
    },
    {
      "cell_type": "markdown",
      "id": "rMTdGIkdxG84",
      "metadata": {
        "id": "rMTdGIkdxG84"
      },
      "source": [
        "## 순전파 및 역전파 메서드 테스트\n",
        "이제 작성한 Neuron 클래스의 순전파와 역전파 메서드를 사용하여 가중치와 절편의 업데이트 과정을 확인해 보겠습니다."
      ]
    },
    {
      "cell_type": "code",
      "execution_count": null,
      "id": "ip1Klvd6xG84",
      "metadata": {
        "colab": {
          "base_uri": "https://localhost:8080/"
        },
        "id": "ip1Klvd6xG84",
        "outputId": "a17e49e6-8075-43f5-c86d-5204b17c37d5"
      },
      "outputs": [
        {
          "name": "stdout",
          "output_type": "stream",
          "text": [
            "Neuron 초기화: w=1.0, b=1.0, 학습률=0.01\n",
            "순전파 예측값 y_hat: 1.18\n",
            "가중치 그레디언트 w_grad: 51.59879999999999, 절편 그레디언트 b_grad: 286.65999999999997\n"
          ]
        }
      ],
      "source": [
        "# Neuron 클래스에 순전파 및 역전파 메서드 추가\n",
        "class Neuron:\n",
        "    def __init__(self, learning_rate=0.01):\n",
        "        self.w = 1.0\n",
        "        self.b = 1.0\n",
        "        self.learning_rate = learning_rate\n",
        "        print(f'Neuron 초기화: w={self.w}, b={self.b}, 학습률={self.learning_rate}')\n",
        "\n",
        "    def predict(self, x):\n",
        "        return self.w * x + self.b\n",
        "\n",
        "    def forpass(self, x):\n",
        "        # 순전파: 입력값을 받아 예측값 반환\n",
        "        y_hat = self.w * x + self.b\n",
        "        return y_hat\n",
        "\n",
        "    def backprop(self, x, err):\n",
        "        # 역전파: 가중치와 절편의 변화율 계산\n",
        "        w_grad = x * err  # 가중치에 대한 그레디언트\n",
        "        b_grad = 1 * err  # 절편에 대한 그레디언트\n",
        "        return w_grad, b_grad # backprop 메서드를 Neuron 클래스 안으로 이동\n",
        "# Neuron 클래스 인스턴스 생성 및 테스트\n",
        "neuron = Neuron(learning_rate=0.01)\n",
        "x_sample = 0.18  # 임의의 입력 데이터\n",
        "y_sample = 287.84  # 임의의 실제 출력 값\n",
        "\n",
        "# 순전파를 통한 예측값 계산\n",
        "y_hat = neuron.forpass(x_sample)\n",
        "print(f'순전파 예측값 y_hat: {y_hat}')\n",
        "\n",
        "# 오차 계산\n",
        "err = y_sample - y_hat\n",
        "\n",
        "# 역전파를 통한 그레디언트 계산\n",
        "w_grad, b_grad = neuron.backprop(x_sample, err)\n",
        "print(f'가중치 그레디언트 w_grad: {w_grad}, 절편 그레디언트 b_grad: {b_grad}')"
      ]
    },
    {
      "cell_type": "markdown",
      "id": "nUo0rOHFxG84",
      "metadata": {
        "id": "nUo0rOHFxG84"
      },
      "source": [
        "# Neuron 클래스의 fit 메서드 구현 및 결과 시각화\n",
        "이제 Neuron 클래스에 주어진 데이터를 사용하여 모델을 학습하는 `fit` 메서드를 추가하고, 학습 결과를 시각화하는 과정을 진행하겠습니다."
      ]
    },
    {
      "cell_type": "markdown",
      "id": "gmAhQDr9xG84",
      "metadata": {
        "id": "gmAhQDr9xG84"
      },
      "source": [
        "## 1. fit 메서드 구현\n",
        "fit 메서드는 주어진 입력 데이터(x)와 타깃 데이터(y)를 사용하여 경사 하강법을 반복적으로 적용해 가중치(w)와 절편(b)을 최적화하는 역할을 합니다."
      ]
    },
    {
      "cell_type": "code",
      "execution_count": null,
      "id": "tN1LJXxjxG84",
      "metadata": {
        "id": "tN1LJXxjxG84"
      },
      "outputs": [],
      "source": [
        "# Neuron 클래스에 fit 메서드 추가\n",
        "class Neuron:\n",
        "    def __init__(self, learning_rate=0.01):\n",
        "        self.w = 1.0\n",
        "        self.b = 1.0\n",
        "        self.learning_rate = learning_rate\n",
        "        print(f'Neuron 초기화: w={self.w}, b={self.b}, 학습률={self.learning_rate}')\n",
        "\n",
        "    def forpass(self, x):\n",
        "        return self.w * x + self.b\n",
        "\n",
        "    def backprop(self, x, err):\n",
        "        w_grad = x * err\n",
        "        b_grad = 1 * err\n",
        "        return w_grad, b_grad\n",
        "\n",
        "    def fit(self, X, y, epochs=100):\n",
        "        for i in range(epochs):\n",
        "            for x_i, y_i in zip(X.flatten(), y):\n",
        "                y_hat = self.forpass(x_i)  # 순전파 계산\n",
        "                err = y_i - y_hat  # 오차 계산\n",
        "                w_grad, b_grad = self.backprop(x_i, err)  # 역전파 계산\n",
        "                self.w += self.learning_rate * w_grad  # 가중치 업데이트\n",
        "                self.b += self.learning_rate * b_grad  # 절편 업데이트\n",
        "        print(f'최종 학습된 w: {self.w}, b: {self.b}')"
      ]
    },
    {
      "cell_type": "markdown",
      "id": "1JhoBg-qxG85",
      "metadata": {
        "id": "1JhoBg-qxG85"
      },
      "source": [
        "## 2. 학습 결과 시각화\n",
        "최종 학습된 모델의 가중치와 절편을 사용하여 회귀선을 그려보겠습니다."
      ]
    },
    {
      "cell_type": "code",
      "execution_count": null,
      "id": "1pX3GjiuxG85",
      "metadata": {
        "colab": {
          "base_uri": "https://localhost:8080/",
          "height": 507
        },
        "id": "1pX3GjiuxG85",
        "outputId": "ba0c26f4-5bfe-421a-e77b-0bfdec473180"
      },
      "outputs": [
        {
          "name": "stdout",
          "output_type": "stream",
          "text": [
            "Neuron 초기화: w=1.0, b=1.0, 학습률=0.01\n",
            "최종 학습된 w: [2.81703891], b: [4.24069104]\n"
          ]
        },
        {
          "data": {
            "image/png": "[encoded data removed]",
            "text/plain": [
              "<Figure size 640x480 with 1 Axes>"
            ]
          },
          "metadata": {},
          "output_type": "display_data"
        }
      ],
      "source": [
        "# Neuron 클래스 인스턴스 생성 및 학습 수행\n",
        "neuron = Neuron(learning_rate=0.01)\n",
        "neuron.fit(X, y, epochs=100)  # 100번의 에포크 동안 학습 수행\n",
        "\n",
        "# 학습 결과 시각화\n",
        "plt.scatter(X, y, color='blue', label='Training Data')  # 기존 데이터 산점도\n",
        "plt.plot(X, neuron.w * X + neuron.b, color='red', label='Fitted Line')  # 학습된 회귀선\n",
        "plt.title('Linear Regression with Gradient Descent (Neuron Class)')\n",
        "plt.xlabel('X')\n",
        "plt.ylabel('y')\n",
        "plt.legend()\n",
        "plt.show()"
      ]
    },
    {
      "cell_type": "markdown",
      "id": "ZxJYBQoYxG85",
      "metadata": {
        "id": "ZxJYBQoYxG85"
      },
      "source": [
        "# Neuron 클래스 전체 구조 및 핵심 알고리즘 요약\n",
        "이 장에서는 지금까지 구현한 Neuron 클래스의 구조를 요약하고, 핵심 알고리즘에 대해 정리하겠습니다."
      ]
    },
    {
      "cell_type": "markdown",
      "id": "T19c_djuxG85",
      "metadata": {
        "id": "T19c_djuxG85"
      },
      "source": [
        "## Neuron 클래스의 전체 구조\n",
        "아래는 Neuron 클래스의 전체 구조를 보여줍니다. 이 클래스는 선형 회귀를 위한 경사 하강법 알고리즘을 사용하여 가중치와 절편을 최적화하는 과정을 담고 있습니다."
      ]
    },
    {
      "cell_type": "code",
      "execution_count": null,
      "id": "OLAPMsHWxG85",
      "metadata": {
        "id": "OLAPMsHWxG85"
      },
      "outputs": [],
      "source": [
        "# Neuron 클래스 전체 구조\n",
        "class Neuron:\n",
        "    def __init__(self, learning_rate=0.01):\n",
        "        self.w = 1.0\n",
        "        self.b = 1.0\n",
        "        self.learning_rate = learning_rate\n",
        "        print(f'Neuron 초기화: w={self.w}, b={self.b}, 학습률={self.learning_rate}')\n",
        "\n",
        "    def forpass(self, x):\n",
        "        return self.w * x + self.b\n",
        "\n",
        "    def backprop(self, x, err):\n",
        "        w_grad = x * err\n",
        "        b_grad = 1 * err\n",
        "        return w_grad, b_grad\n",
        "\n",
        "    def fit(self, X, y, epochs=100):\n",
        "        for i in range(epochs):\n",
        "            for x_i, y_i in zip(X.flatten(), y):\n",
        "                y_hat = self.forpass(x_i)\n",
        "                err = y_i - y_hat\n",
        "                w_grad, b_grad = self.backprop(x_i, err)\n",
        "                self.w += self.learning_rate * w_grad\n",
        "                self.b += self.learning_rate * b_grad\n",
        "        print(f'최종 학습된 w: {self.w}, b: {self.b}')"
      ]
    },
    {
      "cell_type": "markdown",
      "id": "tl5yLN9xxG85",
      "metadata": {
        "id": "tl5yLN9xxG85"
      },
      "source": [
        "## 핵심 개념 요약\n",
        "### 1. 선형 회귀\n",
        "- 선형 회귀는 주어진 데이터를 가장 잘 설명하는 직선을 찾는 방법입니다.\n",
        "- 이 직선은 $( y = wx + b $)의 형태로 표현되며, 여기서 $( w $)는 가중치, $( b $)는 절편을 의미합니다.\n",
        "- 목표는 주어진 데이터에 대해 예측한 값과 실제 값의 차이를 최소화하는 것입니다."
      ]
    },
    {
      "cell_type": "markdown",
      "id": "S3o92CX0xG85",
      "metadata": {
        "id": "S3o92CX0xG85"
      },
      "source": [
        "### 2. 경사 하강법\n",
        "- 경사 하강법은 손실 함수를 최소화하는 최적의 가중치와 절편을 찾기 위한 알고리즘입니다.\n",
        "- 손실 함수는 예측값과 실제 값의 차이를 측정하는 지표로, 가장 일반적인 손실 함수는 Mean Squared Error (MSE)입니다.\n",
        "- 경사 하강법은 가중치와 절편을 조정하는 과정을 반복하여 손실 함수를 점진적으로 줄여나갑니다."
      ]
    },
    {
      "cell_type": "markdown",
      "id": "ENz4HOVrxG85",
      "metadata": {
        "id": "ENz4HOVrxG85"
      },
      "source": [
        "### 3. 오차 역전파\n",
        "- 오차 역전파는 예측값과 실제 값 사이의 오차를 바탕으로 가중치와 절편을 업데이트하는 방법입니다.\n",
        "- 손실 함수를 가중치와 절편에 대해 미분하여 그레디언트(변화율)를 계산하고, 이를 이용해 가중치와 절편을 조정합니다.\n",
        "- 이를 통해 모델의 예측 성능을 점진적으로 개선해나갑니다."
      ]
    },
    {
      "cell_type": "markdown",
      "id": "qhw13wblxG85",
      "metadata": {
        "id": "qhw13wblxG85"
      },
      "source": [
        "## 정리\n",
        "이 장에서는 Neuron 클래스의 구조와 핵심 알고리즘에 대해 알아보았습니다. 이제 이 개념을 바탕으로 더욱 복잡한 딥러닝 모델을 구축하는 데 필요한 기초 지식을 갖추게 되었습니다."
      ]
    },
    {
      "cell_type": "markdown",
      "id": "fmK7efwFxG85",
      "metadata": {
        "id": "fmK7efwFxG85"
      },
      "source": [
        "# 분류를 위한 퍼셉트론과 로지스틱 회귀\n",
        "이번 장에서는 분류 문제를 해결하기 위한 퍼셉트론 알고리즘과 로지스틱 회귀에 대해 알아보겠습니다."
      ]
    },
    {
      "cell_type": "markdown",
      "id": "b-sQbPMxxG85",
      "metadata": {
        "id": "b-sQbPMxxG85"
      },
      "source": [
        "## 퍼셉트론에 대해 알아봅시다\n",
        "퍼셉트론은 인공 뉴런의 기본적인 구조를 가진 알고리즘으로, 입력 데이터를 기반으로 선형 분류를 수행합니다.\n",
        "1957년에 프랑크 로젠블랫(Frank Rosenblatt)에 의해 제안되었으며, 이진 분류(binary classification) 문제에 주로 사용됩니다."
      ]
    },
    {
      "cell_type": "markdown",
      "id": "xsuiTPAXxG85",
      "metadata": {
        "id": "xsuiTPAXxG85"
      },
      "source": [
        "### 퍼셉트론의 전체 구조\n",
        "- 퍼셉트론은 입력값에 가중치(w)를 곱하고 절편(b)을 더한 뒤 활성화 함수(activation function)인 계단 함수(step function)를 통해 결과값을 반환합니다.\n",
        "- 이때 퍼셉트론의 출력은 0 또는 1로 나타나며, 이를 통해 주어진 데이터가 특정 클래스에 속하는지 여부를 판별합니다.\n",
        "- 퍼셉트론의 수식은 다음과 같습니다:\n",
        "  $[ y = f(w_1x_1 + w_2x_2 + ... + w_nx_n + b) ]$\n",
        "  여기서 $(f$)는 계단 함수(step function)입니다."
      ]
    },
    {
      "cell_type": "code",
      "execution_count": null,
      "id": "5HpfRiFtxG85",
      "metadata": {
        "id": "5HpfRiFtxG85"
      },
      "outputs": [],
      "source": [
        "# 퍼셉트론 알고리즘 구현\n",
        "import numpy as np\n",
        "\n",
        "class Perceptron:\n",
        "    def __init__(self, learning_rate=0.01, epochs=100):\n",
        "        self.learning_rate = learning_rate\n",
        "        self.epochs = epochs\n",
        "        self.w = None\n",
        "        self.b = None\n",
        "\n",
        "    def step_function(self, x):\n",
        "        return np.where(x >= 0, 1, 0)  # 입력이 0 이상이면 1, 아니면 0 반환\n",
        "\n",
        "    def fit(self, X, y):\n",
        "        n_samples, n_features = X.shape\n",
        "        self.w = np.zeros(n_features)  # 가중치 초기화\n",
        "        self.b = 0  # 절편 초기화\n",
        "\n",
        "        for _ in range(self.epochs):\n",
        "            for idx, x_i in enumerate(X):\n",
        "                linear_output = np.dot(x_i, self.w) + self.b  # 선형 결합\n",
        "                y_pred = self.step_function(linear_output)  # 활성화 함수 적용\n",
        "\n",
        "                # 가중치 및 절편 업데이트\n",
        "                update = self.learning_rate * (y[idx] - y_pred)\n",
        "                self.w += update * x_i\n",
        "                self.b += update\n",
        "\n",
        "    def predict(self, X):\n",
        "        linear_output = np.dot(X, self.w) + self.b\n",
        "        return self.step_function(linear_output)"
      ]
    },
    {
      "cell_type": "markdown",
      "id": "Hyk-_ThexG85",
      "metadata": {
        "id": "Hyk-_ThexG85"
      },
      "source": [
        "## 로지스틱 회귀(Logistic Regression)에 대해 알아봅시다\n",
        "- 로지스틱 회귀는 퍼셉트론과 달리 연속적인 확률값을 출력하는 분류 알고리즘입니다.\n",
        "- 예측값은 0과 1 사이의 값으로 나타나며, 로지스틱 함수(sigmoid function)를 사용해 입력값을 확률로 변환합니다.\n",
        "- 로지스틱 회귀의 수식은 다음과 같습니다:\n",
        "  $[ \\hat{y} = \\frac{1}{1 + e^{-(wx + b)}} ]$"
      ]
    },
    {
      "cell_type": "code",
      "execution_count": null,
      "id": "lM0iL_xaxG85",
      "metadata": {
        "colab": {
          "base_uri": "https://localhost:8080/"
        },
        "id": "lM0iL_xaxG85",
        "outputId": "cb950122-3da6-4788-9c97-3cc93a5c99de"
      },
      "outputs": [
        {
          "name": "stdout",
          "output_type": "stream",
          "text": [
            "로지스틱 회귀 예측 결과: [0 0 0 1 1]\n"
          ]
        }
      ],
      "source": [
        "# 로지스틱 회귀 구현\n",
        "from sklearn.linear_model import LogisticRegression\n",
        "\n",
        "# 예시 데이터 생성\n",
        "X_example = np.array([[1, 2], [2, 3], [3, 4], [5, 7], [7, 8]])  # 입력 데이터\n",
        "y_example = np.array([0, 0, 0, 1, 1])  # 이진 분류 타깃\n",
        "\n",
        "# 로지스틱 회귀 모델 생성 및 훈련\n",
        "log_reg = LogisticRegression()\n",
        "log_reg.fit(X_example, y_example)\n",
        "\n",
        "# 예측 결과 출력\n",
        "predictions = log_reg.predict(X_example)\n",
        "print('로지스틱 회귀 예측 결과:', predictions)"
      ]
    },
    {
      "cell_type": "markdown",
      "id": "ikQns2WlxG86",
      "metadata": {
        "id": "ikQns2WlxG86"
      },
      "source": [
        "## 정리\n",
        "- 퍼셉트론은 이진 분류 문제를 해결하는 간단한 알고리즘으로 계단 함수에 의해 결정됩니다.\n",
        "- 로지스틱 회귀는 확률적인 예측을 수행하며, 로지스틱 함수를 사용해 확률을 계산합니다.\n",
        "- 이 두 가지 방법 모두 인공 지능과 머신러닝에서 중요한 분류 알고리즘으로 활용됩니다."
      ]
    },
    {
      "cell_type": "markdown",
      "id": "0V4-iLGkxG86",
      "metadata": {
        "id": "0V4-iLGkxG86"
      },
      "source": [
        "# 아달린(ADALINE) 알고리즘\n",
        "이번 장에서는 퍼셉트론을 확장한 아달린(Adaptive Linear Neuron, ADALINE)에 대해 알아보겠습니다."
      ]
    },
    {
      "cell_type": "markdown",
      "id": "_38W2XqCxG86",
      "metadata": {
        "id": "_38W2XqCxG86"
      },
      "source": [
        "## 아달린의 원리\n",
        "- 아달린은 1960년 Bernard Widrow와 Ted Hoff에 의해 개발된 알고리즘입니다.\n",
        "- 퍼셉트론과 달리 아달린은 예측값과 실제 값의 차이를 최소화하기 위해 손실 함수를 사용하는 선형 모델입니다.\n",
        "- 가중치 업데이트 과정은 선형 회귀와 유사하지만, 아달린은 전체 입력 데이터에 대해 가중치를 조정합니다."
      ]
    },
    {
      "cell_type": "markdown",
      "id": "KgiTBZhixG86",
      "metadata": {
        "id": "KgiTBZhixG86"
      },
      "source": [
        "### 아달린의 손실 함수\n",
        "- 아달린은 예측값과 실제 값 사이의 오차를 최소화하기 위해 손실 함수를 사용합니다.\n",
        "- 가장 일반적으로 사용되는 손실 함수는 평균 제곱 오차(Mean Squared Error, MSE)로 다음과 같이 정의됩니다:\n",
        "$[ MSE = \\frac{1}{2}(y - \\hat{y})^2 ]$\n",
        "여기서 $(y$)는 실제 값, $(\\hat{y}$)는 예측값입니다."
      ]
    },
    {
      "cell_type": "code",
      "execution_count": null,
      "id": "Tj1N8JO8xG86",
      "metadata": {
        "id": "Tj1N8JO8xG86"
      },
      "outputs": [],
      "source": [
        "# 아달린 알고리즘 구현\n",
        "import numpy as np\n",
        "\n",
        "class Adaline:\n",
        "    def __init__(self, learning_rate=0.01, epochs=100):\n",
        "        self.learning_rate = learning_rate\n",
        "        self.epochs = epochs\n",
        "        self.w = None\n",
        "        self.b = None\n",
        "\n",
        "    def fit(self, X, y):\n",
        "        n_samples, n_features = X.shape\n",
        "        self.w = np.zeros(n_features)  # 가중치 초기화\n",
        "        self.b = 0  # 절편 초기화\n",
        "\n",
        "        for _ in range(self.epochs):\n",
        "            y_hat = self.net_input(X)\n",
        "            errors = y - y_hat\n",
        "            self.w += self.learning_rate * X.T.dot(errors) / n_samples\n",
        "            self.b += self.learning_rate * errors.mean()\n",
        "\n",
        "    def net_input(self, X):\n",
        "        return np.dot(X, self.w) + self.b\n",
        "\n",
        "    def predict(self, X):\n",
        "        return np.where(self.net_input(X) >= 0.0, 1, 0)"
      ]
    },
    {
      "cell_type": "markdown",
      "id": "8Of4BGrAxG86",
      "metadata": {
        "id": "8Of4BGrAxG86"
      },
      "source": [
        "## 아달린 모델 테스트\n",
        "이제 아달린 모델을 사용하여 간단한 이진 분류 문제를 해결해 보겠습니다."
      ]
    },
    {
      "cell_type": "code",
      "execution_count": null,
      "id": "X_13JwhTxG86",
      "metadata": {
        "colab": {
          "base_uri": "https://localhost:8080/"
        },
        "id": "X_13JwhTxG86",
        "outputId": "d00de643-20b3-40dc-ddff-d5abe63fe2fd"
      },
      "outputs": [
        {
          "name": "stdout",
          "output_type": "stream",
          "text": [
            "아달린 예측 결과: [1 1 1 1 1]\n"
          ]
        }
      ],
      "source": [
        "# 데이터 생성 및 모델 훈련\n",
        "X_example = np.array([[1, 2], [2, 3], [3, 4], [5, 7], [7, 8]])  # 입력 데이터\n",
        "y_example = np.array([0, 0, 0, 1, 1])  # 이진 분류 타깃\n",
        "\n",
        "# 아달린 모델 생성 및 훈련\n",
        "adaline = Adaline(learning_rate=0.01, epochs=100)\n",
        "adaline.fit(X_example, y_example)\n",
        "\n",
        "# 예측 결과 출력\n",
        "predictions = adaline.predict(X_example)\n",
        "print('아달린 예측 결과:', predictions)"
      ]
    },
    {
      "cell_type": "markdown",
      "id": "_DINxgVrxG86",
      "metadata": {
        "id": "_DINxgVrxG86"
      },
      "source": [
        "## 정리\n",
        "- 아달린은 퍼셉트론과 달리 선형 함수와 평균 제곱 오차(MSE)를 기반으로 가중치를 업데이트하는 알고리즘입니다.\n",
        "- 이로 인해 더 부드럽게 가중치 조정이 가능하며, 퍼셉트론보다 안정적인 학습이 가능합니다."
      ]
    },
    {
      "cell_type": "markdown",
      "id": "_bPYmgIXxG86",
      "metadata": {
        "id": "_bPYmgIXxG86"
      },
      "source": [
        "# 로지스틱 회귀(Logistic Regression) 알고리즘\n",
        "이번 장에서는 로지스틱 회귀에 대해 알아보고, 이를 활용하여 분류 문제를 해결하는 방법을 구현해보겠습니다."
      ]
    },
    {
      "cell_type": "markdown",
      "id": "Idk4SX_0xG86",
      "metadata": {
        "id": "Idk4SX_0xG86"
      },
      "source": [
        "## 로지스틱 회귀의 원리\n",
        "- 로지스틱 회귀는 이진 분류를 위한 선형 모델로, 선형 회귀와 달리 시그모이드 함수(sigmoid function)를 사용하여 예측값을 확률로 변환합니다.\n",
        "- 시그모이드 함수는 입력값을 0과 1 사이의 확률 값으로 변환하며, 식은 다음과 같습니다:\n",
        "$[ \\sigma(z) = \\frac{1}{1 + e^{-z}} ]$\n",
        "여기서 $( z = wx + b $)는 선형 회귀의 예측 값입니다."
      ]
    },
    {
      "cell_type": "markdown",
      "id": "JSYsgqRCxG86",
      "metadata": {
        "id": "JSYsgqRCxG86"
      },
      "source": [
        "## 로지스틱 회귀의 예측\n",
        "- 로지스틱 회귀의 예측값은 시그모이드 함수를 통해 계산되며, 이 값이 0.5 이상이면 1, 그렇지 않으면 0으로 분류됩니다.\n",
        "- 이러한 방식으로 주어진 데이터가 특정 클래스에 속할 확률을 계산하고, 이를 통해 분류 작업을 수행합니다."
      ]
    },
    {
      "cell_type": "code",
      "execution_count": null,
      "id": "f_HEI-kexG87",
      "metadata": {
        "id": "f_HEI-kexG87"
      },
      "outputs": [],
      "source": [
        "# 로지스틱 회귀 알고리즘 구현\n",
        "import numpy as np\n",
        "\n",
        "class LogisticRegressionModel:\n",
        "    def __init__(self, learning_rate=0.01, epochs=100):\n",
        "        self.learning_rate = learning_rate\n",
        "        self.epochs = epochs\n",
        "        self.w = None\n",
        "        self.b = None\n",
        "\n",
        "    def sigmoid(self, z):\n",
        "        return 1 / (1 + np.exp(-z))  # 시그모이드 함수 구현\n",
        "\n",
        "    def fit(self, X, y):\n",
        "        n_samples, n_features = X.shape\n",
        "        self.w = np.zeros(n_features)  # 가중치 초기화\n",
        "        self.b = 0  # 절편 초기화\n",
        "\n",
        "        for _ in range(self.epochs):\n",
        "            linear_output = np.dot(X, self.w) + self.b\n",
        "            y_hat = self.sigmoid(linear_output)\n",
        "            errors = y - y_hat\n",
        "\n",
        "            # 가중치 및 절편 업데이트\n",
        "            self.w += self.learning_rate * np.dot(X.T, errors) / n_samples\n",
        "            self.b += self.learning_rate * errors.mean()\n",
        "\n",
        "    def predict(self, X):\n",
        "        linear_output = np.dot(X, self.w) + self.b\n",
        "        y_hat = self.sigmoid(linear_output)\n",
        "        return np.where(y_hat >= 0.5, 1, 0)"
      ]
    },
    {
      "cell_type": "markdown",
      "id": "WLPl831MxG87",
      "metadata": {
        "id": "WLPl831MxG87"
      },
      "source": [
        "## 로지스틱 회귀 모델 테스트\n",
        "이제 로지스틱 회귀 모델을 사용하여 간단한 이진 분류 문제를 해결해 보겠습니다."
      ]
    },
    {
      "cell_type": "code",
      "execution_count": null,
      "id": "GMmMTx6XxG87",
      "metadata": {
        "colab": {
          "base_uri": "https://localhost:8080/"
        },
        "id": "GMmMTx6XxG87",
        "outputId": "884459f4-8328-4987-eb37-55cbf7b8e795"
      },
      "outputs": [
        {
          "name": "stdout",
          "output_type": "stream",
          "text": [
            "로지스틱 회귀 예측 결과: [0 1 1 1 1]\n"
          ]
        }
      ],
      "source": [
        "# 데이터 생성 및 로지스틱 회귀 모델 훈련\n",
        "X_example = np.array([[1, 2], [2, 3], [3, 4], [5, 7], [7, 8]])  # 입력 데이터\n",
        "y_example = np.array([0, 0, 0, 1, 1])  # 이진 분류 타깃\n",
        "\n",
        "# 로지스틱 회귀 모델 생성 및 훈련\n",
        "logistic_regression_model = LogisticRegressionModel(learning_rate=0.01, epochs=100)\n",
        "logistic_regression_model.fit(X_example, y_example)\n",
        "\n",
        "# 예측 결과 출력\n",
        "predictions = logistic_regression_model.predict(X_example)\n",
        "print('로지스틱 회귀 예측 결과:', predictions)"
      ]
    },
    {
      "cell_type": "markdown",
      "id": "G0fYjo5exG87",
      "metadata": {
        "id": "G0fYjo5exG87"
      },
      "source": [
        "## 정리\n",
        "- 로지스틱 회귀는 선형 회귀와 유사하지만 시그모이드 함수를 통해 예측값을 확률로 변환합니다.\n",
        "- 이로 인해 이진 분류 문제를 효과적으로 해결할 수 있습니다."
      ]
    },
    {
      "cell_type": "markdown",
      "id": "K4u1NFa6xG87",
      "metadata": {
        "id": "K4u1NFa6xG87"
      },
      "source": [
        "# 시그모이드 함수와 오즈 비(odds ratio)에 대해 알아봅시다\n",
        "이번 장에서는 로지스틱 회귀에서 사용되는 시그모이드 함수의 역할과 오즈 비의 의미를 설명하고, 시그모이드 함수의 그래프를 그려보겠습니다."
      ]
    },
    {
      "cell_type": "markdown",
      "id": "Mh7IjaPhxG87",
      "metadata": {
        "id": "Mh7IjaPhxG87"
      },
      "source": [
        "## 시그모이드 함수의 정의\n",
        "- 시그모이드 함수는 로지스틱 회귀에서 예측값을 0과 1 사이의 확률 값으로 변환하는 데 사용됩니다.\n",
        "- 시그모이드 함수의 수식은 다음과 같습니다:\n",
        "$[ \\sigma(z) = \\frac{1}{1 + e^{-z}} ]$\n",
        "여기서 $( z $)는 선형 결합 값인 $( wx + b $)를 의미합니다."
      ]
    },
    {
      "cell_type": "markdown",
      "id": "XP6jhniXxG87",
      "metadata": {
        "id": "XP6jhniXxG87"
      },
      "source": [
        "## 오즈 비(odds ratio)와 로짓 함수(logit function)\n",
        "- 오즈 비는 성공 확률과 실패 확률의 비율로 정의되며, 다음과 같이 나타냅니다:\n",
        "$[ \\text{odds} = \\frac{p}{1-p} ]$\n",
        "여기서 $(p$)는 성공 확률을 의미합니다.\n",
        "- 로짓 함수는 오즈 비의 자연 로그를 취한 값으로, 다음과 같이 표현됩니다:\n",
        "$[ \\text{logit}(p) = \\log\\left(\\frac{p}{1-p}\\right) ]$"
      ]
    },
    {
      "cell_type": "markdown",
      "id": "6JNBrDXnxG87",
      "metadata": {
        "id": "6JNBrDXnxG87"
      },
      "source": [
        "## 시그모이드 함수의 그래프 그리기\n",
        "시그모이드 함수의 형태를 시각화하여 그 특성을 확인해보겠습니다."
      ]
    },
    {
      "cell_type": "code",
      "execution_count": null,
      "id": "XvnQRRxDxG87",
      "metadata": {
        "colab": {
          "base_uri": "https://localhost:8080/",
          "height": 472
        },
        "id": "XvnQRRxDxG87",
        "outputId": "f46cc311-f52a-4cfe-f8c9-74ee44b665b3"
      },
      "outputs": [
        {
          "data": {
            "image/png": "[encoded data removed]",
            "text/plain": [
              "<Figure size 640x480 with 1 Axes>"
            ]
          },
          "metadata": {},
          "output_type": "display_data"
        }
      ],
      "source": [
        "# 시그모이드 함수 구현 및 그래프 그리기\n",
        "import numpy as np\n",
        "import matplotlib.pyplot as plt\n",
        "\n",
        "# 시그모이드 함수 정의\n",
        "def sigmoid(z):\n",
        "    return 1 / (1 + np.exp(-z))\n",
        "\n",
        "# 입력 값의 범위 설정\n",
        "z_values = np.linspace(-10, 10, 200)\n",
        "sigmoid_values = sigmoid(z_values)\n",
        "\n",
        "# 시그모이드 함수 그래프 그리기\n",
        "plt.plot(z_values, sigmoid_values, label='Sigmoid Function')\n",
        "plt.axhline(0.5, color='gray', linestyle='--', label='0.5 Probability')\n",
        "plt.title('Sigmoid Function Graph')\n",
        "plt.xlabel('z')\n",
        "plt.ylabel('sigmoid(z)')\n",
        "plt.legend()\n",
        "plt.grid(True)\n",
        "plt.show()"
      ]
    },
    {
      "cell_type": "markdown",
      "id": "OwApSIp7xG87",
      "metadata": {
        "id": "OwApSIp7xG87"
      },
      "source": [
        "## 정리\n",
        "- 시그모이드 함수는 로지스틱 회귀에서 확률을 예측하기 위한 중요한 역할을 합니다.\n",
        "- 오즈 비와 로짓 함수는 확률을 로그 척도로 변환하는 데 사용되며, 시그모이드 함수의 반전된 형태입니다."
      ]
    },
    {
      "cell_type": "markdown",
      "id": "O30d8RyTxG87",
      "metadata": {
        "id": "O30d8RyTxG87"
      },
      "source": [
        "# 로지스틱 회귀의 유도 과정과 분류에 대해 알아봅시다\n",
        "이번 장에서는 로지스틱 회귀의 유도 과정과 시그모이드 함수를 통한 분류 과정을 자세히 설명하겠습니다."
      ]
    },
    {
      "cell_type": "markdown",
      "id": "u3MmxMVAxG87",
      "metadata": {
        "id": "u3MmxMVAxG87"
      },
      "source": [
        "## 로지스틱 함수의 유도 과정\n",
        "- 로지스틱 회귀에서 사용되는 시그모이드 함수는 오즈 비의 로그 변환으로부터 유도됩니다.\n",
        "- 우선 오즈 비의 정의를 다시 상기해 봅시다:\n",
        "$[ \\text{odds} = \\frac{p}{1-p} ]$\n",
        "이 식에 자연 로그를 취하면 로짓 함수가 됩니다:\n",
        "$[ \\text{logit}(p) = \\log\\left(\\frac{p}{1-p}\\right) = z ]$\n",
        "- 여기서 $(z$)는 선형 회귀의 결합 값인 $(wx + b$)입니다.\n",
        "- 이제 이 식을 시그모이드 함수 형태로 변형하면 다음과 같은 식을 얻습니다:\n",
        "$[ p = \\frac{1}{1 + e^{-z}} ]$\n",
        "이것이 바로 시그모이드 함수이며, 로지스틱 회귀의 예측 확률을 나타냅니다."
      ]
    },
    {
      "cell_type": "markdown",
      "id": "SiU8aIlnxG87",
      "metadata": {
        "id": "SiU8aIlnxG87"
      },
      "source": [
        "## 로지스틱 회귀의 작동 원리\n",
        "- 로지스틱 회귀는 선형 회귀의 결과를 시그모이드 함수를 통해 0과 1 사이의 확률로 변환합니다.\n",
        "- 이렇게 변환된 확률을 이용하여 입력 데이터가 특정 클래스에 속할 가능성을 예측합니다."
      ]
    },
    {
      "cell_type": "code",
      "execution_count": null,
      "id": "CrAwpQYlxG88",
      "metadata": {
        "colab": {
          "base_uri": "https://localhost:8080/",
          "height": 472
        },
        "id": "CrAwpQYlxG88",
        "outputId": "9e360423-5f69-4ab0-a34e-90cafa785b4b"
      },
      "outputs": [
        {
          "data": {
            "image/png": "[encoded data removed]",
            "text/plain": [
              "<Figure size 640x480 with 1 Axes>"
            ]
          },
          "metadata": {},
          "output_type": "display_data"
        }
      ],
      "source": [
        "# 로지스틱 회귀를 통한 분류 과정 시각화\n",
        "import numpy as np\n",
        "import matplotlib.pyplot as plt\n",
        "\n",
        "# 시그모이드 함수 정의\n",
        "def sigmoid(z):\n",
        "    return 1 / (1 + np.exp(-z))\n",
        "\n",
        "# 선형 결합 값의 범위 설정\n",
        "z_values = np.linspace(-10, 10, 200)\n",
        "sigmoid_values = sigmoid(z_values)\n",
        "\n",
        "# 시그모이드 함수 그래프 그리기\n",
        "plt.plot(z_values, sigmoid_values, label='Sigmoid Function')\n",
        "plt.axhline(0.5, color='gray', linestyle='--', label='Decision Boundary (0.5)')\n",
        "plt.title('Logistic Regression and Sigmoid Function')\n",
        "plt.xlabel('z (Linear Combination)')\n",
        "plt.ylabel('Predicted Probability')\n",
        "plt.legend()\n",
        "plt.grid(True)\n",
        "plt.show()"
      ]
    },
    {
      "cell_type": "markdown",
      "id": "ONwTnrgdxG88",
      "metadata": {
        "id": "ONwTnrgdxG88"
      },
      "source": [
        "## 로지스틱 회귀의 분류 예시\n",
        "시그모이드 함수를 사용한 로지스틱 회귀는 특정 값이 0.5를 기준으로 두 클래스 중 하나로 분류됩니다.\n",
        "위 그래프에서 z 값이 0일 때, 확률값은 0.5가 되어 분류 경계가 됩니다."
      ]
    },
    {
      "cell_type": "markdown",
      "id": "U-zhQWCkxG88",
      "metadata": {
        "id": "U-zhQWCkxG88"
      },
      "source": [
        "# 로지스틱 손실 함수(크로스 엔트로피)를 경사 하강법에 적용하기\n",
        "이번 장에서는 로지스틱 회귀에서 사용되는 크로스 엔트로피 손실 함수를 경사 하강법에 적용하여 모델을 최적화하는 과정을 살펴보겠습니다."
      ]
    },
    {
      "cell_type": "markdown",
      "id": "jQtgJKv4xG88",
      "metadata": {
        "id": "jQtgJKv4xG88"
      },
      "source": [
        "## 크로스 엔트로피 손실 함수의 정의\n",
        "- 로지스틱 회귀에서 모델의 예측이 얼마나 잘못되었는지 측정하는 손실 함수로 크로스 엔트로피를 사용합니다.\n",
        "- 크로스 엔트로피 손실 함수의 식은 다음과 같습니다:\n",
        "$[ L = -[y \\log(\\hat{y}) + (1 - y) \\log(1 - \\hat{y})] ]$\n",
        "- 여기서 $(y$)는 실제 값이고, $(\\hat{y}$)는 예측 확률 값입니다."
      ]
    },
    {
      "cell_type": "markdown",
      "id": "Ku3MRMQ_xG88",
      "metadata": {
        "id": "Ku3MRMQ_xG88"
      },
      "source": [
        "## 경사 하강법을 이용한 손실 함수 최적화\n",
        "- 크로스 엔트로피 손실 함수를 최소화하기 위해 경사 하강법을 사용합니다.\n",
        "- 가중치 $(w$)와 절편 $(b$)에 대한 손실 함수의 편미분 결과는 다음과 같습니다:\n",
        "$[ \\frac{\\partial L}{\\partial w} = (\\hat{y} - y)x ]$\n",
        "$[ \\frac{\\partial L}{\\partial b} = (\\hat{y} - y) ]$\n",
        "이를 바탕으로 경사 하강법을 통해 가중치와 절편을 업데이트합니다."
      ]
    },
    {
      "cell_type": "code",
      "execution_count": null,
      "id": "-onHmMkUxG88",
      "metadata": {
        "id": "-onHmMkUxG88"
      },
      "outputs": [],
      "source": [
        "# 로지스틱 회귀 모델에 크로스 엔트로피 손실 함수 적용 및 경사 하강법 구현\n",
        "import numpy as np\n",
        "\n",
        "class LogisticRegressionWithCrossEntropy:\n",
        "    def __init__(self, learning_rate=0.01, epochs=100):\n",
        "        self.learning_rate = learning_rate\n",
        "        self.epochs = epochs\n",
        "        self.w = None\n",
        "        self.b = None\n",
        "\n",
        "    def sigmoid(self, z):\n",
        "        return 1 / (1 + np.exp(-z))  # 시그모이드 함수\n",
        "\n",
        "    def fit(self, X, y):\n",
        "        n_samples, n_features = X.shape\n",
        "        self.w = np.zeros(n_features)  # 가중치 초기화\n",
        "        self.b = 0  # 절편 초기화\n",
        "\n",
        "        for _ in range(self.epochs):\n",
        "            linear_output = np.dot(X, self.w) + self.b\n",
        "            y_hat = self.sigmoid(linear_output)\n",
        "            errors = y_hat - y\n",
        "\n",
        "            # 가중치 및 절편 업데이트 (경사 하강법 적용)\n",
        "            self.w -= self.learning_rate * np.dot(X.T, errors) / n_samples\n",
        "            self.b -= self.learning_rate * np.sum(errors) / n_samples\n",
        "\n",
        "    def predict(self, X):\n",
        "        linear_output = np.dot(X, self.w) + self.b\n",
        "        y_hat = self.sigmoid(linear_output)\n",
        "        return np.where(y_hat >= 0.5, 1, 0)"
      ]
    },
    {
      "cell_type": "markdown",
      "id": "_QmxOHMsxG88",
      "metadata": {
        "id": "_QmxOHMsxG88"
      },
      "source": [
        "## 로지스틱 회귀 모델 테스트\n",
        "이제 크로스 엔트로피 손실 함수를 적용한 로지스틱 회귀 모델을 테스트해보겠습니다."
      ]
    },
    {
      "cell_type": "code",
      "execution_count": null,
      "id": "xYig3TmJxG88",
      "metadata": {
        "colab": {
          "base_uri": "https://localhost:8080/"
        },
        "id": "xYig3TmJxG88",
        "outputId": "772be104-325c-48f7-82a9-f3164396648b"
      },
      "outputs": [
        {
          "name": "stdout",
          "output_type": "stream",
          "text": [
            "로지스틱 회귀 예측 결과: [0 0 0 1 1]\n"
          ]
        }
      ],
      "source": [
        "# 데이터 생성 및 로지스틱 회귀 모델 훈련\n",
        "X_example = np.array([[1, 2], [2, 3], [3, 4], [5, 7], [7, 8]])  # 입력 데이터\n",
        "y_example = np.array([0, 0, 0, 1, 1])  # 이진 분류 타깃\n",
        "\n",
        "# 로지스틱 회귀 모델 생성 및 훈련\n",
        "logistic_regression_ce = LogisticRegressionWithCrossEntropy(learning_rate=0.01, epochs=1000)\n",
        "logistic_regression_ce.fit(X_example, y_example)\n",
        "\n",
        "# 예측 결과 출력\n",
        "predictions = logistic_regression_ce.predict(X_example)\n",
        "print('로지스틱 회귀 예측 결과:', predictions)"
      ]
    },
    {
      "cell_type": "markdown",
      "id": "ATv5brhJxG88",
      "metadata": {
        "id": "ATv5brhJxG88"
      },
      "source": [
        "## 정리\n",
        "- 크로스 엔트로피 손실 함수는 로지스틱 회귀에서 모델의 예측을 최적화하기 위한 중요한 요소입니다.\n",
        "- 경사 하강법을 통해 손실 함수를 최소화하면서 모델을 학습합니다."
      ]
    },
    {
      "cell_type": "markdown",
      "id": "8X2UB1sZxG88",
      "metadata": {
        "id": "8X2UB1sZxG88"
      },
      "source": [
        "# 로지스틱 손실 함수의 연쇄 법칙 적용 과정\n",
        "이번 장에서는 로지스틱 손실 함수의 편미분을 구하기 위해 연쇄 법칙(Chain Rule)을 적용하는 방법을 살펴보겠습니다."
      ]
    },
    {
      "cell_type": "markdown",
      "id": "w25Pfdv_xG88",
      "metadata": {
        "id": "w25Pfdv_xG88"
      },
      "source": [
        "## 연쇄 법칙(Chain Rule)의 정의\n",
        "- 함수의 합성에 대한 미분을 구하는 방법으로 연쇄 법칙을 사용합니다.\n",
        "- 예를 들어 함수 $(y = f(u)$)이고, $(u = g(x)$)라면 $(y = f(g(x))$)로 표현할 수 있습니다.\n",
        "- 연쇄 법칙에 따라 $( \\frac{dy}{dx} = \\frac{dy}{du} \\cdot \\frac{du}{dx} $)로 표현됩니다."
      ]
    },
    {
      "cell_type": "markdown",
      "id": "XzGMNtERxG88",
      "metadata": {
        "id": "XzGMNtERxG88"
      },
      "source": [
        "## 로지스틱 손실 함수에 연쇄 법칙 적용하기\n",
        "- 로지스틱 손실 함수는 크로스 엔트로피 손실 함수로 표현되며, 다음과 같은 식으로 나타냅니다:\n",
        "$[ L = -(y \\log(\\hat{y}) + (1 - y) \\log(1 - \\hat{y})) ]$\n",
        "- 이때 $(\\hat{y})$는 시그모이드 함수로, $(\\hat{y} = \\frac{1}{1 + e^{-z}} )$이고, $(z = wx + b)$입니다.\n",
        "- 연쇄 법칙을 사용하여 손실 함수에 대한 가중치 $(w)$와 절편 $(b)$의 편미분을 계산할 수 있습니다."
      ]
    },
    {
      "cell_type": "markdown",
      "id": "xq8VEZwfxG89",
      "metadata": {
        "id": "xq8VEZwfxG89"
      },
      "source": [
        "### 가중치 $( w )$에 대한 미분\n",
        "- 먼저, $( \\frac{\\partial L}{\\partial w} )$에 대해 연쇄 법칙을 적용해 봅시다.\n",
        "$[ \\frac{\\partial L}{\\partial w} = \\frac{\\partial L}{\\partial \\hat{y}} \\cdot \\frac{\\partial \\hat{y}}{\\partial z} \\cdot \\frac{\\partial z}{\\partial w} ]$\n",
        "- 각 항의 편미분을 계산하면 다음과 같습니다:\n",
        "$[ \\frac{\\partial L}{\\partial \\hat{y}} = -\\frac{y}{\\hat{y}} + \\frac{1 - y}{1 - \\hat{y}} ]$\n",
        "$[ \\frac{\\partial \\hat{y}}{\\partial z} = \\hat{y}(1 - \\hat{y}) ]$\n",
        "$[ \\frac{\\partial z}{\\partial w} = x ]$\n",
        "- 따라서 전체 식은 다음과 같이 정리됩니다:\n",
        "$[ \\frac{\\partial L}{\\partial w} = (\\hat{y} - y) x ]$"
      ]
    },
    {
      "cell_type": "markdown",
      "id": "d2_WEpl5xG89",
      "metadata": {
        "id": "d2_WEpl5xG89"
      },
      "source": [
        "### 절편 $( b )$에 대한 미분\n",
        "- 절편 $( b $)에 대한 편미분은 다음과 같이 계산됩니다:\n",
        "$[ \\frac{\\partial L}{\\partial b} = \\frac{\\partial L}{\\partial \\hat{y}} \\cdot \\frac{\\partial \\hat{y}}{\\partial z} \\cdot \\frac{\\partial z}{\\partial b} ]$\n",
        "- 여기서 $( \\frac{\\partial z}{\\partial b} = 1 )$이므로 최종 결과는:\n",
        "$[ \\frac{\\partial L}{\\partial b} = (\\hat{y} - y) ]$"
      ]
    },
    {
      "cell_type": "code",
      "execution_count": null,
      "id": "qNl1y-GMxG89",
      "metadata": {
        "id": "qNl1y-GMxG89"
      },
      "outputs": [],
      "source": [
        "# 로지스틱 회귀에서 연쇄 법칙을 적용하여 가중치 및 절편의 편미분을 구현하는 코드\n",
        "import numpy as np\n",
        "\n",
        "class LogisticRegressionChainRule:\n",
        "    def __init__(self, learning_rate=0.01, epochs=100):\n",
        "        self.learning_rate = learning_rate\n",
        "        self.epochs = epochs\n",
        "        self.w = None\n",
        "        self.b = None\n",
        "\n",
        "    def sigmoid(self, z):\n",
        "        return 1 / (1 + np.exp(-z))\n",
        "\n",
        "    def fit(self, X, y):\n",
        "        n_samples, n_features = X.shape\n",
        "        self.w = np.zeros(n_features)  # 가중치 초기화\n",
        "        self.b = 0  # 절편 초기화\n",
        "\n",
        "        for _ in range(self.epochs):\n",
        "            linear_output = np.dot(X, self.w) + self.b\n",
        "            y_hat = self.sigmoid(linear_output)\n",
        "            errors = y_hat - y\n",
        "\n",
        "            # 연쇄 법칙을 적용한 가중치 및 절편의 편미분 업데이트\n",
        "            self.w -= self.learning_rate * np.dot(X.T, errors) / n_samples\n",
        "            self.b -= self.learning_rate * np.sum(errors) / n_samples\n",
        "\n",
        "    def predict(self, X):\n",
        "        linear_output = np.dot(X, self.w) + self.b\n",
        "        y_hat = self.sigmoid(linear_output)\n",
        "        return np.where(y_hat >= 0.5, 1, 0)"
      ]
    },
    {
      "cell_type": "markdown",
      "id": "cHvf3I1gxG89",
      "metadata": {
        "id": "cHvf3I1gxG89"
      },
      "source": [
        "## 로지스틱 회귀 모델 테스트 (연쇄 법칙 적용)\n",
        "이제 연쇄 법칙을 적용한 로지스틱 회귀 모델을 테스트해보겠습니다."
      ]
    },
    {
      "cell_type": "code",
      "execution_count": null,
      "id": "DrNsGxk9xG89",
      "metadata": {
        "colab": {
          "base_uri": "https://localhost:8080/"
        },
        "id": "DrNsGxk9xG89",
        "outputId": "1dc3116b-6452-435d-b68a-550ac9eb8a8d"
      },
      "outputs": [
        {
          "name": "stdout",
          "output_type": "stream",
          "text": [
            "연쇄 법칙 적용 로지스틱 회귀 예측 결과: [0 0 0 1 1]\n"
          ]
        }
      ],
      "source": [
        "# 데이터 생성 및 로지스틱 회귀 모델 훈련 (연쇄 법칙 적용)\n",
        "X_example = np.array([[1, 2], [2, 3], [3, 4], [5, 7], [7, 8]])  # 입력 데이터\n",
        "y_example = np.array([0, 0, 0, 1, 1])  # 이진 분류 타깃\n",
        "\n",
        "# 로지스틱 회귀 모델 생성 및 훈련\n",
        "logistic_regression_chain_rule = LogisticRegressionChainRule(learning_rate=0.01, epochs=1000)\n",
        "logistic_regression_chain_rule.fit(X_example, y_example)\n",
        "\n",
        "# 예측 결과 출력\n",
        "predictions_chain_rule = logistic_regression_chain_rule.predict(X_example)\n",
        "print('연쇄 법칙 적용 로지스틱 회귀 예측 결과:', predictions_chain_rule)"
      ]
    },
    {
      "cell_type": "markdown",
      "id": "wzUbERk-xG89",
      "metadata": {
        "id": "wzUbERk-xG89"
      },
      "source": [
        "## 정리\n",
        "- 연쇄 법칙은 로지스틱 회귀에서 손실 함수의 편미분을 계산하기 위한 필수적인 도구입니다.\n",
        "- 이를 통해 가중치와 절편을 효율적으로 업데이트하여 모델을 최적화할 수 있습니다."
      ]
    }
  ],
  "metadata": {
    "colab": {
      "provenance": [],
      "include_colab_link": true
    },
    "kernelspec": {
      "display_name": "Python 3",
      "language": "python",
      "name": "python3"
    },
    "language_info": {
      "codemirror_mode": {
        "name": "ipython",
        "version": 3
      },
      "file_extension": ".py",
      "mimetype": "text/x-python",
      "name": "python",
      "nbconvert_exporter": "python",
      "pygments_lexer": "ipython3",
      "version": "3.8"
    }
  },
  "nbformat": 4,
  "nbformat_minor": 5
}