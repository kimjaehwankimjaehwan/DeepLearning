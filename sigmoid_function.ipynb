{
  "cells": [
    {
      "cell_type": "markdown",
      "metadata": {
        "id": "view-in-github",
        "colab_type": "text"
      },
      "source": [
        "<a href=\"https://colab.research.google.com/github/kimjaehwankimjaehwan/DeepLearning/blob/main/sigmoid_function.ipynb\" target=\"_parent\"><img src=\"https://colab.research.google.com/assets/colab-badge.svg\" alt=\"Open In Colab\"/></a>"
      ]
    },
    {
      "cell_type": "markdown",
      "metadata": {
        "id": "E2ddP2P3p8V8"
      },
      "source": [
        "# NumPy 소개 및 설치\n",
        "NumPy는 파이썬에서 빠르고 효율적인 배열 처리 및 수학적 계산을 위한 라이브러리입니다."
      ],
      "id": "E2ddP2P3p8V8"
    },
    {
      "cell_type": "code",
      "execution_count": 1,
      "metadata": {
        "colab": {
          "base_uri": "https://localhost:8080/"
        },
        "id": "oli9wj3Qp8V9",
        "outputId": "cb315996-608f-4e81-f7c8-f9ebf49f3814"
      },
      "outputs": [
        {
          "output_type": "stream",
          "name": "stdout",
          "text": [
            "Requirement already satisfied: numpy in /usr/local/lib/python3.10/dist-packages (1.26.4)\n"
          ]
        }
      ],
      "source": [
        "# NumPy 설치\n",
        "!pip install numpy"
      ],
      "id": "oli9wj3Qp8V9"
    },
    {
      "cell_type": "code",
      "execution_count": 2,
      "metadata": {
        "colab": {
          "base_uri": "https://localhost:8080/"
        },
        "id": "1iposDp6p8V9",
        "outputId": "2940f3e1-2051-4343-9156-bfc2689eeb7b"
      },
      "outputs": [
        {
          "output_type": "stream",
          "name": "stdout",
          "text": [
            "1.26.4\n"
          ]
        }
      ],
      "source": [
        "# NumPy 버전 확인\n",
        "import numpy as np\n",
        "print(np.__version__)"
      ],
      "id": "1iposDp6p8V9"
    },
    {
      "cell_type": "markdown",
      "metadata": {
        "id": "FxP0JCJAp8V9"
      },
      "source": [
        "## NumPy 배열 생성 및 사용 예시"
      ],
      "id": "FxP0JCJAp8V9"
    },
    {
      "cell_type": "code",
      "execution_count": 3,
      "metadata": {
        "colab": {
          "base_uri": "https://localhost:8080/"
        },
        "id": "mWtWjkEjp8V9",
        "outputId": "e96417f8-6fa7-4019-d9fc-839d70ec6484"
      },
      "outputs": [
        {
          "output_type": "stream",
          "name": "stdout",
          "text": [
            "[10 20 30 40 50]\n"
          ]
        }
      ],
      "source": [
        "# 1차원 배열 생성\n",
        "my_list = [10, 20, 30, 40, 50]\n",
        "np_list = np.array(my_list)\n",
        "print(np_list)"
      ],
      "id": "mWtWjkEjp8V9"
    },
    {
      "cell_type": "code",
      "execution_count": 4,
      "metadata": {
        "colab": {
          "base_uri": "https://localhost:8080/"
        },
        "id": "6mPW9uFyp8V9",
        "outputId": "51d74b44-90f5-4ae7-8f05-f24a59a6b25e"
      },
      "outputs": [
        {
          "output_type": "stream",
          "name": "stdout",
          "text": [
            "[[10 20]\n",
            " [30 50]]\n"
          ]
        }
      ],
      "source": [
        "# 2차원 배열 생성\n",
        "my_list_2d = [[10, 20], [30, 50]]\n",
        "np_list_2d = np.array(my_list_2d)\n",
        "print(np_list_2d)"
      ],
      "id": "6mPW9uFyp8V9"
    },
    {
      "cell_type": "code",
      "execution_count": 5,
      "metadata": {
        "colab": {
          "base_uri": "https://localhost:8080/"
        },
        "id": "9QB1o_HLp8V-",
        "outputId": "9f0e02d4-897f-4a5a-e814-e0d72ed76a08"
      },
      "outputs": [
        {
          "output_type": "stream",
          "name": "stdout",
          "text": [
            "50\n"
          ]
        }
      ],
      "source": [
        "# 2차원 배열에서 특정 요소에 접근\n",
        "print(np_list_2d[1][1])  # 출력: 50"
      ],
      "id": "9QB1o_HLp8V-"
    },
    {
      "cell_type": "markdown",
      "metadata": {
        "id": "V38jAETUp8V-"
      },
      "source": [
        "## NumPy를 사용한 기본 연산"
      ],
      "id": "V38jAETUp8V-"
    },
    {
      "cell_type": "code",
      "execution_count": 6,
      "metadata": {
        "colab": {
          "base_uri": "https://localhost:8080/"
        },
        "id": "vxz1hR3Tp8V-",
        "outputId": "8de79fe0-528e-4120-ede4-b7b5c60a0e8d"
      },
      "outputs": [
        {
          "output_type": "stream",
          "name": "stdout",
          "text": [
            "[5 7 9]\n"
          ]
        }
      ],
      "source": [
        "# 배열 간 덧셈\n",
        "arr1 = np.array([1, 2, 3])\n",
        "arr2 = np.array([4, 5, 6])\n",
        "print(arr1 + arr2)"
      ],
      "id": "vxz1hR3Tp8V-"
    },
    {
      "cell_type": "code",
      "execution_count": 7,
      "metadata": {
        "colab": {
          "base_uri": "https://localhost:8080/"
        },
        "id": "5MwhGcj4p8V-",
        "outputId": "64ea6c31-2e9e-460e-fdd6-c0f3d0355043"
      },
      "outputs": [
        {
          "output_type": "stream",
          "name": "stdout",
          "text": [
            "[ 4 10 18]\n"
          ]
        }
      ],
      "source": [
        "# 배열 간 곱셈\n",
        "print(arr1 * arr2)"
      ],
      "id": "5MwhGcj4p8V-"
    },
    {
      "cell_type": "markdown",
      "metadata": {
        "id": "_b_VHCNMp8V-"
      },
      "source": [
        "## NumPy에서 자주 사용되는 함수 예시"
      ],
      "id": "_b_VHCNMp8V-"
    },
    {
      "cell_type": "code",
      "execution_count": 8,
      "metadata": {
        "colab": {
          "base_uri": "https://localhost:8080/"
        },
        "id": "SRvqF9Knp8V-",
        "outputId": "c65c550c-22ff-4f1c-8340-4574969b78bb"
      },
      "outputs": [
        {
          "output_type": "stream",
          "name": "stdout",
          "text": [
            "(2, 2)\n"
          ]
        }
      ],
      "source": [
        "# 배열의 크기 확인\n",
        "print(np_list_2d.shape)"
      ],
      "id": "SRvqF9Knp8V-"
    },
    {
      "cell_type": "code",
      "execution_count": 9,
      "metadata": {
        "colab": {
          "base_uri": "https://localhost:8080/"
        },
        "id": "Q4wVMywsp8V-",
        "outputId": "274fd75c-4bba-43e5-f003-61ae188c022b"
      },
      "outputs": [
        {
          "output_type": "stream",
          "name": "stdout",
          "text": [
            "110\n"
          ]
        }
      ],
      "source": [
        "# 배열 요소의 합 계산\n",
        "print(np.sum(np_list_2d))"
      ],
      "id": "Q4wVMywsp8V-"
    },
    {
      "cell_type": "markdown",
      "metadata": {
        "id": "tY9SeLdip8V-"
      },
      "source": [
        "## NumPy로 배열 만들기\n",
        "NumPy를 임포트한 후에 NumPy를 이용하여 배열을 만들어 봅니다."
      ],
      "id": "tY9SeLdip8V-"
    },
    {
      "cell_type": "code",
      "execution_count": 10,
      "metadata": {
        "colab": {
          "base_uri": "https://localhost:8080/"
        },
        "id": "Ah-GOEjtp8V-",
        "outputId": "95319b2b-9b18-424c-f4e1-a5af4489e372"
      },
      "outputs": [
        {
          "output_type": "stream",
          "name": "stdout",
          "text": [
            "[[10 20]\n",
            " [30 40]\n",
            " [50 60]]\n"
          ]
        }
      ],
      "source": [
        "# 2차원 배열 생성 예시\n",
        "my_arr = np.array([[10, 20], [30, 40], [50, 60]])\n",
        "print(my_arr)"
      ],
      "id": "Ah-GOEjtp8V-"
    },
    {
      "cell_type": "markdown",
      "metadata": {
        "id": "b0onFfuIp8V-"
      },
      "source": [
        "### 배열의 데이터 타입 확인하기\n",
        "배열이 어떻게 구성되어 있는지 확인하기 위해 `type()` 함수를 사용할 수 있습니다."
      ],
      "id": "b0onFfuIp8V-"
    },
    {
      "cell_type": "code",
      "execution_count": 11,
      "metadata": {
        "colab": {
          "base_uri": "https://localhost:8080/"
        },
        "id": "4WfJurWNp8V-",
        "outputId": "12529285-a899-4ae7-bf67-445b66e2bfb4"
      },
      "outputs": [
        {
          "output_type": "stream",
          "name": "stdout",
          "text": [
            "<class 'numpy.ndarray'>\n"
          ]
        }
      ],
      "source": [
        "# 배열의 데이터 타입 확인\n",
        "print(type(my_arr))"
      ],
      "id": "4WfJurWNp8V-"
    },
    {
      "cell_type": "markdown",
      "metadata": {
        "id": "5nibMGb8p8V-"
      },
      "source": [
        "### 배열의 요소에 접근하기\n",
        "배열의 특정 요소에 접근하려면 인덱스를 사용합니다."
      ],
      "id": "5nibMGb8p8V-"
    },
    {
      "cell_type": "code",
      "execution_count": 12,
      "metadata": {
        "colab": {
          "base_uri": "https://localhost:8080/"
        },
        "id": "umvRkeXrp8V-",
        "outputId": "9c99a849-5e97-4de0-e2eb-66c45da8f22e"
      },
      "outputs": [
        {
          "output_type": "stream",
          "name": "stdout",
          "text": [
            "20\n"
          ]
        }
      ],
      "source": [
        "# 배열에서 요소 선택\n",
        "print(my_arr[0][1])  # 출력: 20"
      ],
      "id": "umvRkeXrp8V-"
    },
    {
      "cell_type": "markdown",
      "metadata": {
        "id": "6jIUqEZbp8V-"
      },
      "source": [
        "### NumPy 함수 사용 예시\n",
        "NumPy에서 제공하는 다양한 함수를 활용하여 배열의 요소를 처리할 수 있습니다."
      ],
      "id": "6jIUqEZbp8V-"
    },
    {
      "cell_type": "code",
      "execution_count": 13,
      "metadata": {
        "colab": {
          "base_uri": "https://localhost:8080/"
        },
        "id": "xNl_G2aPp8V-",
        "outputId": "0fe162d5-b29c-468c-d780-09ad05847fba"
      },
      "outputs": [
        {
          "output_type": "stream",
          "name": "stdout",
          "text": [
            "210\n"
          ]
        }
      ],
      "source": [
        "# 배열의 모든 요소의 합 계산\n",
        "print(np.sum(my_arr))  # 출력: 210"
      ],
      "id": "xNl_G2aPp8V-"
    },
    {
      "cell_type": "markdown",
      "metadata": {
        "id": "IkqZXnHHp8V-"
      },
      "source": [
        "## Matplotlib으로 그래프 그리기\n",
        "Matplotlib을 사용하여 데이터의 시각화를 해보겠습니다."
      ],
      "id": "IkqZXnHHp8V-"
    },
    {
      "cell_type": "code",
      "execution_count": 14,
      "metadata": {
        "colab": {
          "base_uri": "https://localhost:8080/",
          "height": 472
        },
        "id": "hIuJBLbnp8V-",
        "outputId": "f5651208-4c9d-47f4-cb64-abfceef45d03"
      },
      "outputs": [
        {
          "output_type": "display_data",
          "data": {
            "text/plain": [
              "<Figure size 640x480 with 1 Axes>"
            ],
            "image/png": "[encoded data removed]"
          },
          "metadata": {}
        }
      ],
      "source": [
        "# Matplotlib 라이브러리 임포트\n",
        "import matplotlib.pyplot as plt\n",
        "\n",
        "# 간단한 선 그래프 그리기\n",
        "x = [1, 2, 3, 4, 5]\n",
        "y = [1, 4, 9, 16, 25]\n",
        "plt.plot(x, y)\n",
        "plt.title('Simple Line Graph')\n",
        "plt.xlabel('X-axis')\n",
        "plt.ylabel('Y-axis')\n",
        "plt.show()"
      ],
      "id": "hIuJBLbnp8V-"
    },
    {
      "cell_type": "markdown",
      "metadata": {
        "id": "MN12uHxVp8V-"
      },
      "source": [
        "## Matplotlib을 이용한 다양한 그래프 그리기\n",
        "Matplotlib을 사용하여 선 그래프와 산점도 등 다양한 그래프를 그려보겠습니다."
      ],
      "id": "MN12uHxVp8V-"
    },
    {
      "cell_type": "markdown",
      "metadata": {
        "id": "nfyIp6fAp8V_"
      },
      "source": [
        "### 1. 선 그래프 그리기\n",
        "선 그래프를 그리려면 x축의 값과 y축의 값을 matplotlib의 `plot()` 함수에 전달하면 됩니다."
      ],
      "id": "nfyIp6fAp8V_"
    },
    {
      "cell_type": "code",
      "execution_count": 15,
      "metadata": {
        "colab": {
          "base_uri": "https://localhost:8080/",
          "height": 472
        },
        "id": "lpeMnbXGp8V_",
        "outputId": "2b68278c-ebc7-4a51-e849-c01e09ce934c"
      },
      "outputs": [
        {
          "output_type": "display_data",
          "data": {
            "text/plain": [
              "<Figure size 640x480 with 1 Axes>"
            ],
            "image/png": "[encoded data removed]"
          },
          "metadata": {}
        }
      ],
      "source": [
        "# 간단한 선 그래프 그리기\n",
        "x = [1, 2, 3, 4, 5]\n",
        "y = [1, 4, 9, 16, 25]\n",
        "plt.plot(x, y)\n",
        "plt.title('Simple Line Graph')\n",
        "plt.xlabel('X-axis')\n",
        "plt.ylabel('Y-axis')\n",
        "plt.show()"
      ],
      "id": "lpeMnbXGp8V_"
    },
    {
      "cell_type": "markdown",
      "metadata": {
        "id": "kD9ii0YJp8V_"
      },
      "source": [
        "### 2. 산점도 그리기\n",
        "산점도는 데이터의 분포를 시각화할 때 주로 사용됩니다. Matplotlib의 `scatter()` 함수를 사용하면 됩니다."
      ],
      "id": "kD9ii0YJp8V_"
    },
    {
      "cell_type": "code",
      "execution_count": 16,
      "metadata": {
        "colab": {
          "base_uri": "https://localhost:8080/",
          "height": 472
        },
        "id": "w4XHyEJKp8V_",
        "outputId": "d38559e2-4af2-49ab-e049-1e729e5e58a3"
      },
      "outputs": [
        {
          "output_type": "display_data",
          "data": {
            "text/plain": [
              "<Figure size 640x480 with 1 Axes>"
            ],
            "image/png": "[encoded data removed]"
          },
          "metadata": {}
        }
      ],
      "source": [
        "# 간단한 산점도 그리기\n",
        "x = [1, 2, 3, 4, 5]\n",
        "y = [1, 4, 9, 16, 25]\n",
        "plt.scatter(x, y)\n",
        "plt.title('Simple Scatter Plot')\n",
        "plt.xlabel('X-axis')\n",
        "plt.ylabel('Y-axis')\n",
        "plt.show()"
      ],
      "id": "w4XHyEJKp8V_"
    },
    {
      "cell_type": "markdown",
      "metadata": {
        "id": "D-d33OmBp8V_"
      },
      "source": [
        "### 3. 난수로 산점도 그리기\n",
        "NumPy를 사용하여 무작위로 생성된 데이터를 이용해 산점도를 그릴 수 있습니다."
      ],
      "id": "D-d33OmBp8V_"
    },
    {
      "cell_type": "code",
      "execution_count": 17,
      "metadata": {
        "colab": {
          "base_uri": "https://localhost:8080/",
          "height": 472
        },
        "id": "wJvJVbcRp8V_",
        "outputId": "46fdc0db-b9de-4f67-a9f2-f3c7885b85c6"
      },
      "outputs": [
        {
          "output_type": "display_data",
          "data": {
            "text/plain": [
              "<Figure size 640x480 with 1 Axes>"
            ],
            "image/png": "[encoded data removed]"
          },
          "metadata": {}
        }
      ],
      "source": [
        "# NumPy를 사용하여 난수를 생성하고 산점도 그리기\n",
        "x = np.random.randn(1000)  # 표준 정규 분포를 따르는 난수 1,000개 생성\n",
        "y = np.random.randn(1000)  # 표준 정규 분포를 따르는 난수 1,000개 생성\n",
        "plt.scatter(x, y)\n",
        "plt.title('Scatter Plot with Random Data')\n",
        "plt.xlabel('X-axis')\n",
        "plt.ylabel('Y-axis')\n",
        "plt.show()"
      ],
      "id": "wJvJVbcRp8V_"
    },
    {
      "cell_type": "markdown",
      "metadata": {
        "id": "rTZJweoUp8V_"
      },
      "source": [
        "# 선형 회귀 분석 이해하기\n",
        "선형 회귀 분석은 두 변수 간의 관계를 직선으로 나타내는 가장 간단한 회귀 분석 방법입니다.\n",
        "회귀 직선은 일반적으로 `y = ax + b`의 형태로 표현되며, 여기서 `a`는 기울기(slope), `b`는 절편(intercept)입니다."
      ],
      "id": "rTZJweoUp8V_"
    },
    {
      "cell_type": "markdown",
      "metadata": {
        "id": "u8_AYNMyp8V_"
      },
      "source": [
        "## 1차 함수의 예시\n",
        "아래 코드를 통해 간단한 1차 함수의 선형 회귀 그래프를 그려보겠습니다."
      ],
      "id": "u8_AYNMyp8V_"
    },
    {
      "cell_type": "code",
      "execution_count": 18,
      "metadata": {
        "colab": {
          "base_uri": "https://localhost:8080/",
          "height": 472
        },
        "id": "VfMFtt2cp8V_",
        "outputId": "4d9d7d94-8035-428d-fd47-5318f107be92"
      },
      "outputs": [
        {
          "output_type": "display_data",
          "data": {
            "text/plain": [
              "<Figure size 640x480 with 1 Axes>"
            ],
            "image/png": "[encoded data removed]"
          },
          "metadata": {}
        }
      ],
      "source": [
        "# 선형 회귀를 위한 데이터 생성\n",
        "import numpy as np\n",
        "import matplotlib.pyplot as plt\n",
        "\n",
        "# 데이터 생성\n",
        "x = np.array([1, 2, 3, 4, 5])\n",
        "y = np.array([2, 3, 5, 7, 11])  # 간단한 1차 함수 형태로 데이터 설정\n",
        "\n",
        "# 산점도 그리기\n",
        "plt.scatter(x, y, color='blue')\n",
        "plt.title('Scatter Plot of Data')\n",
        "plt.xlabel('X-axis')\n",
        "plt.ylabel('Y-axis')\n",
        "plt.show()"
      ],
      "id": "VfMFtt2cp8V_"
    },
    {
      "cell_type": "markdown",
      "metadata": {
        "id": "hBkZWYsFp8V_"
      },
      "source": [
        "## 선형 회귀 모델 만들기\n",
        "이제 이 데이터에 대한 선형 회귀 모델을 만들고, 회귀선을 그려보겠습니다."
      ],
      "id": "hBkZWYsFp8V_"
    },
    {
      "cell_type": "code",
      "execution_count": 19,
      "metadata": {
        "colab": {
          "base_uri": "https://localhost:8080/",
          "height": 472
        },
        "id": "qf95AXVnp8V_",
        "outputId": "1878867a-a0b1-4ea9-b51e-a284a99fcec9"
      },
      "outputs": [
        {
          "output_type": "display_data",
          "data": {
            "text/plain": [
              "<Figure size 640x480 with 1 Axes>"
            ],
            "image/png": "[encoded data removed]"
          },
          "metadata": {}
        }
      ],
      "source": [
        "# 선형 회귀 모델 생성\n",
        "from sklearn.linear_model import LinearRegression\n",
        "\n",
        "# 데이터 차원 변경\n",
        "x = x.reshape(-1, 1)\n",
        "\n",
        "# 모델 학습\n",
        "model = LinearRegression()\n",
        "model.fit(x, y)\n",
        "\n",
        "# 회귀선 그리기\n",
        "plt.scatter(x, y, color='blue')  # 원본 데이터 산점도\n",
        "plt.plot(x, model.predict(x), color='red')  # 회귀선 그리기\n",
        "plt.title('Linear Regression Line')\n",
        "plt.xlabel('X-axis')\n",
        "plt.ylabel('Y-axis')\n",
        "plt.show()"
      ],
      "id": "qf95AXVnp8V_"
    },
    {
      "cell_type": "markdown",
      "metadata": {
        "id": "UnkjSEdvp8V_"
      },
      "source": [
        "위 그래프에서 파란 점들은 원본 데이터이고, 빨간 선은 해당 데이터를 기반으로 학습한 선형 회귀 모델입니다.\n",
        "이 모델은 `y = ax + b`의 형태로 X와 Y 간의 관계를 설명하는 가장 적합한 직선을 찾습니다."
      ],
      "id": "UnkjSEdvp8V_"
    },
    {
      "cell_type": "markdown",
      "metadata": {
        "id": "v8O4cAJ0p8V_"
      },
      "source": [
        "# 당뇨병 환자 데이터를 이용한 선형 회귀 분석\n",
        "이번에는 당뇨병 환자의 데이터에 대한 선형 회귀 분석을 수행해 보겠습니다."
      ],
      "id": "v8O4cAJ0p8V_"
    },
    {
      "cell_type": "markdown",
      "metadata": {
        "id": "5MbXPNpLp8V_"
      },
      "source": [
        "## 당뇨병 데이터 세트 로드하기\n",
        "scikit-learn의 내장 데이터 세트인 당뇨병 환자 데이터를 불러와 사용해 보겠습니다."
      ],
      "id": "5MbXPNpLp8V_"
    },
    {
      "cell_type": "code",
      "execution_count": 20,
      "metadata": {
        "colab": {
          "base_uri": "https://localhost:8080/"
        },
        "id": "RaIzhIGPp8V_",
        "outputId": "8a0f923f-c331-48b7-eab0-ccf99abcb73f"
      },
      "outputs": [
        {
          "output_type": "stream",
          "name": "stdout",
          "text": [
            "dict_keys(['data', 'target', 'frame', 'DESCR', 'feature_names', 'data_filename', 'target_filename', 'data_module'])\n"
          ]
        }
      ],
      "source": [
        "# 필요한 라이브러리 임포트\n",
        "from sklearn.datasets import load_diabetes\n",
        "import pandas as pd\n",
        "\n",
        "# 당뇨병 데이터 로드\n",
        "diabetes = load_diabetes()\n",
        "\n",
        "# 데이터 확인\n",
        "print(diabetes.keys())  # 데이터 세트의 구성 요소 확인"
      ],
      "id": "RaIzhIGPp8V_"
    },
    {
      "cell_type": "markdown",
      "metadata": {
        "id": "5zPxxE_Rp8WC"
      },
      "source": [
        "데이터 세트에는 'data', 'target', 'feature_names', 'DESCR' 등의 다양한 요소가 포함되어 있습니다.\n",
        "- 'data': 특성 데이터\n",
        "- 'target': 목표 값 (당뇨병 진행 정도)\n",
        "- 'feature_names': 특성의 이름"
      ],
      "id": "5zPxxE_Rp8WC"
    },
    {
      "cell_type": "code",
      "execution_count": 21,
      "metadata": {
        "colab": {
          "base_uri": "https://localhost:8080/",
          "height": 206
        },
        "id": "jBhHGfl3p8WC",
        "outputId": "3ac10ffe-4597-48c4-c84f-12b6280fc082"
      },
      "outputs": [
        {
          "output_type": "execute_result",
          "data": {
            "text/plain": [
              "        age       sex       bmi        bp        s1        s2        s3  \\\n",
              "0  0.038076  0.050680  0.061696  0.021872 -0.044223 -0.034821 -0.043401   \n",
              "1 -0.001882 -0.044642 -0.051474 -0.026328 -0.008449 -0.019163  0.074412   \n",
              "2  0.085299  0.050680  0.044451 -0.005670 -0.045599 -0.034194 -0.032356   \n",
              "3 -0.089063 -0.044642 -0.011595 -0.036656  0.012191  0.024991 -0.036038   \n",
              "4  0.005383 -0.044642 -0.036385  0.021872  0.003935  0.015596  0.008142   \n",
              "\n",
              "         s4        s5        s6  target  \n",
              "0 -0.002592  0.019907 -0.017646   151.0  \n",
              "1 -0.039493 -0.068332 -0.092204    75.0  \n",
              "2 -0.002592  0.002861 -0.025930   141.0  \n",
              "3  0.034309  0.022688 -0.009362   206.0  \n",
              "4 -0.002592 -0.031988 -0.046641   135.0  "
            ],
            "text/html": [
              "\n",
              "  <div id=\"df-57fe63b1-b6c6-4b6f-bada-549df136ff58\" class=\"colab-df-container\">\n",
              "    <div>\n",
              "<style scoped>\n",
              "    .dataframe tbody tr th:only-of-type {\n",
              "        vertical-align: middle;\n",
              "    }\n",
              "\n",
              "    .dataframe tbody tr th {\n",
              "        vertical-align: top;\n",
              "    }\n",
              "\n",
              "    .dataframe thead th {\n",
              "        text-align: right;\n",
              "    }\n",
              "</style>\n",
              "<table border=\"1\" class=\"dataframe\">\n",
              "  <thead>\n",
              "    <tr style=\"text-align: right;\">\n",
              "      <th></th>\n",
              "      <th>age</th>\n",
              "      <th>sex</th>\n",
              "      <th>bmi</th>\n",
              "      <th>bp</th>\n",
              "      <th>s1</th>\n",
              "      <th>s2</th>\n",
              "      <th>s3</th>\n",
              "      <th>s4</th>\n",
              "      <th>s5</th>\n",
              "      <th>s6</th>\n",
              "      <th>target</th>\n",
              "    </tr>\n",
              "  </thead>\n",
              "  <tbody>\n",
              "    <tr>\n",
              "      <th>0</th>\n",
              "      <td>0.038076</td>\n",
              "      <td>0.050680</td>\n",
              "      <td>0.061696</td>\n",
              "      <td>0.021872</td>\n",
              "      <td>-0.044223</td>\n",
              "      <td>-0.034821</td>\n",
              "      <td>-0.043401</td>\n",
              "      <td>-0.002592</td>\n",
              "      <td>0.019907</td>\n",
              "      <td>-0.017646</td>\n",
              "      <td>151.0</td>\n",
              "    </tr>\n",
              "    <tr>\n",
              "      <th>1</th>\n",
              "      <td>-0.001882</td>\n",
              "      <td>-0.044642</td>\n",
              "      <td>-0.051474</td>\n",
              "      <td>-0.026328</td>\n",
              "      <td>-0.008449</td>\n",
              "      <td>-0.019163</td>\n",
              "      <td>0.074412</td>\n",
              "      <td>-0.039493</td>\n",
              "      <td>-0.068332</td>\n",
              "      <td>-0.092204</td>\n",
              "      <td>75.0</td>\n",
              "    </tr>\n",
              "    <tr>\n",
              "      <th>2</th>\n",
              "      <td>0.085299</td>\n",
              "      <td>0.050680</td>\n",
              "      <td>0.044451</td>\n",
              "      <td>-0.005670</td>\n",
              "      <td>-0.045599</td>\n",
              "      <td>-0.034194</td>\n",
              "      <td>-0.032356</td>\n",
              "      <td>-0.002592</td>\n",
              "      <td>0.002861</td>\n",
              "      <td>-0.025930</td>\n",
              "      <td>141.0</td>\n",
              "    </tr>\n",
              "    <tr>\n",
              "      <th>3</th>\n",
              "      <td>-0.089063</td>\n",
              "      <td>-0.044642</td>\n",
              "      <td>-0.011595</td>\n",
              "      <td>-0.036656</td>\n",
              "      <td>0.012191</td>\n",
              "      <td>0.024991</td>\n",
              "      <td>-0.036038</td>\n",
              "      <td>0.034309</td>\n",
              "      <td>0.022688</td>\n",
              "      <td>-0.009362</td>\n",
              "      <td>206.0</td>\n",
              "    </tr>\n",
              "    <tr>\n",
              "      <th>4</th>\n",
              "      <td>0.005383</td>\n",
              "      <td>-0.044642</td>\n",
              "      <td>-0.036385</td>\n",
              "      <td>0.021872</td>\n",
              "      <td>0.003935</td>\n",
              "      <td>0.015596</td>\n",
              "      <td>0.008142</td>\n",
              "      <td>-0.002592</td>\n",
              "      <td>-0.031988</td>\n",
              "      <td>-0.046641</td>\n",
              "      <td>135.0</td>\n",
              "    </tr>\n",
              "  </tbody>\n",
              "</table>\n",
              "</div>\n",
              "    <div class=\"colab-df-buttons\">\n",
              "\n",
              "  <div class=\"colab-df-container\">\n",
              "    <button class=\"colab-df-convert\" onclick=\"convertToInteractive('df-57fe63b1-b6c6-4b6f-bada-549df136ff58')\"\n",
              "            title=\"Convert this dataframe to an interactive table.\"\n",
              "            style=\"display:none;\">\n",
              "\n",
              "  <svg xmlns=\"http://www.w3.org/2000/svg\" height=\"24px\" viewBox=\"0 -960 960 960\">\n",
              "    <path d=\"M120-120v-720h720v720H120Zm60-500h600v-160H180v160Zm220 220h160v-160H400v160Zm0 220h160v-160H400v160ZM180-400h160v-160H180v160Zm440 0h160v-160H620v160ZM180-180h160v-160H180v160Zm440 0h160v-160H620v160Z\"/>\n",
              "  </svg>\n",
              "    </button>\n",
              "\n",
              "  <style>\n",
              "    .colab-df-container {\n",
              "      display:flex;\n",
              "      gap: 12px;\n",
              "    }\n",
              "\n",
              "    .colab-df-convert {\n",
              "      background-color: #E8F0FE;\n",
              "      border: none;\n",
              "      border-radius: 50%;\n",
              "      cursor: pointer;\n",
              "      display: none;\n",
              "      fill: #1967D2;\n",
              "      height: 32px;\n",
              "      padding: 0 0 0 0;\n",
              "      width: 32px;\n",
              "    }\n",
              "\n",
              "    .colab-df-convert:hover {\n",
              "      background-color: #E2EBFA;\n",
              "      box-shadow: 0px 1px 2px rgba(60, 64, 67, 0.3), 0px 1px 3px 1px rgba(60, 64, 67, 0.15);\n",
              "      fill: #174EA6;\n",
              "    }\n",
              "\n",
              "    .colab-df-buttons div {\n",
              "      margin-bottom: 4px;\n",
              "    }\n",
              "\n",
              "    [theme=dark] .colab-df-convert {\n",
              "      background-color: #3B4455;\n",
              "      fill: #D2E3FC;\n",
              "    }\n",
              "\n",
              "    [theme=dark] .colab-df-convert:hover {\n",
              "      background-color: #434B5C;\n",
              "      box-shadow: 0px 1px 3px 1px rgba(0, 0, 0, 0.15);\n",
              "      filter: drop-shadow(0px 1px 2px rgba(0, 0, 0, 0.3));\n",
              "      fill: #FFFFFF;\n",
              "    }\n",
              "  </style>\n",
              "\n",
              "    <script>\n",
              "      const buttonEl =\n",
              "        document.querySelector('#df-57fe63b1-b6c6-4b6f-bada-549df136ff58 button.colab-df-convert');\n",
              "      buttonEl.style.display =\n",
              "        google.colab.kernel.accessAllowed ? 'block' : 'none';\n",
              "\n",
              "      async function convertToInteractive(key) {\n",
              "        const element = document.querySelector('#df-57fe63b1-b6c6-4b6f-bada-549df136ff58');\n",
              "        const dataTable =\n",
              "          await google.colab.kernel.invokeFunction('convertToInteractive',\n",
              "                                                    [key], {});\n",
              "        if (!dataTable) return;\n",
              "\n",
              "        const docLinkHtml = 'Like what you see? Visit the ' +\n",
              "          '<a target=\"_blank\" href=https://colab.research.google.com/notebooks/data_table.ipynb>data table notebook</a>'\n",
              "          + ' to learn more about interactive tables.';\n",
              "        element.innerHTML = '';\n",
              "        dataTable['output_type'] = 'display_data';\n",
              "        await google.colab.output.renderOutput(dataTable, element);\n",
              "        const docLink = document.createElement('div');\n",
              "        docLink.innerHTML = docLinkHtml;\n",
              "        element.appendChild(docLink);\n",
              "      }\n",
              "    </script>\n",
              "  </div>\n",
              "\n",
              "\n",
              "<div id=\"df-d7520565-9cff-480b-9bb9-723ca3fb4bf3\">\n",
              "  <button class=\"colab-df-quickchart\" onclick=\"quickchart('df-d7520565-9cff-480b-9bb9-723ca3fb4bf3')\"\n",
              "            title=\"Suggest charts\"\n",
              "            style=\"display:none;\">\n",
              "\n",
              "<svg xmlns=\"http://www.w3.org/2000/svg\" height=\"24px\"viewBox=\"0 0 24 24\"\n",
              "     width=\"24px\">\n",
              "    <g>\n",
              "        <path d=\"M19 3H5c-1.1 0-2 .9-2 2v14c0 1.1.9 2 2 2h14c1.1 0 2-.9 2-2V5c0-1.1-.9-2-2-2zM9 17H7v-7h2v7zm4 0h-2V7h2v10zm4 0h-2v-4h2v4z\"/>\n",
              "    </g>\n",
              "</svg>\n",
              "  </button>\n",
              "\n",
              "<style>\n",
              "  .colab-df-quickchart {\n",
              "      --bg-color: #E8F0FE;\n",
              "      --fill-color: #1967D2;\n",
              "      --hover-bg-color: #E2EBFA;\n",
              "      --hover-fill-color: #174EA6;\n",
              "      --disabled-fill-color: #AAA;\n",
              "      --disabled-bg-color: #DDD;\n",
              "  }\n",
              "\n",
              "  [theme=dark] .colab-df-quickchart {\n",
              "      --bg-color: #3B4455;\n",
              "      --fill-color: #D2E3FC;\n",
              "      --hover-bg-color: #434B5C;\n",
              "      --hover-fill-color: #FFFFFF;\n",
              "      --disabled-bg-color: #3B4455;\n",
              "      --disabled-fill-color: #666;\n",
              "  }\n",
              "\n",
              "  .colab-df-quickchart {\n",
              "    background-color: var(--bg-color);\n",
              "    border: none;\n",
              "    border-radius: 50%;\n",
              "    cursor: pointer;\n",
              "    display: none;\n",
              "    fill: var(--fill-color);\n",
              "    height: 32px;\n",
              "    padding: 0;\n",
              "    width: 32px;\n",
              "  }\n",
              "\n",
              "  .colab-df-quickchart:hover {\n",
              "    background-color: var(--hover-bg-color);\n",
              "    box-shadow: 0 1px 2px rgba(60, 64, 67, 0.3), 0 1px 3px 1px rgba(60, 64, 67, 0.15);\n",
              "    fill: var(--button-hover-fill-color);\n",
              "  }\n",
              "\n",
              "  .colab-df-quickchart-complete:disabled,\n",
              "  .colab-df-quickchart-complete:disabled:hover {\n",
              "    background-color: var(--disabled-bg-color);\n",
              "    fill: var(--disabled-fill-color);\n",
              "    box-shadow: none;\n",
              "  }\n",
              "\n",
              "  .colab-df-spinner {\n",
              "    border: 2px solid var(--fill-color);\n",
              "    border-color: transparent;\n",
              "    border-bottom-color: var(--fill-color);\n",
              "    animation:\n",
              "      spin 1s steps(1) infinite;\n",
              "  }\n",
              "\n",
              "  @keyframes spin {\n",
              "    0% {\n",
              "      border-color: transparent;\n",
              "      border-bottom-color: var(--fill-color);\n",
              "      border-left-color: var(--fill-color);\n",
              "    }\n",
              "    20% {\n",
              "      border-color: transparent;\n",
              "      border-left-color: var(--fill-color);\n",
              "      border-top-color: var(--fill-color);\n",
              "    }\n",
              "    30% {\n",
              "      border-color: transparent;\n",
              "      border-left-color: var(--fill-color);\n",
              "      border-top-color: var(--fill-color);\n",
              "      border-right-color: var(--fill-color);\n",
              "    }\n",
              "    40% {\n",
              "      border-color: transparent;\n",
              "      border-right-color: var(--fill-color);\n",
              "      border-top-color: var(--fill-color);\n",
              "    }\n",
              "    60% {\n",
              "      border-color: transparent;\n",
              "      border-right-color: var(--fill-color);\n",
              "    }\n",
              "    80% {\n",
              "      border-color: transparent;\n",
              "      border-right-color: var(--fill-color);\n",
              "      border-bottom-color: var(--fill-color);\n",
              "    }\n",
              "    90% {\n",
              "      border-color: transparent;\n",
              "      border-bottom-color: var(--fill-color);\n",
              "    }\n",
              "  }\n",
              "</style>\n",
              "\n",
              "  <script>\n",
              "    async function quickchart(key) {\n",
              "      const quickchartButtonEl =\n",
              "        document.querySelector('#' + key + ' button');\n",
              "      quickchartButtonEl.disabled = true;  // To prevent multiple clicks.\n",
              "      quickchartButtonEl.classList.add('colab-df-spinner');\n",
              "      try {\n",
              "        const charts = await google.colab.kernel.invokeFunction(\n",
              "            'suggestCharts', [key], {});\n",
              "      } catch (error) {\n",
              "        console.error('Error during call to suggestCharts:', error);\n",
              "      }\n",
              "      quickchartButtonEl.classList.remove('colab-df-spinner');\n",
              "      quickchartButtonEl.classList.add('colab-df-quickchart-complete');\n",
              "    }\n",
              "    (() => {\n",
              "      let quickchartButtonEl =\n",
              "        document.querySelector('#df-d7520565-9cff-480b-9bb9-723ca3fb4bf3 button');\n",
              "      quickchartButtonEl.style.display =\n",
              "        google.colab.kernel.accessAllowed ? 'block' : 'none';\n",
              "    })();\n",
              "  </script>\n",
              "</div>\n",
              "\n",
              "    </div>\n",
              "  </div>\n"
            ],
            "application/vnd.google.colaboratory.intrinsic+json": {
              "type": "dataframe",
              "variable_name": "df",
              "summary": "{\n  \"name\": \"df\",\n  \"rows\": 442,\n  \"fields\": [\n    {\n      \"column\": \"age\",\n      \"properties\": {\n        \"dtype\": \"number\",\n        \"std\": 0.047619047619047644,\n        \"min\": -0.1072256316073538,\n        \"max\": 0.11072667545381144,\n        \"num_unique_values\": 58,\n        \"samples\": [\n          0.038075906433423026,\n          -0.09269547780327612,\n          0.01991321417832592\n        ],\n        \"semantic_type\": \"\",\n        \"description\": \"\"\n      }\n    },\n    {\n      \"column\": \"sex\",\n      \"properties\": {\n        \"dtype\": \"number\",\n        \"std\": 0.047619047619047665,\n        \"min\": -0.044641636506989144,\n        \"max\": 0.05068011873981862,\n        \"num_unique_values\": 2,\n        \"samples\": [\n          -0.044641636506989144,\n          0.05068011873981862\n        ],\n        \"semantic_type\": \"\",\n        \"description\": \"\"\n      }\n    },\n    {\n      \"column\": \"bmi\",\n      \"properties\": {\n        \"dtype\": \"number\",\n        \"std\": 0.047619047619047616,\n        \"min\": -0.09027529589850945,\n        \"max\": 0.17055522598064407,\n        \"num_unique_values\": 163,\n        \"samples\": [\n          0.008883414898524095,\n          -0.05470749746044306\n        ],\n        \"semantic_type\": \"\",\n        \"description\": \"\"\n      }\n    },\n    {\n      \"column\": \"bp\",\n      \"properties\": {\n        \"dtype\": \"number\",\n        \"std\": 0.047619047619047596,\n        \"min\": -0.11239880254408448,\n        \"max\": 0.13204361674121307,\n        \"num_unique_values\": 100,\n        \"samples\": [\n          0.03333707926361473,\n          0.02531523648988596\n        ],\n        \"semantic_type\": \"\",\n        \"description\": \"\"\n      }\n    },\n    {\n      \"column\": \"s1\",\n      \"properties\": {\n        \"dtype\": \"number\",\n        \"std\": 0.04761904761904759,\n        \"min\": -0.12678066991651324,\n        \"max\": 0.15391371315651542,\n        \"num_unique_values\": 141,\n        \"samples\": [\n          0.041085578784023497,\n          0.08374011738825825\n        ],\n        \"semantic_type\": \"\",\n        \"description\": \"\"\n      }\n    },\n    {\n      \"column\": \"s2\",\n      \"properties\": {\n        \"dtype\": \"number\",\n        \"std\": 0.047619047619047644,\n        \"min\": -0.11561306597939897,\n        \"max\": 0.19878798965729408,\n        \"num_unique_values\": 302,\n        \"samples\": [\n          0.07415490186505921,\n          0.07008397186179521\n        ],\n        \"semantic_type\": \"\",\n        \"description\": \"\"\n      }\n    },\n    {\n      \"column\": \"s3\",\n      \"properties\": {\n        \"dtype\": \"number\",\n        \"std\": 0.047619047619047596,\n        \"min\": -0.10230705051741597,\n        \"max\": 0.18117906039727852,\n        \"num_unique_values\": 63,\n        \"samples\": [\n          0.09281975309919192,\n          0.15908923357275687\n        ],\n        \"semantic_type\": \"\",\n        \"description\": \"\"\n      }\n    },\n    {\n      \"column\": \"s4\",\n      \"properties\": {\n        \"dtype\": \"number\",\n        \"std\": 0.047619047619047616,\n        \"min\": -0.0763945037500033,\n        \"max\": 0.18523444326019867,\n        \"num_unique_values\": 66,\n        \"samples\": [\n          0.08670845052151895,\n          -0.024732934523729287\n        ],\n        \"semantic_type\": \"\",\n        \"description\": \"\"\n      }\n    },\n    {\n      \"column\": \"s5\",\n      \"properties\": {\n        \"dtype\": \"number\",\n        \"std\": 0.047619047619047616,\n        \"min\": -0.12609712083330468,\n        \"max\": 0.13359728192191356,\n        \"num_unique_values\": 184,\n        \"samples\": [\n          -0.07213275338232743,\n          -0.021395309255276825\n        ],\n        \"semantic_type\": \"\",\n        \"description\": \"\"\n      }\n    },\n    {\n      \"column\": \"s6\",\n      \"properties\": {\n        \"dtype\": \"number\",\n        \"std\": 0.047619047619047644,\n        \"min\": -0.13776722569000302,\n        \"max\": 0.13561183068907107,\n        \"num_unique_values\": 56,\n        \"samples\": [\n          -0.01764612515980379,\n          -0.09634615654165846\n        ],\n        \"semantic_type\": \"\",\n        \"description\": \"\"\n      }\n    },\n    {\n      \"column\": \"target\",\n      \"properties\": {\n        \"dtype\": \"number\",\n        \"std\": 77.09300453299109,\n        \"min\": 25.0,\n        \"max\": 346.0,\n        \"num_unique_values\": 214,\n        \"samples\": [\n          310.0,\n          140.0\n        ],\n        \"semantic_type\": \"\",\n        \"description\": \"\"\n      }\n    }\n  ]\n}"
            }
          },
          "metadata": {},
          "execution_count": 21
        }
      ],
      "source": [
        "# 데이터 프레임 생성 및 확인\n",
        "df = pd.DataFrame(diabetes.data, columns=diabetes.feature_names)\n",
        "df['target'] = diabetes.target\n",
        "df.head()"
      ],
      "id": "jBhHGfl3p8WC"
    },
    {
      "cell_type": "markdown",
      "metadata": {
        "id": "EEGQUcFep8WC"
      },
      "source": [
        "## 선형 회귀 모델 학습하기\n",
        "이제 당뇨병 데이터 중 하나의 특성과 목표 값 간의 선형 관계를 학습해 보겠습니다."
      ],
      "id": "EEGQUcFep8WC"
    },
    {
      "cell_type": "code",
      "execution_count": 22,
      "metadata": {
        "colab": {
          "base_uri": "https://localhost:8080/",
          "height": 472
        },
        "id": "_0bsXRFep8WC",
        "outputId": "f1a89511-6488-4473-8a6e-609ada288813"
      },
      "outputs": [
        {
          "output_type": "display_data",
          "data": {
            "text/plain": [
              "<Figure size 640x480 with 1 Axes>"
            ],
            "image/png": "[encoded data removed]"
          },
          "metadata": {}
        }
      ],
      "source": [
        "# 필요한 라이브러리 임포트\n",
        "from sklearn.linear_model import LinearRegression\n",
        "import matplotlib.pyplot as plt\n",
        "\n",
        "# 단일 특성 선택 (예: 'bmi')\n",
        "X = df[['bmi']].values  # 'bmi' 특성\n",
        "y = df['target'].values  # 목표 값\n",
        "\n",
        "# 선형 회귀 모델 생성 및 학습\n",
        "model = LinearRegression()\n",
        "model.fit(X, y)\n",
        "\n",
        "# 회귀선 그리기\n",
        "plt.scatter(X, y, color='blue', label='Data Points')\n",
        "plt.plot(X, model.predict(X), color='red', label='Regression Line')\n",
        "plt.title('Linear Regression on Diabetes Data (BMI vs Target)')\n",
        "plt.xlabel('BMI')\n",
        "plt.ylabel('Disease Progression')\n",
        "plt.legend()\n",
        "plt.show()"
      ],
      "id": "_0bsXRFep8WC"
    },
    {
      "cell_type": "markdown",
      "metadata": {
        "id": "qwi8U7dcp8WC"
      },
      "source": [
        "위 그래프는 당뇨병 환자의 'BMI'와 질병 진행 정도 사이의 선형 회귀 관계를 나타냅니다.\n",
        "빨간색 선은 회귀 직선을 나타내며, 파란색 점들은 원본 데이터 포인트입니다."
      ],
      "id": "qwi8U7dcp8WC"
    },
    {
      "cell_type": "markdown",
      "metadata": {
        "id": "UK9DGTYYp8WC"
      },
      "source": [
        "# 당뇨병 데이터 세트의 상세 탐색 및 분석\n",
        "이번 단계에서는 당뇨병 데이터 세트의 구조와 내용에 대해 자세히 탐색해보겠습니다."
      ],
      "id": "UK9DGTYYp8WC"
    },
    {
      "cell_type": "markdown",
      "metadata": {
        "id": "cNRvH1Azp8WC"
      },
      "source": [
        "## 데이터 크기 확인하기\n",
        "데이터의 크기를 확인하여 전체 데이터의 구조를 파악해보겠습니다."
      ],
      "id": "cNRvH1Azp8WC"
    },
    {
      "cell_type": "code",
      "execution_count": 23,
      "metadata": {
        "colab": {
          "base_uri": "https://localhost:8080/"
        },
        "id": "uB1U3Lyqp8WC",
        "outputId": "522a7980-300d-4959-9880-837e5f682d11"
      },
      "outputs": [
        {
          "output_type": "stream",
          "name": "stdout",
          "text": [
            "data shape: (442, 10)\n",
            "target shape: (442,)\n"
          ]
        }
      ],
      "source": [
        "# 데이터 크기 확인\n",
        "print('data shape:', diabetes.data.shape)\n",
        "print('target shape:', diabetes.target.shape)"
      ],
      "id": "uB1U3Lyqp8WC"
    },
    {
      "cell_type": "markdown",
      "metadata": {
        "id": "C71IDfPBp8WC"
      },
      "source": [
        "이 데이터 세트는 442개의 샘플(행)과 10개의 특성(열)을 가지고 있습니다. 각 샘플은 환자의 다양한 생물학적 측정치를 나타냅니다."
      ],
      "id": "C71IDfPBp8WC"
    },
    {
      "cell_type": "markdown",
      "metadata": {
        "id": "_Lqj4f80p8WC"
      },
      "source": [
        "## 샘플 데이터 확인하기\n",
        "특정 샘플의 특성 값과 목표 값이 어떻게 구성되어 있는지 확인해보겠습니다."
      ],
      "id": "_Lqj4f80p8WC"
    },
    {
      "cell_type": "code",
      "execution_count": 24,
      "metadata": {
        "colab": {
          "base_uri": "https://localhost:8080/"
        },
        "id": "9G_cSjErp8WC",
        "outputId": "43a7f492-5b7e-4848-d2b4-99e7fefc8d7a"
      },
      "outputs": [
        {
          "output_type": "stream",
          "name": "stdout",
          "text": [
            "First Sample Features: [ 0.03807591  0.05068012  0.06169621  0.02187239 -0.0442235  -0.03482076\n",
            " -0.04340085 -0.00259226  0.01990749 -0.01764613]\n",
            "First Sample Target: 151.0\n"
          ]
        }
      ],
      "source": [
        "# 첫 번째 샘플의 데이터 확인\n",
        "sample_index = 0\n",
        "print('First Sample Features:', diabetes.data[sample_index])\n",
        "print('First Sample Target:', diabetes.target[sample_index])"
      ],
      "id": "9G_cSjErp8WC"
    },
    {
      "cell_type": "markdown",
      "metadata": {
        "id": "9587Sqxxp8WC"
      },
      "source": [
        "위 결과는 첫 번째 환자의 다양한 생물학적 특성과 해당 환자의 당뇨병 진행 상태를 보여줍니다."
      ],
      "id": "9587Sqxxp8WC"
    },
    {
      "cell_type": "markdown",
      "metadata": {
        "id": "swr36hvZp8WC"
      },
      "source": [
        "## 데이터 분포 시각화하기\n",
        "각 특성의 분포를 시각화하여 데이터가 어떻게 분포되어 있는지 확인하겠습니다."
      ],
      "id": "swr36hvZp8WC"
    },
    {
      "cell_type": "code",
      "execution_count": 25,
      "metadata": {
        "colab": {
          "base_uri": "https://localhost:8080/",
          "height": 699
        },
        "id": "phDXSxuYp8WC",
        "outputId": "300074ee-b6d4-44ec-c175-9875330225ef"
      },
      "outputs": [
        {
          "output_type": "display_data",
          "data": {
            "text/plain": [
              "<Figure size 1600x1000 with 10 Axes>"
            ],
            "image/png": "[encoded data removed]"
          },
          "metadata": {}
        }
      ],
      "source": [
        "# 각 특성의 분포 확인 (히스토그램)\n",
        "plt.figure(figsize=(16, 10))\n",
        "for i in range(diabetes.data.shape[1]):\n",
        "    plt.subplot(2, 5, i + 1)\n",
        "    plt.hist(diabetes.data[:, i], bins=20, color='blue', alpha=0.7)\n",
        "    plt.title(diabetes.feature_names[i])\n",
        "plt.tight_layout()\n",
        "plt.show()"
      ],
      "id": "phDXSxuYp8WC"
    },
    {
      "cell_type": "markdown",
      "metadata": {
        "id": "PXJPes-up8WC"
      },
      "source": [
        "위 히스토그램은 각 특성(feature)의 데이터 분포를 보여줍니다. 이를 통해 각 특성의 데이터가 어떻게 분포되어 있는지 이해할 수 있습니다."
      ],
      "id": "PXJPes-up8WC"
    },
    {
      "cell_type": "markdown",
      "metadata": {
        "id": "5M_8AfDSp8WC"
      },
      "source": [
        "# 당뇨병 데이터로 선형 회귀 모델 학습 및 평가\n",
        "이제 당뇨병 데이터 세트를 사용하여 선형 회귀 모델을 학습시키고, 모델의 성능을 평가해 보겠습니다."
      ],
      "id": "5M_8AfDSp8WC"
    },
    {
      "cell_type": "markdown",
      "metadata": {
        "id": "8PUpKyEDp8WC"
      },
      "source": [
        "## 훈련 데이터와 테스트 데이터 분리하기\n",
        "전체 데이터 중 일부는 모델 훈련에 사용하고, 일부는 모델 평가에 사용하기 위해 데이터를 훈련 세트와 테스트 세트로 나누겠습니다."
      ],
      "id": "8PUpKyEDp8WC"
    },
    {
      "cell_type": "code",
      "execution_count": 26,
      "metadata": {
        "colab": {
          "base_uri": "https://localhost:8080/"
        },
        "id": "cRcbm9Htp8WC",
        "outputId": "098eb10c-11de-4df9-8285-32619552fd0d"
      },
      "outputs": [
        {
          "output_type": "stream",
          "name": "stdout",
          "text": [
            "Training data shape: (353, 10), Training target shape: (353,)\n",
            "Test data shape: (89, 10), Test target shape: (89,)\n"
          ]
        }
      ],
      "source": [
        "# 필요한 라이브러리 임포트\n",
        "from sklearn.model_selection import train_test_split\n",
        "\n",
        "# 입력 데이터와 타겟 데이터 준비\n",
        "X = diabetes.data  # 입력 데이터\n",
        "y = diabetes.target  # 타겟 데이터\n",
        "\n",
        "# 훈련 세트와 테스트 세트로 분리 (8:2 비율)\n",
        "X_train, X_test, y_train, y_test = train_test_split(X, y, test_size=0.2, random_state=42)\n",
        "print(f'Training data shape: {X_train.shape}, Training target shape: {y_train.shape}')\n",
        "print(f'Test data shape: {X_test.shape}, Test target shape: {y_test.shape}')"
      ],
      "id": "cRcbm9Htp8WC"
    },
    {
      "cell_type": "markdown",
      "metadata": {
        "id": "zmYKVTFQp8WC"
      },
      "source": [
        "## 선형 회귀 모델 학습하기\n",
        "훈련 데이터를 사용하여 선형 회귀 모델을 학습시켜 보겠습니다."
      ],
      "id": "zmYKVTFQp8WC"
    },
    {
      "cell_type": "code",
      "execution_count": 27,
      "metadata": {
        "colab": {
          "base_uri": "https://localhost:8080/"
        },
        "id": "Q0G5fOiDp8WC",
        "outputId": "a30231fc-a54e-4d47-d407-aaf51d3a5836"
      },
      "outputs": [
        {
          "output_type": "stream",
          "name": "stdout",
          "text": [
            "Model Coefficients: [  37.90402135 -241.96436231  542.42875852  347.70384391 -931.48884588\n",
            "  518.06227698  163.41998299  275.31790158  736.1988589    48.67065743]\n",
            "Model Intercept: 151.34560453985995\n"
          ]
        }
      ],
      "source": [
        "# 선형 회귀 모델 생성 및 학습\n",
        "model = LinearRegression()\n",
        "model.fit(X_train, y_train)\n",
        "\n",
        "# 모델의 기울기와 절편 출력\n",
        "print('Model Coefficients:', model.coef_)\n",
        "print('Model Intercept:', model.intercept_)"
      ],
      "id": "Q0G5fOiDp8WC"
    },
    {
      "cell_type": "markdown",
      "metadata": {
        "id": "0NaRPT_Kp8WD"
      },
      "source": [
        "## 모델 평가하기\n",
        "테스트 데이터를 사용하여 모델의 예측 성능을 평가해 보겠습니다."
      ],
      "id": "0NaRPT_Kp8WD"
    },
    {
      "cell_type": "code",
      "execution_count": 28,
      "metadata": {
        "colab": {
          "base_uri": "https://localhost:8080/"
        },
        "id": "SB7xxj08p8WD",
        "outputId": "7e2802fa-227b-42b2-cf4d-626428f3bf1e"
      },
      "outputs": [
        {
          "output_type": "stream",
          "name": "stdout",
          "text": [
            "Mean Squared Error: 2900.193628493482\n",
            "R^2 Score: 0.4526027629719195\n"
          ]
        }
      ],
      "source": [
        "# 모델 예측 및 평가\n",
        "from sklearn.metrics import mean_squared_error, r2_score\n",
        "\n",
        "# 예측 수행\n",
        "y_pred = model.predict(X_test)\n",
        "\n",
        "# 평가 지표 계산\n",
        "mse = mean_squared_error(y_test, y_pred)\n",
        "r2 = r2_score(y_test, y_pred)\n",
        "\n",
        "print(f'Mean Squared Error: {mse}')\n",
        "print(f'R^2 Score: {r2}')"
      ],
      "id": "SB7xxj08p8WD"
    },
    {
      "cell_type": "markdown",
      "metadata": {
        "id": "iq4AN_Lxp8WD"
      },
      "source": [
        "평균 제곱 오차(Mean Squared Error)는 모델의 예측값과 실제 값의 차이를 제곱하여 평균한 값입니다.\n",
        "R^2 스코어는 모델이 데이터를 얼마나 잘 설명하는지를 나타내는 지표로, 1에 가까울수록 좋은 성능을 나타냅니다."
      ],
      "id": "iq4AN_Lxp8WD"
    },
    {
      "cell_type": "markdown",
      "metadata": {
        "id": "aiA3Rf48p8WD"
      },
      "source": [
        "# 경사 하강법을 이용한 선형 회귀 모델 최적화\n",
        "이제 경사 하강법을 통해 선형 회귀 모델의 가중치(기울기와 절편)를 최적화하는 방법을 살펴보겠습니다."
      ],
      "id": "aiA3Rf48p8WD"
    },
    {
      "cell_type": "markdown",
      "metadata": {
        "id": "TF4xDXpap8WD"
      },
      "source": [
        "## 경사 하강법이란?\n",
        "경사 하강법은 비용 함수(cost function)를 최소화하기 위해 반복적으로 가중치를 업데이트하는 최적화 알고리즘입니다.\n",
        "기본 아이디어는 비용 함수의 기울기를 따라 조금씩 내려가면서 최솟값을 찾는 것입니다."
      ],
      "id": "TF4xDXpap8WD"
    },
    {
      "cell_type": "code",
      "execution_count": 29,
      "metadata": {
        "colab": {
          "base_uri": "https://localhost:8080/",
          "height": 472
        },
        "id": "QvjFOMcep8WD",
        "outputId": "a3713bc0-986b-4414-f71e-3fb953d948a0"
      },
      "outputs": [
        {
          "output_type": "display_data",
          "data": {
            "text/plain": [
              "<Figure size 640x480 with 1 Axes>"
            ],
            "image/png": "[encoded data removed]"
          },
          "metadata": {}
        }
      ],
      "source": [
        "# 간단한 선형 회귀 문제를 위한 데이터 생성\n",
        "import numpy as np\n",
        "import matplotlib.pyplot as plt\n",
        "\n",
        "# 데이터 생성 (y = 2x + 3 + noise)\n",
        "np.random.seed(42)  # 난수 고정\n",
        "X = 2 * np.random.rand(100, 1)\n",
        "y = 4 + 3 * X + np.random.randn(100, 1)  # 실제 방정식 y = 4 + 3X에 약간의 노이즈 추가\n",
        "\n",
        "# 데이터 시각화\n",
        "plt.scatter(X, y)\n",
        "plt.title('Generated Data for Linear Regression')\n",
        "plt.xlabel('X')\n",
        "plt.ylabel('y')\n",
        "plt.show()"
      ],
      "id": "QvjFOMcep8WD"
    },
    {
      "cell_type": "markdown",
      "metadata": {
        "id": "JWsURktVp8WD"
      },
      "source": [
        "## 경사 하강법을 이용한 모델 학습\n",
        "학습률(learning rate)을 설정하고 경사 하강법을 반복적으로 수행하여 최적의 가중치를 찾아보겠습니다."
      ],
      "id": "JWsURktVp8WD"
    },
    {
      "cell_type": "code",
      "execution_count": 30,
      "metadata": {
        "colab": {
          "base_uri": "https://localhost:8080/"
        },
        "id": "fCOqn4GFp8WD",
        "outputId": "33456071-ff29-4d5f-abeb-6c245872cb25"
      },
      "outputs": [
        {
          "output_type": "stream",
          "name": "stdout",
          "text": [
            "Estimated coefficients: [[4.21509616]\n",
            " [2.77011339]]\n"
          ]
        }
      ],
      "source": [
        "# 경사 하강법을 통한 선형 회귀 구현\n",
        "learning_rate = 0.1  # 학습률\n",
        "n_iterations = 1000  # 반복 횟수\n",
        "m = 100  # 샘플 수\n",
        "\n",
        "# 초기화\n",
        "theta = np.random.randn(2, 1)  # 임의의 초기값 설정 (절편과 기울기)\n",
        "\n",
        "# 데이터에 1 추가 (절편 항 고려)\n",
        "X_b = np.c_[np.ones((m, 1)), X]  # 모든 샘플에 x0 = 1 추가\n",
        "\n",
        "for iteration in range(n_iterations):\n",
        "    gradients = 2/m * X_b.T.dot(X_b.dot(theta) - y)\n",
        "    theta = theta - learning_rate * gradients\n",
        "\n",
        "print('Estimated coefficients:', theta)"
      ],
      "id": "fCOqn4GFp8WD"
    },
    {
      "cell_type": "markdown",
      "metadata": {
        "id": "0DLAC--Up8WD"
      },
      "source": [
        "위 결과는 경사 하강법을 통해 추정된 선형 회귀 방정식의 가중치(절편과 기울기)입니다."
      ],
      "id": "0DLAC--Up8WD"
    },
    {
      "cell_type": "code",
      "execution_count": 31,
      "metadata": {
        "colab": {
          "base_uri": "https://localhost:8080/",
          "height": 472
        },
        "id": "szPyF3qjp8WD",
        "outputId": "29fb07e1-dc8e-4139-c224-c73442c2e588"
      },
      "outputs": [
        {
          "output_type": "display_data",
          "data": {
            "text/plain": [
              "<Figure size 640x480 with 1 Axes>"
            ],
            "image/png": "[encoded data removed]"
          },
          "metadata": {}
        }
      ],
      "source": [
        "# 경사 하강법으로 추정된 회귀선 시각화\n",
        "plt.scatter(X, y)\n",
        "plt.plot(X, X_b.dot(theta), color='red', label='Regression Line')\n",
        "plt.title('Gradient Descent Fitted Line')\n",
        "plt.xlabel('X')\n",
        "plt.ylabel('y')\n",
        "plt.legend()\n",
        "plt.show()"
      ],
      "id": "szPyF3qjp8WD"
    },
    {
      "cell_type": "markdown",
      "metadata": {
        "id": "ehOFFF9op8WD"
      },
      "source": [
        "# 경사 하강법을 통한 w와 b의 조정 과정\n",
        "이번에는 경사 하강법을 통해 선형 회귀 모델의 가중치(w)와 절편(b)을 조정하는 과정을 상세히 살펴보겠습니다."
      ],
      "id": "ehOFFF9op8WD"
    },
    {
      "cell_type": "markdown",
      "metadata": {
        "id": "jVHghIyqp8WD"
      },
      "source": [
        "## 1. 초기화 단계\n",
        "처음에는 w와 b를 임의로 설정합니다. 이때 w와 b의 값은 학습이 진행됨에 따라 업데이트됩니다."
      ],
      "id": "jVHghIyqp8WD"
    },
    {
      "cell_type": "code",
      "execution_count": 32,
      "metadata": {
        "colab": {
          "base_uri": "https://localhost:8080/"
        },
        "id": "ITgwj8n6p8WD",
        "outputId": "f412fb6e-ad41-4b5d-f755-a5e09c39c107"
      },
      "outputs": [
        {
          "output_type": "stream",
          "name": "stdout",
          "text": [
            "초기 w: 1.0\n",
            "초기 b: 1.0\n"
          ]
        }
      ],
      "source": [
        "# 초기화 단계\n",
        "w = 1.0  # 임의의 초기값\n",
        "b = 1.0  # 임의의 초기값\n",
        "print('초기 w:', w)\n",
        "print('초기 b:', b)"
      ],
      "id": "ITgwj8n6p8WD"
    },
    {
      "cell_type": "markdown",
      "metadata": {
        "id": "XqxplnrLp8WD"
      },
      "source": [
        "## 2. 예측값 계산하기\n",
        "예측값(y_hat)은 현재의 w와 b를 사용하여 계산됩니다. 예측값이 실제 타깃 값과 얼마나 차이가 있는지 확인하는 것이 중요합니다."
      ],
      "id": "XqxplnrLp8WD"
    },
    {
      "cell_type": "code",
      "execution_count": 33,
      "metadata": {
        "colab": {
          "base_uri": "https://localhost:8080/"
        },
        "id": "Nq-93gmGp8WD",
        "outputId": "d1d4881e-2ca8-407d-d9d8-771e0fbdb915"
      },
      "outputs": [
        {
          "output_type": "stream",
          "name": "stdout",
          "text": [
            "첫 번째 샘플의 예측값 y_hat: [1.74908024]\n",
            "첫 번째 샘플의 실제 타깃값 y: [6.33428778]\n"
          ]
        }
      ],
      "source": [
        "# 첫 번째 샘플에 대한 예측값 계산\n",
        "y_hat = w * X[0] + b  # 첫 번째 샘플에 대한 예측값\n",
        "print('첫 번째 샘플의 예측값 y_hat:', y_hat)\n",
        "print('첫 번째 샘플의 실제 타깃값 y:', y[0])"
      ],
      "id": "Nq-93gmGp8WD"
    },
    {
      "cell_type": "markdown",
      "metadata": {
        "id": "rgivUMbKp8WD"
      },
      "source": [
        "## 3. w 값 조정하기\n",
        "현재 w가 실제 타깃 값에 가까워지도록 w를 증가시켜서 오차를 줄이는 과정을 진행합니다."
      ],
      "id": "rgivUMbKp8WD"
    },
    {
      "cell_type": "code",
      "execution_count": 34,
      "metadata": {
        "colab": {
          "base_uri": "https://localhost:8080/"
        },
        "id": "BAB5Xyr6p8WD",
        "outputId": "e907debc-2594-46c6-e36c-b93631b4247f"
      },
      "outputs": [
        {
          "output_type": "stream",
          "name": "stdout",
          "text": [
            "w를 증가시켰을 때 새로운 예측값 y_hat_updated: [1.82398826]\n"
          ]
        }
      ],
      "source": [
        "# w 값을 약간 증가시켜서 새로운 예측값 계산\n",
        "w += 0.1  # w 증가\n",
        "y_hat_updated = w * X[0] + b  # 업데이트된 w로 예측값 계산\n",
        "print('w를 증가시켰을 때 새로운 예측값 y_hat_updated:', y_hat_updated)"
      ],
      "id": "BAB5Xyr6p8WD"
    },
    {
      "cell_type": "markdown",
      "metadata": {
        "id": "eX--_M3mp8WD"
      },
      "source": [
        "## 4. w에 따른 오차 확인\n",
        "w의 변화에 따른 예측값의 변화가 실제 타깃값에 가까워졌는지 확인합니다."
      ],
      "id": "eX--_M3mp8WD"
    },
    {
      "cell_type": "code",
      "execution_count": 35,
      "metadata": {
        "colab": {
          "base_uri": "https://localhost:8080/"
        },
        "id": "lZ46tUBAp8WD",
        "outputId": "068a2030-1797-4a00-8ec8-5ed76e846c96"
      },
      "outputs": [
        {
          "output_type": "stream",
          "name": "stdout",
          "text": [
            "w 변경 전의 오차: [4.58520754]\n",
            "w 변경 후의 오차: [4.51029952]\n"
          ]
        }
      ],
      "source": [
        "# 오차 계산\n",
        "error_before = abs(y[0] - y_hat)\n",
        "error_after = abs(y[0] - y_hat_updated)\n",
        "print('w 변경 전의 오차:', error_before)\n",
        "print('w 변경 후의 오차:', error_after)"
      ],
      "id": "lZ46tUBAp8WD"
    },
    {
      "cell_type": "markdown",
      "metadata": {
        "id": "8MfHaYcdp8WD"
      },
      "source": [
        "위 과정을 반복하여 w와 b를 계속 조정하면서 모델이 최적의 상태에 가까워지도록 경사 하강법을 수행합니다."
      ],
      "id": "8MfHaYcdp8WD"
    },
    {
      "cell_type": "markdown",
      "metadata": {
        "id": "zNio1kwAp8WD"
      },
      "source": [
        "# 가중치(w)와 절편(b)의 업데이트 과정\n",
        "이번 단계에서는 경사 하강법에서 가중치와 절편이 어떻게 업데이트되는지에 대한 세부 과정을 살펴보겠습니다."
      ],
      "id": "zNio1kwAp8WD"
    },
    {
      "cell_type": "markdown",
      "metadata": {
        "id": "meCWmiwBp8WD"
      },
      "source": [
        "## 변화율을 이용한 가중치(w) 업데이트\n",
        "가중치(w)는 비용 함수를 최소화하기 위해 변화율(gradient)을 따라 이동합니다. 여기서 변화율은 현재 가중치에서 얼마만큼 조정해야 하는지를 나타내는 값입니다."
      ],
      "id": "meCWmiwBp8WD"
    },
    {
      "cell_type": "code",
      "execution_count": 36,
      "metadata": {
        "colab": {
          "base_uri": "https://localhost:8080/"
        },
        "id": "u3ukWGFjp8WD",
        "outputId": "73517ad4-f713-4b12-faaf-f37bb5a7b25d"
      },
      "outputs": [
        {
          "output_type": "stream",
          "name": "stdout",
          "text": [
            "초기 w: 1.0, 예측값 y_hat: 0.749080237694725, 실제값 y: [6.33428778], 오차: [5.58520754]\n",
            "업데이트된 w: [1.41837686]\n"
          ]
        }
      ],
      "source": [
        "# w의 초기값 설정\n",
        "w = 1.0  # 임의의 초기값\n",
        "learning_rate = 0.1  # 학습률 설정\n",
        "\n",
        "# 임의의 샘플 x와 y 값\n",
        "x_sample = X[0][0]\n",
        "y_sample = y[0]  # 첫 번째 샘플의 y 값\n",
        "\n",
        "# 현재의 예측값과 오차 계산\n",
        "y_hat = w * x_sample\n",
        "error = y_sample - y_hat\n",
        "print(f'초기 w: {w}, 예측값 y_hat: {y_hat}, 실제값 y: {y_sample}, 오차: {error}')\n",
        "\n",
        "# 변화율에 따른 w의 업데이트\n",
        "w_new = w + learning_rate * error * x_sample\n",
        "print(f'업데이트된 w: {w_new}')"
      ],
      "id": "u3ukWGFjp8WD"
    },
    {
      "cell_type": "markdown",
      "metadata": {
        "id": "xelW7HQap8WD"
      },
      "source": [
        "## 변화율을 이용한 절편(b) 업데이트\n",
        "절편(b)은 x의 값에 독립적으로 영향을 받기 때문에, 단순히 오차에 learning_rate를 곱하여 조정합니다."
      ],
      "id": "xelW7HQap8WD"
    },
    {
      "cell_type": "code",
      "execution_count": 37,
      "metadata": {
        "colab": {
          "base_uri": "https://localhost:8080/"
        },
        "id": "pr2V8Mtgp8WD",
        "outputId": "c00a0a2b-ab9a-4345-f78e-a96440e10cc9"
      },
      "outputs": [
        {
          "output_type": "stream",
          "name": "stdout",
          "text": [
            "업데이트된 b: [1.55852075]\n"
          ]
        }
      ],
      "source": [
        "# b의 초기값 설정\n",
        "b = 1.0  # 임의의 초기값\n",
        "\n",
        "# 변화율에 따른 b의 업데이트\n",
        "b_new = b + learning_rate * error\n",
        "print(f'업데이트된 b: {b_new}')"
      ],
      "id": "pr2V8Mtgp8WD"
    },
    {
      "cell_type": "markdown",
      "metadata": {
        "id": "E7W5NHtmp8WE"
      },
      "source": [
        "## 반복적인 w와 b의 업데이트 과정\n",
        "이제 경사 하강법을 반복적으로 수행하여 w와 b를 지속적으로 업데이트하면서 최적의 값을 찾아가는 과정을 살펴보겠습니다."
      ],
      "id": "E7W5NHtmp8WE"
    },
    {
      "cell_type": "code",
      "execution_count": 38,
      "metadata": {
        "colab": {
          "base_uri": "https://localhost:8080/"
        },
        "id": "Xf1MrS4Mp8WE",
        "outputId": "ecf5100f-8823-4615-c17a-56963939326d"
      },
      "outputs": [
        {
          "output_type": "stream",
          "name": "stdout",
          "text": [
            "Iteration 1: w = [1.34346884], b = [1.45852075], 예측값 y_hat = 1.749080237694725, 오차 = [4.58520754]\n",
            "Iteration 2: w = [1.63331802], b = [1.84546086], 예측값 y_hat = [2.46488671], 오차 = [3.86940107]\n",
            "Iteration 3: w = [1.87791824], b = [2.17199493], 예측값 y_hat = [3.06894711], 오차 = [3.26534067]\n",
            "Iteration 4: w = [2.0843334], b = [2.44755307], 예측값 y_hat = [3.57870637], 오차 = [2.75558141]\n",
            "Iteration 5: w = [2.25852465], b = [2.68009324], 예측값 y_hat = [4.00888603], 오차 = [2.32540176]\n",
            "Iteration 6: w = [2.40552253], b = [2.87633108], 예측값 y_hat = [4.37190942], 오차 = [1.96237836]\n",
            "Iteration 7: w = [2.52957227], b = [3.04193381], 예측값 y_hat = [4.67826047], 오차 = [1.65602731]\n",
            "Iteration 8: w = [2.63425633], b = [3.18168395], 예측값 y_hat = [4.93678641], 오차 = [1.39750138]\n",
            "Iteration 9: w = [2.72259795], b = [3.2996174], 예측값 y_hat = [5.15495331], 오차 = [1.17933447]\n",
            "Iteration 10: w = [2.79714836], b = [3.39914], 예측값 y_hat = [5.33906171], 오차 = [0.99522607]\n"
          ]
        }
      ],
      "source": [
        "# 경사 하강법을 반복적으로 적용하여 w와 b 업데이트\n",
        "iterations = 10  # 반복 횟수 설정\n",
        "for i in range(iterations):\n",
        "    y_hat = w * x_sample + b  # 예측값 계산\n",
        "    error = y_sample - y_hat  # 오차 계산\n",
        "    w += learning_rate * error * x_sample  # w 업데이트\n",
        "    b += learning_rate * error  # b 업데이트\n",
        "    print(f'Iteration {i+1}: w = {w}, b = {b}, 예측값 y_hat = {y_hat}, 오차 = {error}')"
      ],
      "id": "Xf1MrS4Mp8WE"
    },
    {
      "cell_type": "markdown",
      "metadata": {
        "id": "3pn23n-Hp8WE"
      },
      "source": [
        "# 오차 역전파를 활용한 가중치와 절편의 효율적인 업데이트\n",
        "이번 단계에서는 오차 역전파를 통해 가중치(w)와 절편(b)을 더욱 효율적으로 업데이트하는 방법을 살펴보겠습니다."
      ],
      "id": "3pn23n-Hp8WE"
    },
    {
      "cell_type": "markdown",
      "metadata": {
        "id": "I-epX_m-p8WE"
      },
      "source": [
        "## 오차 역전파란?\n",
        "오차 역전파는 신경망에서 출력 값과 실제 값의 차이를 역방향으로 전파하여 가중치와 절편을 조정하는 알고리즘입니다.\n",
        "이는 경사 하강법의 핵심 원리를 적용하여 각 층의 가중치와 절편을 조금씩 조정하여 오차를 최소화하는 데 사용됩니다."
      ],
      "id": "I-epX_m-p8WE"
    },
    {
      "cell_type": "code",
      "execution_count": 39,
      "metadata": {
        "colab": {
          "base_uri": "https://localhost:8080/"
        },
        "id": "TkJedVdKp8WE",
        "outputId": "7ab31f6f-78d5-49ee-d5f6-b2da83521361"
      },
      "outputs": [
        {
          "output_type": "stream",
          "name": "stdout",
          "text": [
            "초기 w: 1.0, 초기 b: 1.0, 예측값 y_hat: 1.749080237694725, 실제값 y: [6.33428778], 오차: [4.58520754]\n"
          ]
        }
      ],
      "source": [
        "# 초기값 설정\n",
        "w = 1.0  # 초기 가중치\n",
        "b = 1.0  # 초기 절편\n",
        "learning_rate = 0.1  # 학습률 설정\n",
        "\n",
        "# 첫 번째 샘플 x와 y 값\n",
        "x_sample = X[0][0]\n",
        "y_sample = y[0]\n",
        "\n",
        "# 예측값과 오차 계산\n",
        "y_hat = w * x_sample + b\n",
        "error = y_sample - y_hat\n",
        "print(f'초기 w: {w}, 초기 b: {b}, 예측값 y_hat: {y_hat}, 실제값 y: {y_sample}, 오차: {error}')"
      ],
      "id": "TkJedVdKp8WE"
    },
    {
      "cell_type": "markdown",
      "metadata": {
        "id": "oUXd2an5p8WE"
      },
      "source": [
        "## 가중치(w) 업데이트\n",
        "가중치 업데이트는 변화율을 이용해 기존 가중치를 조정하는 것입니다. 오차 역전파를 통해 가중치에 대한 변화율을 계산하고, 이를 학습률과 곱해 새로운 가중치를 얻습니다."
      ],
      "id": "oUXd2an5p8WE"
    },
    {
      "cell_type": "code",
      "execution_count": 40,
      "metadata": {
        "colab": {
          "base_uri": "https://localhost:8080/"
        },
        "id": "t7utxyucp8WE",
        "outputId": "e5ee279d-fb27-44f0-e7b9-3845affd4eac"
      },
      "outputs": [
        {
          "output_type": "stream",
          "name": "stdout",
          "text": [
            "업데이트된 w: [1.34346884]\n"
          ]
        }
      ],
      "source": [
        "# 가중치 w의 변화율 적용\n",
        "w_new = w + learning_rate * error * x_sample\n",
        "print(f'업데이트된 w: {w_new}')"
      ],
      "id": "t7utxyucp8WE"
    },
    {
      "cell_type": "markdown",
      "metadata": {
        "id": "cfbBkzFSp8WE"
      },
      "source": [
        "## 절편(b) 업데이트\n",
        "절편 또한 오차를 줄이는 방향으로 조정되며, 이는 학습률과 오차의 곱을 통해 결정됩니다."
      ],
      "id": "cfbBkzFSp8WE"
    },
    {
      "cell_type": "code",
      "execution_count": 41,
      "metadata": {
        "colab": {
          "base_uri": "https://localhost:8080/"
        },
        "id": "Q0d19Tkcp8WE",
        "outputId": "59438edc-9bba-4b0e-fd6a-36784bffe418"
      },
      "outputs": [
        {
          "output_type": "stream",
          "name": "stdout",
          "text": [
            "업데이트된 b: [1.45852075]\n"
          ]
        }
      ],
      "source": [
        "# 절편 b의 변화율 적용\n",
        "b_new = b + learning_rate * error\n",
        "print(f'업데이트된 b: {b_new}')"
      ],
      "id": "Q0d19Tkcp8WE"
    },
    {
      "cell_type": "markdown",
      "metadata": {
        "id": "kdpetS98p8WE"
      },
      "source": [
        "## 오차 역전파를 통한 반복적인 업데이트\n",
        "이제 오차 역전파를 반복적으로 적용하여 가중치와 절편을 계속 조정해 나가는 과정을 수행해 보겠습니다."
      ],
      "id": "kdpetS98p8WE"
    },
    {
      "cell_type": "code",
      "execution_count": 42,
      "metadata": {
        "colab": {
          "base_uri": "https://localhost:8080/"
        },
        "id": "jqKcMm2Rp8WE",
        "outputId": "306b8d19-389b-4f13-dd81-cd33aa943852"
      },
      "outputs": [
        {
          "output_type": "stream",
          "name": "stdout",
          "text": [
            "Iteration 1: w = [1.34346884], b = [1.45852075], 예측값 y_hat = 1.749080237694725, 오차 = [4.58520754]\n",
            "Iteration 2: w = [1.63331802], b = [1.84546086], 예측값 y_hat = [2.46488671], 오차 = [3.86940107]\n",
            "Iteration 3: w = [1.87791824], b = [2.17199493], 예측값 y_hat = [3.06894711], 오차 = [3.26534067]\n",
            "Iteration 4: w = [2.0843334], b = [2.44755307], 예측값 y_hat = [3.57870637], 오차 = [2.75558141]\n",
            "Iteration 5: w = [2.25852465], b = [2.68009324], 예측값 y_hat = [4.00888603], 오차 = [2.32540176]\n",
            "Iteration 6: w = [2.40552253], b = [2.87633108], 예측값 y_hat = [4.37190942], 오차 = [1.96237836]\n",
            "Iteration 7: w = [2.52957227], b = [3.04193381], 예측값 y_hat = [4.67826047], 오차 = [1.65602731]\n",
            "Iteration 8: w = [2.63425633], b = [3.18168395], 예측값 y_hat = [4.93678641], 오차 = [1.39750138]\n",
            "Iteration 9: w = [2.72259795], b = [3.2996174], 예측값 y_hat = [5.15495331], 오차 = [1.17933447]\n",
            "Iteration 10: w = [2.79714836], b = [3.39914], 예측값 y_hat = [5.33906171], 오차 = [0.99522607]\n"
          ]
        }
      ],
      "source": [
        "# 반복적인 경사 하강법 적용\n",
        "iterations = 10  # 반복 횟수 설정\n",
        "for i in range(iterations):\n",
        "    y_hat = w * x_sample + b  # 예측값 계산\n",
        "    error = y_sample - y_hat  # 오차 계산\n",
        "    w += learning_rate * error * x_sample  # 가중치 w 업데이트\n",
        "    b += learning_rate * error  # 절편 b 업데이트\n",
        "    print(f'Iteration {i+1}: w = {w}, b = {b}, 예측값 y_hat = {y_hat}, 오차 = {error}')"
      ],
      "id": "jqKcMm2Rp8WE"
    },
    {
      "cell_type": "markdown",
      "metadata": {
        "id": "NSsEnabxp8WE"
      },
      "source": [
        "# 전체 데이터에 대한 경사 하강법 적용 및 시각화\n",
        "이제 전체 데이터 세트를 사용하여 경사 하강법을 반복적으로 적용하여 최적의 가중치(w)와 절편(b)을 찾아보겠습니다."
      ],
      "id": "NSsEnabxp8WE"
    },
    {
      "cell_type": "markdown",
      "metadata": {
        "id": "5Pg2lEZOp8WE"
      },
      "source": [
        "## 경사 하강법 반복 적용\n",
        "전체 데이터를 활용하여 경사 하강법을 100번 반복하면서 w와 b를 지속적으로 업데이트해 나가는 과정을 수행합니다."
      ],
      "id": "5Pg2lEZOp8WE"
    },
    {
      "cell_type": "code",
      "execution_count": 43,
      "metadata": {
        "colab": {
          "base_uri": "https://localhost:8080/"
        },
        "id": "fX6pODa-p8WE",
        "outputId": "b42f1d42-8e6b-4e58-fa26-b9e6150783b7"
      },
      "outputs": [
        {
          "output_type": "stream",
          "name": "stdout",
          "text": [
            "최종 업데이트된 w: [2.81703891], b: [4.24069104]\n"
          ]
        }
      ],
      "source": [
        "# 초기값 설정\n",
        "w = 1.0  # 초기 가중치\n",
        "b = 1.0  # 초기 절편\n",
        "learning_rate = 0.01  # 학습률 설정\n",
        "iterations = 100  # 반복 횟수\n",
        "\n",
        "# 전체 데이터에 대해 경사 하강법 적용\n",
        "for i in range(iterations):\n",
        "    for x_i, y_i in zip(X.flatten(), y):\n",
        "        y_hat = w * x_i + b  # 예측값 계산\n",
        "        error = y_i - y_hat  # 오차 계산\n",
        "        w += learning_rate * error * x_i  # 가중치 업데이트\n",
        "        b += learning_rate * error  # 절편 업데이트\n",
        "\n",
        "print(f'최종 업데이트된 w: {w}, b: {b}')"
      ],
      "id": "fX6pODa-p8WE"
    },
    {
      "cell_type": "markdown",
      "metadata": {
        "id": "FM57Tnwhp8WE"
      },
      "source": [
        "## 결과 시각화\n",
        "최종적으로 업데이트된 w와 b를 사용하여 전체 데이터에 대한 회귀선을 그려서 시각화해 보겠습니다."
      ],
      "id": "FM57Tnwhp8WE"
    },
    {
      "cell_type": "code",
      "execution_count": 44,
      "metadata": {
        "colab": {
          "base_uri": "https://localhost:8080/",
          "height": 472
        },
        "id": "ClJovEQ6p8WE",
        "outputId": "ccb34ddb-c08a-47fb-f8ee-2ed7d7eadc1a"
      },
      "outputs": [
        {
          "output_type": "display_data",
          "data": {
            "text/plain": [
              "<Figure size 640x480 with 1 Axes>"
            ],
            "image/png": "[encoded data removed]"
          },
          "metadata": {}
        }
      ],
      "source": [
        "# 전체 데이터와 회귀선 시각화\n",
        "plt.scatter(X, y, color='blue', label='Data Points')  # 원본 데이터\n",
        "plt.plot(X, w * X + b, color='red', label='Fitted Line')  # 경사 하강법으로 찾은 회귀선\n",
        "plt.title('Linear Regression with Gradient Descent')\n",
        "plt.xlabel('X')\n",
        "plt.ylabel('y')\n",
        "plt.legend()\n",
        "plt.show()"
      ],
      "id": "ClJovEQ6p8WE"
    },
    {
      "cell_type": "markdown",
      "metadata": {
        "id": "ojnDHH31p8WE"
      },
      "source": [
        "# 최종 모델을 사용하여 새로운 데이터 포인트 예측 및 시각화\n",
        "이제 경사 하강법을 통해 학습된 최종 모델을 사용하여 새로운 데이터 포인트에 대한 예측을 수행하고, 그 결과를 산점도에 시각화해 보겠습니다."
      ],
      "id": "ojnDHH31p8WE"
    },
    {
      "cell_type": "markdown",
      "metadata": {
        "id": "Q8Rzgwwrp8WE"
      },
      "source": [
        "## 새로운 데이터 포인트 예측하기\n",
        "모델이 학습된 이후, 새로운 입력 데이터 x_new에 대한 예측값을 계산해보겠습니다."
      ],
      "id": "Q8Rzgwwrp8WE"
    },
    {
      "cell_type": "code",
      "execution_count": 45,
      "metadata": {
        "colab": {
          "base_uri": "https://localhost:8080/"
        },
        "id": "x_ovAMFdp8WE",
        "outputId": "09278d5b-5dcb-4378-c680-f7c60727ad7d"
      },
      "outputs": [
        {
          "output_type": "stream",
          "name": "stdout",
          "text": [
            "새로운 데이터 포인트 x_new: 0.18에 대한 예측값 y_pred: [4.74775805]\n"
          ]
        }
      ],
      "source": [
        "# 새로운 데이터 포인트\n",
        "x_new = 0.18  # 임의의 새로운 데이터 포인트\n",
        "y_pred = w * x_new + b  # 학습된 w와 b를 사용하여 예측값 계산\n",
        "print(f'새로운 데이터 포인트 x_new: {x_new}에 대한 예측값 y_pred: {y_pred}')"
      ],
      "id": "x_ovAMFdp8WE"
    },
    {
      "cell_type": "markdown",
      "metadata": {
        "id": "55gSz6aGp8WE"
      },
      "source": [
        "## 예측 결과 시각화하기\n",
        "새로운 데이터 포인트에 대한 예측값을 기존의 데이터 산점도와 함께 시각화해보겠습니다."
      ],
      "id": "55gSz6aGp8WE"
    },
    {
      "cell_type": "code",
      "execution_count": 46,
      "metadata": {
        "colab": {
          "base_uri": "https://localhost:8080/",
          "height": 472
        },
        "id": "5gSw_TZFp8WE",
        "outputId": "b95051e3-37db-4d1e-f608-ec888ceb60f2"
      },
      "outputs": [
        {
          "output_type": "display_data",
          "data": {
            "text/plain": [
              "<Figure size 640x480 with 1 Axes>"
            ],
            "image/png": "[encoded data removed]"
          },
          "metadata": {}
        }
      ],
      "source": [
        "# 기존 데이터와 새로운 예측값을 시각화\n",
        "plt.scatter(X, y, color='blue', label='Training Data')  # 기존 데이터 산점도\n",
        "plt.plot(X, w * X + b, color='red', label='Fitted Line')  # 학습된 회귀선\n",
        "plt.scatter(x_new, y_pred, color='green', marker='x', s=100, label='New Prediction')  # 새로운 데이터 포인트 예측값\n",
        "plt.title('Linear Regression Prediction Visualization')\n",
        "plt.xlabel('X')\n",
        "plt.ylabel('y')\n",
        "plt.legend()\n",
        "plt.show()"
      ],
      "id": "5gSw_TZFp8WE"
    },
    {
      "cell_type": "markdown",
      "metadata": {
        "id": "dxMeC2BZp8WE"
      },
      "source": [
        "# 손실 함수와 경사 하강법의 관계\n",
        "이번 단계에서는 선형 회귀 모델에서 사용되는 손실 함수인 Squared Error와 경사 하강법의 관계를 살펴보겠습니다."
      ],
      "id": "dxMeC2BZp8WE"
    },
    {
      "cell_type": "markdown",
      "metadata": {
        "id": "3Ky5mUFap8WE"
      },
      "source": [
        "## 손실 함수 (Squared Error)란?\n",
        "손실 함수는 예측값과 실제 값 사이의 차이를 측정하는 지표로 사용됩니다. 가장 일반적으로 사용되는 손실 함수는 다음과 같습니다.\n",
        "\\[ SE = (y - \\hat{y})^2 \\]\n",
        "여기서 \\( y \\)는 실제 값이고, \\( \\hat{y} \\)는 예측값입니다."
      ],
      "id": "3Ky5mUFap8WE"
    },
    {
      "cell_type": "markdown",
      "metadata": {
        "id": "LB3hBy4kp8WG"
      },
      "source": [
        "## 가중치(w)에 대한 손실 함수의 미분\n",
        "경사 하강법을 사용하기 위해서는 손실 함수를 가중치에 대해 미분하여 변화율을 계산해야 합니다. 이를 통해 가중치가 어느 방향으로, 얼마나 조정되어야 하는지 알 수 있습니다.\n",
        "손실 함수 \\( SE \\)를 \\( w \\)에 대해 미분하면 다음과 같습니다.\n",
        "\\[ \\frac{\\partial SE}{\\partial w} = -2(y - \\hat{y})x \\]\n",
        "이 미분 결과는 경사 하강법을 통해 가중치 \\( w \\)를 업데이트할 때 사용됩니다."
      ],
      "id": "LB3hBy4kp8WG"
    },
    {
      "cell_type": "code",
      "execution_count": 47,
      "metadata": {
        "colab": {
          "base_uri": "https://localhost:8080/"
        },
        "id": "iqJcoBK1p8WG",
        "outputId": "0b01b35f-ee06-45cb-8f8f-37ba60da5014"
      },
      "outputs": [
        {
          "output_type": "stream",
          "name": "stdout",
          "text": [
            "업데이트된 w: [1.04183769]\n"
          ]
        }
      ],
      "source": [
        "# 손실 함수와 경사 하강법을 적용한 가중치 업데이트 과정\n",
        "w = 1.0  # 초기 가중치\n",
        "learning_rate = 0.01  # 학습률 설정\n",
        "\n",
        "# 첫 번째 샘플의 x와 y 값\n",
        "x_sample = X[0][0]\n",
        "y_sample = y[0]\n",
        "\n",
        "# 예측값 계산\n",
        "y_hat = w * x_sample  # 예측값\n",
        "error = y_sample - y_hat  # 실제 값과 예측값의 차이 (오차)\n",
        "\n",
        "# 손실 함수의 미분 결과를 이용한 가중치 업데이트\n",
        "w_new = w + learning_rate * error * x_sample\n",
        "print(f'업데이트된 w: {w_new}')"
      ],
      "id": "iqJcoBK1p8WG"
    },
    {
      "cell_type": "markdown",
      "metadata": {
        "id": "8k_z_pmmp8WG"
      },
      "source": [
        "위 과정은 경사 하강법을 이용해 가중치(w)를 손실 함수를 최소화하는 방향으로 업데이트하는 방법을 보여줍니다."
      ],
      "id": "8k_z_pmmp8WG"
    },
    {
      "cell_type": "markdown",
      "metadata": {
        "id": "W0YEioUMp8WG"
      },
      "source": [
        "## 절편(b)에 대한 손실 함수의 미분\n",
        "절편(b) 역시 마찬가지로 손실 함수에 대해 미분되어 경사 하강법에 적용됩니다. 손실 함수 \\( SE \\)를 \\( b \\)에 대해 미분하면 다음과 같습니다.\n",
        "\\[ \\frac{\\partial SE}{\\partial b} = -2(y - \\hat{y}) \\]\n",
        "이를 통해 절편도 경사 하강법에 따라 업데이트됩니다."
      ],
      "id": "W0YEioUMp8WG"
    },
    {
      "cell_type": "code",
      "execution_count": 48,
      "metadata": {
        "colab": {
          "base_uri": "https://localhost:8080/"
        },
        "id": "Yh3ILrZxp8WG",
        "outputId": "7081fae1-3cd0-4fc4-e469-8c486c89341a"
      },
      "outputs": [
        {
          "output_type": "stream",
          "name": "stdout",
          "text": [
            "업데이트된 b: [1.05585208]\n"
          ]
        }
      ],
      "source": [
        "# 절편 b의 업데이트 과정\n",
        "b = 1.0  # 초기 절편\n",
        "\n",
        "# 손실 함수의 미분 결과를 이용한 절편 업데이트\n",
        "b_new = b + learning_rate * error\n",
        "print(f'업데이트된 b: {b_new}')"
      ],
      "id": "Yh3ILrZxp8WG"
    },
    {
      "cell_type": "markdown",
      "metadata": {
        "id": "LSNOWaszp8WG"
      },
      "source": [
        "# 선형 회귀를 위한 Neuron 클래스 구현\n",
        "이제 앞서 배운 경사 하강법과 손실 함수를 활용하여 선형 회귀를 수행하는 Neuron 클래스를 만들어 보겠습니다."
      ],
      "id": "LSNOWaszp8WG"
    },
    {
      "cell_type": "markdown",
      "metadata": {
        "id": "BXI5zENxp8WG"
      },
      "source": [
        "## 1. 클래스 초기화 메서드 (`__init__`)\n",
        "클래스를 초기화할 때 필요한 가중치(w), 절편(b), 학습률(learning rate)을 설정해보겠습니다."
      ],
      "id": "BXI5zENxp8WG"
    },
    {
      "cell_type": "code",
      "execution_count": 49,
      "metadata": {
        "id": "_3-DXjkcp8WG"
      },
      "outputs": [],
      "source": [
        "# Neuron 클래스 정의\n",
        "class Neuron:\n",
        "    def __init__(self, learning_rate=0.01):\n",
        "        # 가중치와 절편 초기화\n",
        "        self.w = 1.0  # 가중치 초기값\n",
        "        self.b = 1.0  # 절편 초기값\n",
        "        self.learning_rate = learning_rate  # 학습률\n",
        "        print(f'Neuron 초기화: w={self.w}, b={self.b}, 학습률={self.learning_rate}')"
      ],
      "id": "_3-DXjkcp8WG"
    },
    {
      "cell_type": "markdown",
      "metadata": {
        "id": "4Eqg2bkyp8WG"
      },
      "source": [
        "## 2. 예측 메서드 (`predict`)\n",
        "입력값 x에 대해 현재 가중치(w)와 절편(b)을 사용하여 예측값(y_hat)을 계산하는 메서드를 작성해보겠습니다."
      ],
      "id": "4Eqg2bkyp8WG"
    },
    {
      "cell_type": "code",
      "execution_count": 50,
      "metadata": {
        "id": "MoR8JzSCp8WG"
      },
      "outputs": [],
      "source": [
        "    def predict(self, x):\n",
        "        # 선형 회귀 예측값 계산\n",
        "        return self.w * x + self.b"
      ],
      "id": "MoR8JzSCp8WG"
    },
    {
      "cell_type": "markdown",
      "metadata": {
        "id": "KVTr04nxp8WG"
      },
      "source": [
        "## 3. 경사 하강법 적용 메서드 (`update_weights`)\n",
        "손실 함수의 미분 결과를 이용하여 가중치(w)와 절편(b)을 업데이트하는 메서드를 작성해보겠습니다."
      ],
      "id": "KVTr04nxp8WG"
    },
    {
      "cell_type": "code",
      "execution_count": 51,
      "metadata": {
        "id": "1sb7Uerip8WG"
      },
      "outputs": [],
      "source": [
        "    def update_weights(self, x, y):\n",
        "        # 현재 예측값 계산\n",
        "        y_hat = self.predict(x)\n",
        "        # 오차 계산\n",
        "        error = y - y_hat\n",
        "        # 경사 하강법을 이용한 가중치와 절편 업데이트\n",
        "        self.w += self.learning_rate * error * x\n",
        "        self.b += self.learning_rate * error\n",
        "        print(f'업데이트된 w: {self.w}, b: {self.b}')"
      ],
      "id": "1sb7Uerip8WG"
    },
    {
      "cell_type": "markdown",
      "metadata": {
        "id": "9PJuuLFCp8WG"
      },
      "source": [
        "## Neuron 클래스 테스트\n",
        "이제 작성한 Neuron 클래스를 사용하여 경사 하강법을 통한 가중치와 절편 업데이트 과정을 확인해보겠습니다."
      ],
      "id": "9PJuuLFCp8WG"
    },
    {
      "cell_type": "code",
      "execution_count": 54,
      "metadata": {
        "colab": {
          "base_uri": "https://localhost:8080/"
        },
        "id": "ytceZSs9p8WG",
        "outputId": "d66bcc62-e7dd-4600-dc48-23892492264b"
      },
      "outputs": [
        {
          "output_type": "stream",
          "name": "stdout",
          "text": [
            "초기 예측값: 0.0\n",
            "업데이트된 w: 0.5181119999999999, b: 2.8783999999999996\n",
            "업데이트 후 예측값: 2.9716601599999994\n"
          ]
        }
      ],
      "source": [
        "class Neuron:\n",
        "    def __init__(self, learning_rate=0.01):\n",
        "        self.w = 0.0  # 가중치 초기화\n",
        "        self.b = 0.0  # 절편 초기화\n",
        "        self.learning_rate = learning_rate  # 학습률 설정\n",
        "\n",
        "    def predict(self, x):\n",
        "        # 선형 회귀 예측값 계산\n",
        "        return self.w * x + self.b\n",
        "\n",
        "    def update_weights(self, x, y):\n",
        "        # 현재 예측값 계산\n",
        "        y_hat = self.predict(x)\n",
        "        # 오차 계산\n",
        "        error = y - y_hat\n",
        "        # 경사 하강법을 이용한 가중치와 절편 업데이트\n",
        "        self.w += self.learning_rate * error * x\n",
        "        self.b += self.learning_rate * error\n",
        "        print(f'업데이트된 w: {self.w}, b: {self.b}')\n",
        "\n",
        "# Neuron 클래스 인스턴스 생성 및 테스트\n",
        "neuron = Neuron(learning_rate=0.01)\n",
        "x_sample = 0.18  # 임의의 입력 데이터\n",
        "y_sample = 287.84  # 임의의 실제 출력 값\n",
        "\n",
        "# 초기 예측값 확인\n",
        "print('초기 예측값:', neuron.predict(x_sample))\n",
        "\n",
        "# 경사 하강법 적용을 통한 가중치와 절편 업데이트\n",
        "neuron.update_weights(x_sample, y_sample)\n",
        "\n",
        "# 업데이트 후 예측값 확인\n",
        "print('업데이트 후 예측값:', neuron.predict(x_sample))"
      ],
      "id": "ytceZSs9p8WG"
    },
    {
      "cell_type": "markdown",
      "metadata": {
        "id": "N_tR1aGap8WG"
      },
      "source": [
        "# Neuron 클래스의 순전파와 역전파 메서드 구현\n",
        "이제 Neuron 클래스에 순전파(forward pass)와 역전파(backpropagation) 과정을 추가해 보겠습니다."
      ],
      "id": "N_tR1aGap8WG"
    },
    {
      "cell_type": "markdown",
      "metadata": {
        "id": "qWQNsbqvp8WG"
      },
      "source": [
        "## 1. 순전파 (forpass) 메서드 구현\n",
        "순전파는 입력값을 받아 예측값을 계산하는 과정입니다. 이 과정에서는 기존의 가중치(w)와 절편(b)를 사용하여 예측값을 반환합니다."
      ],
      "id": "qWQNsbqvp8WG"
    },
    {
      "cell_type": "code",
      "execution_count": 55,
      "metadata": {
        "id": "Q_Mj6wiWp8WG"
      },
      "outputs": [],
      "source": [
        "# Neuron 클래스에 순전파 메서드 추가\n",
        "class Neuron:\n",
        "    def __init__(self, learning_rate=0.01):\n",
        "        self.w = 1.0\n",
        "        self.b = 1.0\n",
        "        self.learning_rate = learning_rate\n",
        "        print(f'Neuron 초기화: w={self.w}, b={self.b}, 학습률={self.learning_rate}')\n",
        "\n",
        "    def predict(self, x):\n",
        "        return self.w * x + self.b\n",
        "\n",
        "    def forpass(self, x):\n",
        "        # 순전파: 입력값을 받아 예측값 반환\n",
        "        y_hat = self.w * x + self.b\n",
        "        return y_hat"
      ],
      "id": "Q_Mj6wiWp8WG"
    },
    {
      "cell_type": "markdown",
      "metadata": {
        "id": "P0gA9RO6p8WH"
      },
      "source": [
        "## 2. 역전파 (backprop) 메서드 구현\n",
        "역전파는 손실 함수에 대한 가중치와 절편의 변화율(gradient)을 계산하는 과정입니다."
      ],
      "id": "P0gA9RO6p8WH"
    },
    {
      "cell_type": "code",
      "execution_count": 56,
      "metadata": {
        "id": "k0lEpsbEp8WH"
      },
      "outputs": [],
      "source": [
        "    def backprop(self, x, err):\n",
        "        # 역전파: 가중치와 절편의 변화율 계산\n",
        "        w_grad = x * err  # 가중치에 대한 그레디언트\n",
        "        b_grad = 1 * err  # 절편에 대한 그레디언트\n",
        "        return w_grad, b_grad"
      ],
      "id": "k0lEpsbEp8WH"
    },
    {
      "cell_type": "markdown",
      "metadata": {
        "id": "_sxDNYc-p8WH"
      },
      "source": [
        "## 순전파 및 역전파 메서드 테스트\n",
        "이제 작성한 Neuron 클래스의 순전파와 역전파 메서드를 사용하여 가중치와 절편의 업데이트 과정을 확인해 보겠습니다."
      ],
      "id": "_sxDNYc-p8WH"
    },
    {
      "cell_type": "code",
      "execution_count": 60,
      "metadata": {
        "colab": {
          "base_uri": "https://localhost:8080/"
        },
        "id": "4IswQGzfp8WH",
        "outputId": "81928d67-9089-469e-92e3-2e1974f4559d"
      },
      "outputs": [
        {
          "output_type": "stream",
          "name": "stdout",
          "text": [
            "Neuron 초기화: w=1.0, b=1.0, 학습률=0.01\n",
            "순전파 예측값 y_hat: 1.18\n",
            "가중치 그레디언트 w_grad: 51.59879999999999, 절편 그레디언트 b_grad: 286.65999999999997\n"
          ]
        }
      ],
      "source": [
        "class Neuron:\n",
        "    def __init__(self, learning_rate=0.01):\n",
        "        self.w = 1.0\n",
        "        self.b = 1.0\n",
        "        self.learning_rate = learning_rate\n",
        "        print(f'Neuron 초기화: w={self.w}, b={self.b}, 학습률={self.learning_rate}')\n",
        "\n",
        "    def predict(self, x):\n",
        "        return self.w * x + self.b\n",
        "\n",
        "    def forpass(self, x):\n",
        "        # 순전파: 입력값을 받아 예측값 반환\n",
        "        y_hat = self.w * x + self.b\n",
        "        return y_hat\n",
        "\n",
        "    def backprop(self, x, err):\n",
        "        # 역전파: 가중치와 절편의 변화율 계산\n",
        "        w_grad = x * err  # 가중치에 대한 그레디언트\n",
        "        b_grad = 1 * err  # 절편에 대한 그레디언트\n",
        "        return w_grad, b_grad # backprop 메서드를 Neuron 클래스 안으로 이동\n",
        "# Neuron 클래스 인스턴스 생성 및 테스트\n",
        "neuron = Neuron(learning_rate=0.01)\n",
        "x_sample = 0.18  # 임의의 입력 데이터\n",
        "y_sample = 287.84  # 임의의 실제 출력 값\n",
        "\n",
        "# 순전파를 통한 예측값 계산\n",
        "y_hat = neuron.forpass(x_sample)\n",
        "print(f'순전파 예측값 y_hat: {y_hat}')\n",
        "\n",
        "# 오차 계산\n",
        "err = y_sample - y_hat\n",
        "\n",
        "# 역전파를 통한 그레디언트 계산\n",
        "w_grad, b_grad = neuron.backprop(x_sample, err)\n",
        "print(f'가중치 그레디언트 w_grad: {w_grad}, 절편 그레디언트 b_grad: {b_grad}')"
      ],
      "id": "4IswQGzfp8WH"
    },
    {
      "cell_type": "markdown",
      "metadata": {
        "id": "XxwhLO8Pp8WH"
      },
      "source": [
        "# Neuron 클래스의 fit 메서드 구현 및 결과 시각화\n",
        "이제 Neuron 클래스에 주어진 데이터를 사용하여 모델을 학습하는 `fit` 메서드를 추가하고, 학습 결과를 시각화하는 과정을 진행하겠습니다."
      ],
      "id": "XxwhLO8Pp8WH"
    },
    {
      "cell_type": "markdown",
      "metadata": {
        "id": "DnpUM8Jdp8WH"
      },
      "source": [
        "## 1. fit 메서드 구현\n",
        "fit 메서드는 주어진 입력 데이터(x)와 타깃 데이터(y)를 사용하여 경사 하강법을 반복적으로 적용해 가중치(w)와 절편(b)을 최적화하는 역할을 합니다."
      ],
      "id": "DnpUM8Jdp8WH"
    },
    {
      "cell_type": "code",
      "execution_count": 61,
      "metadata": {
        "id": "-pNJr541p8WH"
      },
      "outputs": [],
      "source": [
        "# Neuron 클래스에 fit 메서드 추가\n",
        "class Neuron:\n",
        "    def __init__(self, learning_rate=0.01):\n",
        "        self.w = 1.0\n",
        "        self.b = 1.0\n",
        "        self.learning_rate = learning_rate\n",
        "        print(f'Neuron 초기화: w={self.w}, b={self.b}, 학습률={self.learning_rate}')\n",
        "\n",
        "    def forpass(self, x):\n",
        "        return self.w * x + self.b\n",
        "\n",
        "    def backprop(self, x, err):\n",
        "        w_grad = x * err\n",
        "        b_grad = 1 * err\n",
        "        return w_grad, b_grad\n",
        "\n",
        "    def fit(self, X, y, epochs=100):\n",
        "        for i in range(epochs):\n",
        "            for x_i, y_i in zip(X.flatten(), y):\n",
        "                y_hat = self.forpass(x_i)  # 순전파 계산\n",
        "                err = y_i - y_hat  # 오차 계산\n",
        "                w_grad, b_grad = self.backprop(x_i, err)  # 역전파 계산\n",
        "                self.w += self.learning_rate * w_grad  # 가중치 업데이트\n",
        "                self.b += self.learning_rate * b_grad  # 절편 업데이트\n",
        "        print(f'최종 학습된 w: {self.w}, b: {self.b}')"
      ],
      "id": "-pNJr541p8WH"
    },
    {
      "cell_type": "markdown",
      "metadata": {
        "id": "AybFi8zbp8WH"
      },
      "source": [
        "## 2. 학습 결과 시각화\n",
        "최종 학습된 모델의 가중치와 절편을 사용하여 회귀선을 그려보겠습니다."
      ],
      "id": "AybFi8zbp8WH"
    },
    {
      "cell_type": "code",
      "execution_count": 62,
      "metadata": {
        "colab": {
          "base_uri": "https://localhost:8080/",
          "height": 507
        },
        "id": "-V0mRUxOp8WH",
        "outputId": "3323191d-904f-4c97-b7df-2f1448e2b4e2"
      },
      "outputs": [
        {
          "output_type": "stream",
          "name": "stdout",
          "text": [
            "Neuron 초기화: w=1.0, b=1.0, 학습률=0.01\n",
            "최종 학습된 w: [2.81703891], b: [4.24069104]\n"
          ]
        },
        {
          "output_type": "display_data",
          "data": {
            "text/plain": [
              "<Figure size 640x480 with 1 Axes>"
            ],
            "image/png": "[encoded data removed]"
          },
          "metadata": {}
        }
      ],
      "source": [
        "# Neuron 클래스 인스턴스 생성 및 학습 수행\n",
        "neuron = Neuron(learning_rate=0.01)\n",
        "neuron.fit(X, y, epochs=100)  # 100번의 에포크 동안 학습 수행\n",
        "\n",
        "# 학습 결과 시각화\n",
        "plt.scatter(X, y, color='blue', label='Training Data')  # 기존 데이터 산점도\n",
        "plt.plot(X, neuron.w * X + neuron.b, color='red', label='Fitted Line')  # 학습된 회귀선\n",
        "plt.title('Linear Regression with Gradient Descent (Neuron Class)')\n",
        "plt.xlabel('X')\n",
        "plt.ylabel('y')\n",
        "plt.legend()\n",
        "plt.show()"
      ],
      "id": "-V0mRUxOp8WH"
    },
    {
      "cell_type": "markdown",
      "metadata": {
        "id": "JowVbRDQp8WH"
      },
      "source": [
        "# Neuron 클래스 전체 구조 및 핵심 알고리즘 요약\n",
        "이 장에서는 지금까지 구현한 Neuron 클래스의 구조를 요약하고, 핵심 알고리즘에 대해 정리하겠습니다."
      ],
      "id": "JowVbRDQp8WH"
    },
    {
      "cell_type": "markdown",
      "metadata": {
        "id": "earPD6QUp8WH"
      },
      "source": [
        "## Neuron 클래스의 전체 구조\n",
        "아래는 Neuron 클래스의 전체 구조를 보여줍니다. 이 클래스는 선형 회귀를 위한 경사 하강법 알고리즘을 사용하여 가중치와 절편을 최적화하는 과정을 담고 있습니다."
      ],
      "id": "earPD6QUp8WH"
    },
    {
      "cell_type": "code",
      "execution_count": 63,
      "metadata": {
        "id": "6zt12bY2p8WH"
      },
      "outputs": [],
      "source": [
        "# Neuron 클래스 전체 구조\n",
        "class Neuron:\n",
        "    def __init__(self, learning_rate=0.01):\n",
        "        self.w = 1.0\n",
        "        self.b = 1.0\n",
        "        self.learning_rate = learning_rate\n",
        "        print(f'Neuron 초기화: w={self.w}, b={self.b}, 학습률={self.learning_rate}')\n",
        "\n",
        "    def forpass(self, x):\n",
        "        return self.w * x + self.b\n",
        "\n",
        "    def backprop(self, x, err):\n",
        "        w_grad = x * err\n",
        "        b_grad = 1 * err\n",
        "        return w_grad, b_grad\n",
        "\n",
        "    def fit(self, X, y, epochs=100):\n",
        "        for i in range(epochs):\n",
        "            for x_i, y_i in zip(X.flatten(), y):\n",
        "                y_hat = self.forpass(x_i)\n",
        "                err = y_i - y_hat\n",
        "                w_grad, b_grad = self.backprop(x_i, err)\n",
        "                self.w += self.learning_rate * w_grad\n",
        "                self.b += self.learning_rate * b_grad\n",
        "        print(f'최종 학습된 w: {self.w}, b: {self.b}')"
      ],
      "id": "6zt12bY2p8WH"
    },
    {
      "cell_type": "markdown",
      "metadata": {
        "id": "hRlMURofp8WH"
      },
      "source": [
        "## 핵심 개념 요약\n",
        "### 1. 선형 회귀\n",
        "- 선형 회귀는 주어진 데이터를 가장 잘 설명하는 직선을 찾는 방법입니다.\n",
        "- 이 직선은 \\( y = wx + b \\)의 형태로 표현되며, 여기서 \\( w \\)는 가중치, \\( b \\)는 절편을 의미합니다.\n",
        "- 목표는 주어진 데이터에 대해 예측한 값과 실제 값의 차이를 최소화하는 것입니다."
      ],
      "id": "hRlMURofp8WH"
    },
    {
      "cell_type": "markdown",
      "metadata": {
        "id": "FrE2Pu98p8WH"
      },
      "source": [
        "### 2. 경사 하강법\n",
        "- 경사 하강법은 손실 함수를 최소화하는 최적의 가중치와 절편을 찾기 위한 알고리즘입니다.\n",
        "- 손실 함수는 예측값과 실제 값의 차이를 측정하는 지표로, 가장 일반적인 손실 함수는 Mean Squared Error (MSE)입니다.\n",
        "- 경사 하강법은 가중치와 절편을 조정하는 과정을 반복하여 손실 함수를 점진적으로 줄여나갑니다."
      ],
      "id": "FrE2Pu98p8WH"
    },
    {
      "cell_type": "markdown",
      "metadata": {
        "id": "n8zbhDPlp8WH"
      },
      "source": [
        "### 3. 오차 역전파\n",
        "- 오차 역전파는 예측값과 실제 값 사이의 오차를 바탕으로 가중치와 절편을 업데이트하는 방법입니다.\n",
        "- 손실 함수를 가중치와 절편에 대해 미분하여 그레디언트(변화율)를 계산하고, 이를 이용해 가중치와 절편을 조정합니다.\n",
        "- 이를 통해 모델의 예측 성능을 점진적으로 개선해나갑니다."
      ],
      "id": "n8zbhDPlp8WH"
    },
    {
      "cell_type": "markdown",
      "metadata": {
        "id": "72gtr8zxp8WH"
      },
      "source": [
        "## 정리\n",
        "이 장에서는 Neuron 클래스의 구조와 핵심 알고리즘에 대해 알아보았습니다. 이제 이 개념을 바탕으로 더욱 복잡한 딥러닝 모델을 구축하는 데 필요한 기초 지식을 갖추게 되었습니다."
      ],
      "id": "72gtr8zxp8WH"
    },
    {
      "cell_type": "markdown",
      "metadata": {
        "id": "W8WdKb5dp8WH"
      },
      "source": [
        "# 분류를 위한 퍼셉트론과 로지스틱 회귀\n",
        "이번 장에서는 분류 문제를 해결하기 위한 퍼셉트론 알고리즘과 로지스틱 회귀에 대해 알아보겠습니다."
      ],
      "id": "W8WdKb5dp8WH"
    },
    {
      "cell_type": "markdown",
      "metadata": {
        "id": "ONrG1Rgap8WH"
      },
      "source": [
        "## 퍼셉트론에 대해 알아봅시다\n",
        "퍼셉트론은 인공 뉴런의 기본적인 구조를 가진 알고리즘으로, 입력 데이터를 기반으로 선형 분류를 수행합니다.\n",
        "1957년에 프랑크 로젠블랫(Frank Rosenblatt)에 의해 제안되었으며, 이진 분류(binary classification) 문제에 주로 사용됩니다."
      ],
      "id": "ONrG1Rgap8WH"
    },
    {
      "cell_type": "markdown",
      "metadata": {
        "id": "_Cx-loMyp8WH"
      },
      "source": [
        "### 퍼셉트론의 전체 구조\n",
        "- 퍼셉트론은 입력값에 가중치(w)를 곱하고 절편(b)을 더한 뒤 활성화 함수(activation function)인 계단 함수(step function)를 통해 결과값을 반환합니다.\n",
        "- 이때 퍼셉트론의 출력은 0 또는 1로 나타나며, 이를 통해 주어진 데이터가 특정 클래스에 속하는지 여부를 판별합니다.\n",
        "- 퍼셉트론의 수식은 다음과 같습니다:\n",
        "  \\[ y = f(w_1x_1 + w_2x_2 + ... + w_nx_n + b) \\]\n",
        "  여기서 \\(f\\)는 계단 함수(step function)입니다."
      ],
      "id": "_Cx-loMyp8WH"
    },
    {
      "cell_type": "code",
      "execution_count": 64,
      "metadata": {
        "id": "ZV_w_Fa5p8WH"
      },
      "outputs": [],
      "source": [
        "# 퍼셉트론 알고리즘 구현\n",
        "import numpy as np\n",
        "\n",
        "class Perceptron:\n",
        "    def __init__(self, learning_rate=0.01, epochs=100):\n",
        "        self.learning_rate = learning_rate\n",
        "        self.epochs = epochs\n",
        "        self.w = None\n",
        "        self.b = None\n",
        "\n",
        "    def step_function(self, x):\n",
        "        return np.where(x >= 0, 1, 0)  # 입력이 0 이상이면 1, 아니면 0 반환\n",
        "\n",
        "    def fit(self, X, y):\n",
        "        n_samples, n_features = X.shape\n",
        "        self.w = np.zeros(n_features)  # 가중치 초기화\n",
        "        self.b = 0  # 절편 초기화\n",
        "\n",
        "        for _ in range(self.epochs):\n",
        "            for idx, x_i in enumerate(X):\n",
        "                linear_output = np.dot(x_i, self.w) + self.b  # 선형 결합\n",
        "                y_pred = self.step_function(linear_output)  # 활성화 함수 적용\n",
        "\n",
        "                # 가중치 및 절편 업데이트\n",
        "                update = self.learning_rate * (y[idx] - y_pred)\n",
        "                self.w += update * x_i\n",
        "                self.b += update\n",
        "\n",
        "    def predict(self, X):\n",
        "        linear_output = np.dot(X, self.w) + self.b\n",
        "        return self.step_function(linear_output)"
      ],
      "id": "ZV_w_Fa5p8WH"
    },
    {
      "cell_type": "markdown",
      "metadata": {
        "id": "_cwxU1wYp8WH"
      },
      "source": [
        "## 로지스틱 회귀(Logistic Regression)에 대해 알아봅시다\n",
        "- 로지스틱 회귀는 퍼셉트론과 달리 연속적인 확률값을 출력하는 분류 알고리즘입니다.\n",
        "- 예측값은 0과 1 사이의 값으로 나타나며, 로지스틱 함수(sigmoid function)를 사용해 입력값을 확률로 변환합니다.\n",
        "- 로지스틱 회귀의 수식은 다음과 같습니다:\n",
        "  \\[ \\hat{y} = \\frac{1}{1 + e^{-(wx + b)}} \\]"
      ],
      "id": "_cwxU1wYp8WH"
    },
    {
      "cell_type": "code",
      "execution_count": 65,
      "metadata": {
        "colab": {
          "base_uri": "https://localhost:8080/"
        },
        "id": "1OQjm071p8WH",
        "outputId": "7ca5640c-43eb-4f34-9b68-b52f99c9dce5"
      },
      "outputs": [
        {
          "output_type": "stream",
          "name": "stdout",
          "text": [
            "로지스틱 회귀 예측 결과: [0 0 0 1 1]\n"
          ]
        }
      ],
      "source": [
        "# 로지스틱 회귀 구현\n",
        "from sklearn.linear_model import LogisticRegression\n",
        "\n",
        "# 예시 데이터 생성\n",
        "X_example = np.array([[1, 2], [2, 3], [3, 4], [5, 7], [7, 8]])  # 입력 데이터\n",
        "y_example = np.array([0, 0, 0, 1, 1])  # 이진 분류 타깃\n",
        "\n",
        "# 로지스틱 회귀 모델 생성 및 훈련\n",
        "log_reg = LogisticRegression()\n",
        "log_reg.fit(X_example, y_example)\n",
        "\n",
        "# 예측 결과 출력\n",
        "predictions = log_reg.predict(X_example)\n",
        "print('로지스틱 회귀 예측 결과:', predictions)"
      ],
      "id": "1OQjm071p8WH"
    },
    {
      "cell_type": "markdown",
      "metadata": {
        "id": "vkVzeaG9p8WH"
      },
      "source": [
        "## 정리\n",
        "- 퍼셉트론은 이진 분류 문제를 해결하는 간단한 알고리즘으로 계단 함수에 의해 결정됩니다.\n",
        "- 로지스틱 회귀는 확률적인 예측을 수행하며, 로지스틱 함수를 사용해 확률을 계산합니다.\n",
        "- 이 두 가지 방법 모두 인공 지능과 머신러닝에서 중요한 분류 알고리즘으로 활용됩니다."
      ],
      "id": "vkVzeaG9p8WH"
    },
    {
      "cell_type": "markdown",
      "metadata": {
        "id": "JpqYZPj5p8WH"
      },
      "source": [
        "# 아달린(ADALINE) 알고리즘\n",
        "이번 장에서는 퍼셉트론을 확장한 아달린(Adaptive Linear Neuron, ADALINE)에 대해 알아보겠습니다."
      ],
      "id": "JpqYZPj5p8WH"
    },
    {
      "cell_type": "markdown",
      "metadata": {
        "id": "fX0Zyp5Zp8WH"
      },
      "source": [
        "## 아달린의 원리\n",
        "- 아달린은 1960년 Bernard Widrow와 Ted Hoff에 의해 개발된 알고리즘입니다.\n",
        "- 퍼셉트론과 달리 아달린은 예측값과 실제 값의 차이를 최소화하기 위해 손실 함수를 사용하는 선형 모델입니다.\n",
        "- 가중치 업데이트 과정은 선형 회귀와 유사하지만, 아달린은 전체 입력 데이터에 대해 가중치를 조정합니다."
      ],
      "id": "fX0Zyp5Zp8WH"
    },
    {
      "cell_type": "markdown",
      "metadata": {
        "id": "8vAKmlf3p8WH"
      },
      "source": [
        "### 아달린의 손실 함수\n",
        "- 아달린은 예측값과 실제 값 사이의 오차를 최소화하기 위해 손실 함수를 사용합니다.\n",
        "- 가장 일반적으로 사용되는 손실 함수는 평균 제곱 오차(Mean Squared Error, MSE)로 다음과 같이 정의됩니다:\n",
        "\\[ MSE = \\frac{1}{2}(y - \\hat{y})^2 \\]\n",
        "여기서 \\(y\\)는 실제 값, \\(\\hat{y}\\)는 예측값입니다."
      ],
      "id": "8vAKmlf3p8WH"
    },
    {
      "cell_type": "code",
      "execution_count": 66,
      "metadata": {
        "id": "QP7hSlBfp8WI"
      },
      "outputs": [],
      "source": [
        "# 아달린 알고리즘 구현\n",
        "import numpy as np\n",
        "\n",
        "class Adaline:\n",
        "    def __init__(self, learning_rate=0.01, epochs=100):\n",
        "        self.learning_rate = learning_rate\n",
        "        self.epochs = epochs\n",
        "        self.w = None\n",
        "        self.b = None\n",
        "\n",
        "    def fit(self, X, y):\n",
        "        n_samples, n_features = X.shape\n",
        "        self.w = np.zeros(n_features)  # 가중치 초기화\n",
        "        self.b = 0  # 절편 초기화\n",
        "\n",
        "        for _ in range(self.epochs):\n",
        "            y_hat = self.net_input(X)\n",
        "            errors = y - y_hat\n",
        "            self.w += self.learning_rate * X.T.dot(errors) / n_samples\n",
        "            self.b += self.learning_rate * errors.mean()\n",
        "\n",
        "    def net_input(self, X):\n",
        "        return np.dot(X, self.w) + self.b\n",
        "\n",
        "    def predict(self, X):\n",
        "        return np.where(self.net_input(X) >= 0.0, 1, 0)"
      ],
      "id": "QP7hSlBfp8WI"
    },
    {
      "cell_type": "markdown",
      "metadata": {
        "id": "sh8Z2n13p8WI"
      },
      "source": [
        "## 아달린 모델 테스트\n",
        "이제 아달린 모델을 사용하여 간단한 이진 분류 문제를 해결해 보겠습니다."
      ],
      "id": "sh8Z2n13p8WI"
    },
    {
      "cell_type": "code",
      "execution_count": 67,
      "metadata": {
        "colab": {
          "base_uri": "https://localhost:8080/"
        },
        "id": "UXX1gCjYp8WI",
        "outputId": "595b7aff-18bd-4a08-a17f-17e344891eff"
      },
      "outputs": [
        {
          "output_type": "stream",
          "name": "stdout",
          "text": [
            "아달린 예측 결과: [1 1 1 1 1]\n"
          ]
        }
      ],
      "source": [
        "# 데이터 생성 및 모델 훈련\n",
        "X_example = np.array([[1, 2], [2, 3], [3, 4], [5, 7], [7, 8]])  # 입력 데이터\n",
        "y_example = np.array([0, 0, 0, 1, 1])  # 이진 분류 타깃\n",
        "\n",
        "# 아달린 모델 생성 및 훈련\n",
        "adaline = Adaline(learning_rate=0.01, epochs=100)\n",
        "adaline.fit(X_example, y_example)\n",
        "\n",
        "# 예측 결과 출력\n",
        "predictions = adaline.predict(X_example)\n",
        "print('아달린 예측 결과:', predictions)"
      ],
      "id": "UXX1gCjYp8WI"
    },
    {
      "cell_type": "markdown",
      "metadata": {
        "id": "RjJGuKCLp8WI"
      },
      "source": [
        "## 정리\n",
        "- 아달린은 퍼셉트론과 달리 선형 함수와 평균 제곱 오차(MSE)를 기반으로 가중치를 업데이트하는 알고리즘입니다.\n",
        "- 이로 인해 더 부드럽게 가중치 조정이 가능하며, 퍼셉트론보다 안정적인 학습이 가능합니다."
      ],
      "id": "RjJGuKCLp8WI"
    },
    {
      "cell_type": "markdown",
      "metadata": {
        "id": "PLFQC00qp8WI"
      },
      "source": [
        "# 로지스틱 회귀(Logistic Regression) 알고리즘\n",
        "이번 장에서는 로지스틱 회귀에 대해 알아보고, 이를 활용하여 분류 문제를 해결하는 방법을 구현해보겠습니다."
      ],
      "id": "PLFQC00qp8WI"
    },
    {
      "cell_type": "markdown",
      "metadata": {
        "id": "KZ_mP9twp8WI"
      },
      "source": [
        "## 로지스틱 회귀의 원리\n",
        "- 로지스틱 회귀는 이진 분류를 위한 선형 모델로, 선형 회귀와 달리 시그모이드 함수(sigmoid function)를 사용하여 예측값을 확률로 변환합니다.\n",
        "- 시그모이드 함수는 입력값을 0과 1 사이의 확률 값으로 변환하며, 식은 다음과 같습니다:\n",
        "\\[ \\sigma(z) = \\frac{1}{1 + e^{-z}} \\]\n",
        "여기서 \\( z = wx + b \\)는 선형 회귀의 예측 값입니다."
      ],
      "id": "KZ_mP9twp8WI"
    },
    {
      "cell_type": "markdown",
      "metadata": {
        "id": "Y2mHc81vp8WI"
      },
      "source": [
        "## 로지스틱 회귀의 예측\n",
        "- 로지스틱 회귀의 예측값은 시그모이드 함수를 통해 계산되며, 이 값이 0.5 이상이면 1, 그렇지 않으면 0으로 분류됩니다.\n",
        "- 이러한 방식으로 주어진 데이터가 특정 클래스에 속할 확률을 계산하고, 이를 통해 분류 작업을 수행합니다."
      ],
      "id": "Y2mHc81vp8WI"
    },
    {
      "cell_type": "code",
      "execution_count": 68,
      "metadata": {
        "id": "X5bDO7Qzp8WI"
      },
      "outputs": [],
      "source": [
        "# 로지스틱 회귀 알고리즘 구현\n",
        "import numpy as np\n",
        "\n",
        "class LogisticRegressionModel:\n",
        "    def __init__(self, learning_rate=0.01, epochs=100):\n",
        "        self.learning_rate = learning_rate\n",
        "        self.epochs = epochs\n",
        "        self.w = None\n",
        "        self.b = None\n",
        "\n",
        "    def sigmoid(self, z):\n",
        "        return 1 / (1 + np.exp(-z))  # 시그모이드 함수 구현\n",
        "\n",
        "    def fit(self, X, y):\n",
        "        n_samples, n_features = X.shape\n",
        "        self.w = np.zeros(n_features)  # 가중치 초기화\n",
        "        self.b = 0  # 절편 초기화\n",
        "\n",
        "        for _ in range(self.epochs):\n",
        "            linear_output = np.dot(X, self.w) + self.b\n",
        "            y_hat = self.sigmoid(linear_output)\n",
        "            errors = y - y_hat\n",
        "\n",
        "            # 가중치 및 절편 업데이트\n",
        "            self.w += self.learning_rate * np.dot(X.T, errors) / n_samples\n",
        "            self.b += self.learning_rate * errors.mean()\n",
        "\n",
        "    def predict(self, X):\n",
        "        linear_output = np.dot(X, self.w) + self.b\n",
        "        y_hat = self.sigmoid(linear_output)\n",
        "        return np.where(y_hat >= 0.5, 1, 0)"
      ],
      "id": "X5bDO7Qzp8WI"
    },
    {
      "cell_type": "markdown",
      "metadata": {
        "id": "ZMmGgvssp8WI"
      },
      "source": [
        "## 로지스틱 회귀 모델 테스트\n",
        "이제 로지스틱 회귀 모델을 사용하여 간단한 이진 분류 문제를 해결해 보겠습니다."
      ],
      "id": "ZMmGgvssp8WI"
    },
    {
      "cell_type": "code",
      "execution_count": 69,
      "metadata": {
        "colab": {
          "base_uri": "https://localhost:8080/"
        },
        "id": "UKVexZcVp8WI",
        "outputId": "21927ed1-7394-4559-ddfb-780457a10a9f"
      },
      "outputs": [
        {
          "output_type": "stream",
          "name": "stdout",
          "text": [
            "로지스틱 회귀 예측 결과: [0 1 1 1 1]\n"
          ]
        }
      ],
      "source": [
        "# 데이터 생성 및 로지스틱 회귀 모델 훈련\n",
        "X_example = np.array([[1, 2], [2, 3], [3, 4], [5, 7], [7, 8]])  # 입력 데이터\n",
        "y_example = np.array([0, 0, 0, 1, 1])  # 이진 분류 타깃\n",
        "\n",
        "# 로지스틱 회귀 모델 생성 및 훈련\n",
        "logistic_regression_model = LogisticRegressionModel(learning_rate=0.01, epochs=100)\n",
        "logistic_regression_model.fit(X_example, y_example)\n",
        "\n",
        "# 예측 결과 출력\n",
        "predictions = logistic_regression_model.predict(X_example)\n",
        "print('로지스틱 회귀 예측 결과:', predictions)"
      ],
      "id": "UKVexZcVp8WI"
    },
    {
      "cell_type": "markdown",
      "metadata": {
        "id": "UUbARo-Ep8WI"
      },
      "source": [
        "## 정리\n",
        "- 로지스틱 회귀는 선형 회귀와 유사하지만 시그모이드 함수를 통해 예측값을 확률로 변환합니다.\n",
        "- 이로 인해 이진 분류 문제를 효과적으로 해결할 수 있습니다."
      ],
      "id": "UUbARo-Ep8WI"
    },
    {
      "cell_type": "markdown",
      "metadata": {
        "id": "gQNHNUXcp8WI"
      },
      "source": [
        "# 시그모이드 함수와 오즈 비(odds ratio)에 대해 알아봅시다\n",
        "이번 장에서는 로지스틱 회귀에서 사용되는 시그모이드 함수의 역할과 오즈 비의 의미를 설명하고, 시그모이드 함수의 그래프를 그려보겠습니다."
      ],
      "id": "gQNHNUXcp8WI"
    },
    {
      "cell_type": "markdown",
      "metadata": {
        "id": "87WLcsB_p8WI"
      },
      "source": [
        "## 시그모이드 함수의 정의\n",
        "- 시그모이드 함수는 로지스틱 회귀에서 예측값을 0과 1 사이의 확률 값으로 변환하는 데 사용됩니다.\n",
        "- 시그모이드 함수의 수식은 다음과 같습니다:\n",
        "\\[ \\sigma(z) = \\frac{1}{1 + e^{-z}} \\]\n",
        "여기서 \\( z \\)는 선형 결합 값인 \\( wx + b \\)를 의미합니다."
      ],
      "id": "87WLcsB_p8WI"
    },
    {
      "cell_type": "markdown",
      "metadata": {
        "id": "8Lmztlxdp8WI"
      },
      "source": [
        "## 오즈 비(odds ratio)와 로짓 함수(logit function)\n",
        "- 오즈 비는 성공 확률과 실패 확률의 비율로 정의되며, 다음과 같이 나타냅니다:\n",
        "\\[ \\text{odds} = \\frac{p}{1-p} \\]\n",
        "여기서 \\(p\\)는 성공 확률을 의미합니다.\n",
        "- 로짓 함수는 오즈 비의 자연 로그를 취한 값으로, 다음과 같이 표현됩니다:\n",
        "\\[ \\text{logit}(p) = \\log\\left(\\frac{p}{1-p}\\right) \\]"
      ],
      "id": "8Lmztlxdp8WI"
    },
    {
      "cell_type": "markdown",
      "metadata": {
        "id": "gILJibGIp8WI"
      },
      "source": [
        "## 시그모이드 함수의 그래프 그리기\n",
        "시그모이드 함수의 형태를 시각화하여 그 특성을 확인해보겠습니다."
      ],
      "id": "gILJibGIp8WI"
    },
    {
      "cell_type": "code",
      "execution_count": 70,
      "metadata": {
        "colab": {
          "base_uri": "https://localhost:8080/",
          "height": 472
        },
        "id": "5VudbdA8p8WI",
        "outputId": "79b31e74-eb9d-4829-dcf5-c8bdf11eccf0"
      },
      "outputs": [
        {
          "output_type": "display_data",
          "data": {
            "text/plain": [
              "<Figure size 640x480 with 1 Axes>"
            ],
            "image/png": "[encoded data removed]"
          },
          "metadata": {}
        }
      ],
      "source": [
        "# 시그모이드 함수 구현 및 그래프 그리기\n",
        "import numpy as np\n",
        "import matplotlib.pyplot as plt\n",
        "\n",
        "# 시그모이드 함수 정의\n",
        "def sigmoid(z):\n",
        "    return 1 / (1 + np.exp(-z))\n",
        "\n",
        "# 입력 값의 범위 설정\n",
        "z_values = np.linspace(-10, 10, 200)\n",
        "sigmoid_values = sigmoid(z_values)\n",
        "\n",
        "# 시그모이드 함수 그래프 그리기\n",
        "plt.plot(z_values, sigmoid_values, label='Sigmoid Function')\n",
        "plt.axhline(0.5, color='gray', linestyle='--', label='0.5 Probability')\n",
        "plt.title('Sigmoid Function Graph')\n",
        "plt.xlabel('z')\n",
        "plt.ylabel('sigmoid(z)')\n",
        "plt.legend()\n",
        "plt.grid(True)\n",
        "plt.show()"
      ],
      "id": "5VudbdA8p8WI"
    },
    {
      "cell_type": "markdown",
      "metadata": {
        "id": "VTsa7Tezp8WI"
      },
      "source": [
        "## 정리\n",
        "- 시그모이드 함수는 로지스틱 회귀에서 확률을 예측하기 위한 중요한 역할을 합니다.\n",
        "- 오즈 비와 로짓 함수는 확률을 로그 척도로 변환하는 데 사용되며, 시그모이드 함수의 반전된 형태입니다."
      ],
      "id": "VTsa7Tezp8WI"
    }
  ],
  "metadata": {
    "kernelspec": {
      "display_name": "Python 3",
      "language": "python",
      "name": "python3"
    },
    "language_info": {
      "codemirror_mode": {
        "name": "ipython",
        "version": 3
      },
      "file_extension": ".py",
      "mimetype": "text/x-python",
      "name": "python",
      "nbconvert_exporter": "python",
      "pygments_lexer": "ipython3",
      "version": "3.8"
    },
    "colab": {
      "provenance": [],
      "include_colab_link": true
    }
  },
  "nbformat": 4,
  "nbformat_minor": 5
}